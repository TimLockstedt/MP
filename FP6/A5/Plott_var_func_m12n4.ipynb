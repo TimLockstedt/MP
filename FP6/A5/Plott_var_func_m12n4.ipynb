{
 "cells": [
  {
   "cell_type": "code",
   "execution_count": 20,
   "metadata": {},
   "outputs": [],
   "source": [
    "# <examples/doc_model_two_components.py>\n",
    "import json\n",
    "import pickle\n",
    "import numpy as np\n",
    "import matplotlib.pyplot as plt\n",
    "from numpy import exp, loadtxt, pi, sqrt\n",
    "from lmfit import Model\n",
    "from lmfit.models import PowerLawModel, ExponentialModel, GaussianModel\n",
    "from lib.to_precision import to_precision\n",
    "import lmfit\n",
    "from sympy import *\n",
    "import sympy\n",
    "from sympy.solvers import solve\n",
    "from sympy import Symbol\n",
    "import math\n",
    "import datetime\n",
    "from ipywidgets import interact, FloatText, IntText, fixed, Text\n",
    "now = lambda: str(datetime.datetime.now()).replace(\"-\", \"\").replace(\":\", \"\").replace(\" \", \"_\").split(\".\")[0]\n",
    "import inspect"
   ]
  },
  {
   "cell_type": "code",
   "execution_count": 21,
   "metadata": {
    "notebookRunGroups": {
     "groupValue": "2"
    }
   },
   "outputs": [],
   "source": [
    "# def get_Latex_Func(func):\n",
    "#     # Get the source code of the function\n",
    "#     source_lines = inspect.getsource(func).split('\\n')\n",
    "\n",
    "#     # Find the return statement\n",
    "#     return_line = [line for line in source_lines if 'return' in line][0]\n",
    "\n",
    "#     # Extract the expression after 'return'\n",
    "#     expr = return_line.split('return')[1].strip()\n",
    "    \n",
    "#     tatex_func = sympy.latex(sympy.sympify(expr))\n",
    "#     strg = (\n",
    "#         \"\\\\begin{align} \\n \\t f(x) = \" + tatex_func + \"\\n\" + \"\\end{align} \\n\"\n",
    "#     )\n",
    "#     return strg\n",
    "\n",
    "\n",
    "def get_Latex_Func(func):\n",
    "    # Get the source code of the function\n",
    "    source_lines = inspect.getsource(func).split('\\n')\n",
    "    \n",
    "    # Find the return statement\n",
    "    return_line = [line for line in source_lines if 'return' in line][0].strip()\n",
    "    \n",
    "    # Extract the expression after 'return'\n",
    "    expr = return_line.split('return')[1].strip()\n",
    "    \n",
    "    # Extract variable names from the function's signature\n",
    "    \n",
    "    sig = inspect.signature(func)\n",
    "    param_names = list(sig.parameters.keys())\n",
    "    \n",
    "    # Create sympy symbols for all parameters\n",
    "    symbols = sympy.symbols(' '.join(param_names))\n",
    "    \n",
    "    # Create a local dictionary of symbols\n",
    "    local_dict = dict(zip(param_names, symbols))\n",
    "    \n",
    "    # Add numpy and math functions to the local dictionary\n",
    "    local_dict.update({\n",
    "        'sqrt': sympy.sqrt,\n",
    "        'exp': sympy.exp,\n",
    "        'pi': sympy.pi\n",
    "    })\n",
    "    \n",
    "    # Convert the expression to a SymPy expression\n",
    "    sympy_expr = sympy.parsing.sympy_parser.parse_expr(\n",
    "        expr.replace('np.', '').replace('math.', ''), \n",
    "        local_dict=local_dict\n",
    "    )\n",
    "    \n",
    "    # Convert to LaTeX\n",
    "    tatex_func = sympy.latex(sympy_expr)\n",
    "    \n",
    "    strg = (\n",
    "        \"\\\\begin{align} \\n \\t f(\" + \", \".join(param_names) + \") = \" + tatex_func + \"\\n\" + \"\\\\end{align} \\n\"\n",
    "    )\n",
    "    return strg\n",
    "\n",
    "\n",
    "\n",
    "\n",
    "def save_data_to_file(filename='data.pkl'):\n",
    "    # Dictionary für Parameter-Werte erstellen\n",
    "    data_dict = {\"x\":Daten.get_x(),\"xerr\":Daten.get_xerr(),\"y\":Daten.get_y(),\"yerr\":Daten.get_yerr(),\"XName\":Daten.get_XName(),\"YName\":Daten.get_YName()}\n",
    "    # Konvertiere alle Numpy-Arrays im Dictionary in Listen\n",
    "    # dict_serializable = {key: value.tolist() if isinstance(value, np.ndarray) else value \n",
    "    #                      for key, value in data_dict.items()}\n",
    "    # __x = []\n",
    "    # __y = []\n",
    "    # __xerr = 0\n",
    "    # __yerr = 0\n",
    "    # __XName = \"x\"\n",
    "    # __YName = \"y\"\n",
    "    # __FileName = \"dataset_1\"\n",
    "\n",
    "    # Parameter als JSON-Datei speichern\n",
    "    with open(filename, 'wb') as f:\n",
    "        pickle.dump(data_dict, f)\n",
    "    print(f\"Daten wurden in {filename} gespeichert.\")\n",
    "\n",
    "# Funktion zum Einlesen der Parameter aus einer JSON-Datei\n",
    "def load_data_from_file(filename='params.pkl'):\n",
    "    # JSON-Datei öffnen und die Werte lesen\n",
    "    with open(filename, 'rb') as f:\n",
    "        data_dict = pickle.load(f)\n",
    "    \n",
    "    # # Konvertiere Listen zurück in Numpy-Arrays\n",
    "    # data_dict= {key: np.array(value) if isinstance(value, list) else value\n",
    "    #                     for key, value in dict_with_arrays.items()}\n",
    "\n",
    "    # Geladene Werte in die Parameter setzen\n",
    "    Daten.set_x(data_dict.get(\"x\"))\n",
    "    Daten.set_xerr(data_dict.get(\"xerr\"))\n",
    "    Daten.set_y(data_dict.get(\"y\"))\n",
    "    Daten.set_yerr(data_dict.get(\"yerr\"))\n",
    "    Daten.set_XName(data_dict.get(\"XName\"))\n",
    "    Daten.set_YName(data_dict.get(\"YName\"))\n",
    "\n",
    "    print(f\"Daten wurden aus {filename} geladen.\")\n",
    "\n",
    "def finish(x,y,result, string, y_err, yLabel, xLabel, var_func_bool= False):\n",
    "    fig = plt.figure(figsize=(9,6), dpi=80)\n",
    "    dynamic_resolution_array = np.arange(min(x),max(x), 0.001*abs(max(x)-min(x)))\n",
    "    #plt.plot(x, y, 'skyblue')\n",
    "    plt.plot(dynamic_resolution_array, result.eval(x = dynamic_resolution_array), 'r-', label = r'Fit: reduced $\\chi^2$ =  '+str(to_precision(result.result.redchi,3)))\n",
    "    plt.errorbar(\n",
    "        y = y, \n",
    "        x = x, \n",
    "        yerr = y_err,\n",
    "        fmt = 'o', markersize = 3.5, alpha = 1, mfc = 'black', c = 'skyblue', zorder = 0, label = r'Werte'\n",
    "        ) #xerr = x_err, yerr = y_err, \n",
    "    plt.legend(loc='best')\n",
    "\n",
    "    plt.ylabel(yLabel, fontsize=20)\n",
    "    plt.xlabel(xLabel, fontsize=20)\n",
    "\n",
    "    plt.legend(fontsize=12)\n",
    "    plt.xticks(fontsize=16)\n",
    "    plt.yticks(fontsize=16)\n",
    "    plt.tight_layout()\n",
    "    string += Daten.get_Version()\n",
    "    fig.savefig(string + \"_Fit.pdf\")\n",
    "    plt.show()\n",
    "\n",
    "    string_fig = \"\\\\begin{figure}[ht] \\n \\t\\\\centering \\n \\t\\\\includegraphics[width= 0.65 \\\\textwidth]{Fits/\" + string + \"_Fit.pdf} \\n\" \\\n",
    "        + \"\\t\\\\caption{\"+str(string)+\", Fit} \\n \\t\\\\label{fig:\"+str(string)+\", Fit} \\n\\end{figure}\"\n",
    "    print(string_fig)\n",
    "\n",
    "    text_file = open(string+\"_params\"+\".tex\", \"w+\", encoding=\"utf-8\")\n",
    "    string_fig += \"\\n \\\\\\\\ \\n\" \n",
    "    string_fig += get_Latex_Func(Daten.get_func()) if var_func_bool else \"\"\n",
    "    string_fig += table_of_params(result)\n",
    "    text_file.write(string_fig)\n",
    "    text_file.close()\n",
    "\n",
    "def table_of_params(result_of_fit):\n",
    "    sig_num = 3\n",
    "    string = \"\" + (\n",
    "        \"\\\\begin{table}[ht] \\n\"\n",
    "        \"\\centering \\n\") +\"\\caption{\" + str(Daten.get_FileName()) +\", Fit Parameter Tabelle} \\n\"  + (\n",
    "        \"\\label{tab:my-table}\\n\"\n",
    "        \"\\\\begin{tabular}{|l|c|}\\n\" \n",
    "        \"\\hline\\n\"\n",
    "        \"Parameter Name\\t&\\tWert \\\\\\\\ \\hline\\n\"\n",
    "    )\n",
    "    for i in result_of_fit.params:\n",
    "        str_param_val = f\"{float(result_of_fit.params[i].value): .{(len(str(math.floor(result_of_fit.params[i].value))) if math.floor(result_of_fit.params[i].value) != 0 else 0) +sig_num}}\" \n",
    "        str_param_std = f\"{float(result_of_fit.params[i].stderr): .{(len(str(math.floor(result_of_fit.params[i].stderr))) if math.floor(result_of_fit.params[i].stderr) != 0 else 0) +sig_num}}\" \n",
    "        string += (\n",
    "            str(i) + \"\\t&\\t\" +\n",
    "            str_param_val +\n",
    "            (\"\" if \".\" in str_param_val  else \".\")+\n",
    "            (\"0\"*((len(str(math.floor(result_of_fit.params[i].value))) if math.floor(result_of_fit.params[i].value) != 0 else 0) +sig_num+2 -len(f\"{float(result_of_fit.params[i].value): .{(len(str(math.floor(result_of_fit.params[i].value))) if math.floor(result_of_fit.params[i].value) != 0 else 0) +sig_num}}\"))) +\n",
    "            \" \\\\pm \"+ \n",
    "            str_param_std +\n",
    "            (\"\" if \".\" in str_param_std else \".\")+\n",
    "            (\"0\"*((len(str(math.floor(result_of_fit.params[i].stderr))) if math.floor(result_of_fit.params[i].stderr) != 0 else 0) +sig_num+2-len(f\"{float(result_of_fit.params[i].stderr): .{(len(str(math.floor(result_of_fit.params[i].stderr))) if math.floor(result_of_fit.params[i].stderr) != 0 else 0) +sig_num}}\"))) +\n",
    "            \"\\\\\\\\ \\hline\\n\"\n",
    "        )\n",
    "    string += (\n",
    "        \"\\end{tabular} \\n\"\n",
    "        \"\\end{table}\"\n",
    "    )\n",
    "    return string\n",
    "\n",
    "\n",
    "class Data:\n",
    "    __x = []\n",
    "    __y = []\n",
    "    __xerr = 0\n",
    "    __yerr = 0\n",
    "    __XName = \"x\"\n",
    "    __YName = \"y\"\n",
    "    __FileName = \"dataset_1\",\n",
    "    __Version = \"\"\n",
    "    __pars = None\n",
    "    __func = None\n",
    "    \n",
    "    def set_func(self, x):\n",
    "        self.__func = x\n",
    "        return\n",
    "    def get_func(self):\n",
    "        return self.__func\n",
    "\n",
    "    def set_x(self, x):\n",
    "        self.__x = x\n",
    "        return  \n",
    "    def set_y(self, x):\n",
    "        self.__y = x\n",
    "        return  \n",
    "    def set_yerr(self, x):\n",
    "        self.__yerr = x\n",
    "        return  \n",
    "    def set_xerr(self, x):\n",
    "        self.__xerr = x\n",
    "        return  \n",
    "    \n",
    "    def get_x(self):\n",
    "        return self.__x\n",
    "    def get_y(self):\n",
    "        return self.__y\n",
    "    def get_xerr(self):\n",
    "        return self.__xerr\n",
    "    def get_yerr(self):\n",
    "        return self.__yerr\n",
    "    \n",
    "    def set_XName(self, x):\n",
    "        self.__XName = rf\"{x}\"\n",
    "        return\n",
    "    def set_YName(self, x):\n",
    "        self.__YName = rf\"{x}\"\n",
    "        return\n",
    "    def get_XName(self):\n",
    "        return self.__XName\n",
    "    def get_YName(self):\n",
    "        return self.__YName\n",
    "    \n",
    "    def get_FileName(self):\n",
    "        return self.__FileName\n",
    "    \n",
    "    def set_FileName(self, x):\n",
    "        self.__FileName = f\"{x}\"\n",
    "        return\n",
    "    def set_Version(self, x):\n",
    "        self.__Version = f\"{x}\"\n",
    "        return\n",
    "    def get_Version(self):\n",
    "        return self.__Version\n",
    "    \n",
    "    def get_pars(self):\n",
    "        return self.__pars\n",
    "    def set_pars(self,x):\n",
    "        self.__pars = x\n",
    "        return\n",
    "\n",
    "def import_Data(Datei:str=\"dataset_1\", x_err_bool = False, y_err_bool = False, Daten=Data(), skip_lower:str=\"0\", skip_upper:str=\"0\", x_name:str=\"x\", y_name:str=\"y\", save_bool=False,Save:int=0,Load:int=0,switch_axes:bool=False,show_plot:bool=True):\n",
    "    data = np.genfromtxt(Datei+\".txt\", skip_header = int(skip_upper), skip_footer = int(skip_lower))\n",
    "    #data = np.genfromtxt(string+\".txt\", skip_header = 1, skip_footer = 18)\n",
    "\n",
    "    if x_err_bool and y_err_bool:\n",
    "        Daten.set_x(data[:,0])\n",
    "        Daten.set_xerr(data[:, 1])\n",
    "        Daten.set_y(data[:, 2])\n",
    "        Daten.set_yerr(data[:, 3])\n",
    "    elif x_err_bool and not y_err_bool:\n",
    "        Daten.set_x(data[:,0])\n",
    "        Daten.set_xerr(data[:, 1])\n",
    "        Daten.set_y(data[:, 2])\n",
    "        Daten.set_yerr(0)\n",
    "    elif not x_err_bool and y_err_bool:\n",
    "        Daten.set_x(data[:,0])\n",
    "        Daten.set_xerr(0)\n",
    "        Daten.set_y(data[:, 1])\n",
    "        Daten.set_yerr(data[:, 2])\n",
    "    elif not x_err_bool and not y_err_bool:\n",
    "        Daten.set_x(data[:,0])\n",
    "        Daten.set_xerr(0)\n",
    "        Daten.set_y(data[:, 1])\n",
    "        Daten.set_yerr(0)\n",
    "    \n",
    "    Daten.set_XName(x_name)\n",
    "    Daten.set_YName(y_name)\n",
    "    Daten.set_FileName(Datei)\n",
    "\n",
    "    if switch_axes:\n",
    "        temp = [Daten.get_x(), Daten.get_xerr()]\n",
    "        Daten.set_x(Daten.get_y())\n",
    "        Daten.set_xerr(Daten.get_yerr())\n",
    "        Daten.set_y(temp[0])\n",
    "        Daten.set_yerr(temp[1])\n",
    "        \n",
    "    if Save != 0:\n",
    "        # Aufruf der Funktion zum Speichern\n",
    "        save_data_to_file(f'{Daten.get_FileName()}_daten_{Save}.pkl')\n",
    "    if Load != 0:\n",
    "        # Aufruf der Funktion zum Laden\n",
    "        load_data_from_file(f'{Daten.get_FileName()}_daten_{Load}.pkl')\n",
    "\n",
    "    if show_plot:\n",
    "        plt.errorbar(y = Daten.get_y(), yerr = Daten.get_yerr(), x = Daten.get_x(), xerr = Daten.get_xerr(), \\\n",
    "            fmt = 'o', markersize = 3.5, alpha = 1, mfc = 'black', c = 'skyblue', zorder = 0, \\\n",
    "            label = r'Werte')\n",
    "        plt.legend(loc='best')\n",
    "        plt.ylabel(Daten.get_YName(), fontsize=20)\n",
    "        plt.xlabel(Daten.get_XName(), fontsize=20)\n",
    "        plt.xticks(fontsize=13)\n",
    "        plt.yticks(fontsize=13)\n",
    "        plt.tight_layout()\n",
    "        if save_bool:\n",
    "            plt.savefig(Datei + f\"_{Load}_Plot.pdf\")\n",
    "            string_fig = \"\\\\begin{figure}[ht] \\n \\t\\\\centering \\n \\t\\\\includegraphics[width= 0.65 \\\\textwidth]{bilder/\" + Datei + \"_Plot.pdf} \\n\" \\\n",
    "                + \"\\t\\\\caption{\"+str(Datei)+\", Plot_log} \\n \\t\\\\label{fig:\"+str(Datei)+\", Plot_log} \\n\\end{figure}\"\n",
    "            print(string_fig)\n",
    "\n",
    "        plt.show()\n",
    "\n",
    "\n",
    "\n",
    "# Funktion zum Speichern der Parameter in einer JSON-Datei\n",
    "def save_params_to_file(params, filename='params.json'):\n",
    "    # Dictionary für Parameter-Werte erstellen\n",
    "    params_dict = {name: param.value for name, param in params.items()}\n",
    "    \n",
    "    # Parameter als JSON-Datei speichern\n",
    "    with open(filename, 'w') as f:\n",
    "        json.dump(params_dict, f)\n",
    "    print(f\"Parameter wurden in {filename} gespeichert.\")\n",
    "\n",
    "# Funktion zum Einlesen der Parameter aus einer JSON-Datei\n",
    "def load_params_from_file(params, filename='params.json'):\n",
    "    # JSON-Datei öffnen und die Werte lesen\n",
    "    with open(filename, 'r') as f:\n",
    "        params_dict = json.load(f)\n",
    "\n",
    "    # Geladene Werte in die Parameter setzen\n",
    "    for name, value in params_dict.items():\n",
    "        if name in params:\n",
    "            params[name].value = value\n",
    "        else:\n",
    "            print(f\"Warnung: Parameter {name} existiert nicht im aktuellen Modell.\")\n",
    "\n",
    "    print(f\"Parameter wurden aus {filename} geladen.\")\n",
    "\n",
    "def update_model(Save:int=0, Load:int=0, **params):\n",
    "    # Setze die Werte der Parameter\n",
    "    for name, value in params.items():\n",
    "        pars[name].value = value\n",
    "    if Save != 0:\n",
    "        # Aufruf der Funktion zum Speichern\n",
    "        save_params_to_file(pars, f'{Daten.get_FileName()}_params_{Save}.json')\n",
    "        Daten.set_Version(Save)\n",
    "    if Load != 0:\n",
    "        load_params_from_file(pars, f'{Daten.get_FileName()}_params_{Load}.json')\n",
    "        Daten.set_Version(Load)\n",
    "\n",
    "    # Berechne Modell mit aktuellen Parametern\n",
    "    x = Daten.get_x()\n",
    "    x_fit = np.arange(x.min(), x.max(), (x.max() - x.min())/10000)\n",
    "    y_fit = mod.eval(pars, x=x_fit)\n",
    "\n",
    "    # Plotten der Daten und des Modells\n",
    "    plt.figure(figsize=(8, 6))\n",
    "    plt.errorbar(y = Daten.get_y(), yerr = Daten.get_yerr(), x = Daten.get_x(), xerr = Daten.get_xerr(), \\\n",
    "        fmt = 'o', markersize = 3.5, alpha = 1, mfc = 'black', c = 'skyblue', zorder = 0, \\\n",
    "        label = r'Werte')\n",
    "    \n",
    "    plt.plot(x_fit, y_fit, label=\"Modell\", color='red')\n",
    "    plt.legend()\n",
    "    plt.ylabel(Daten.get_YName(), fontsize=20)\n",
    "    plt.xlabel(Daten.get_XName(), fontsize=20)\n",
    "    plt.title('Models')\n",
    "    result = mod.fit(Daten.get_y(), pars, x=Daten.get_x())\n",
    "    Daten.set_pars(result)\n",
    "    dynamic_resolution_array = np.arange(min(Daten.get_x()),max(Daten.get_x()), 0.001*abs(max(Daten.get_x())-min(Daten.get_x())))\n",
    "    plt.plot(dynamic_resolution_array, result.eval(x = dynamic_resolution_array), 'b-', label = r'Fit: reduced $\\chi^2$ =  '+str(to_precision(result.result.redchi,3)))\n",
    "    plt.tight_layout()\n",
    "    plt.show()\n",
    "    "
   ]
  },
  {
   "cell_type": "markdown",
   "metadata": {},
   "source": [
    "## Interactive"
   ]
  },
  {
   "cell_type": "code",
   "execution_count": 22,
   "metadata": {},
   "outputs": [],
   "source": [
    "import pandas as pd\n",
    "\n",
    "\n",
    "# Einlesen mit pandas\n",
    "df = pd.read_csv('m_12n4.csv', sep=';', header=None)\n",
    "\n",
    "# Umwandlung in numpy arrays\n",
    "spalte1 = df[0].to_numpy()\n",
    "spalte2 = df[1].to_numpy()\n"
   ]
  },
  {
   "cell_type": "code",
   "execution_count": 23,
   "metadata": {},
   "outputs": [
    {
     "data": {
      "text/plain": [
       "2450"
      ]
     },
     "execution_count": 23,
     "metadata": {},
     "output_type": "execute_result"
    },
    {
     "data": {
      "image/png": "[encoded data removed]",
      "text/plain": [
       "<Figure size 640x480 with 1 Axes>"
      ]
     },
     "metadata": {},
     "output_type": "display_data"
    }
   ],
   "source": [
    "times = []\n",
    "for i, spalt1 in enumerate(spalte1):\n",
    "    if spalt1 == 2 and spalte2[i] > 40:\n",
    "        if np.absolute(spalte2[i-1]-spalte2[i]) <= 10 and spalte1[i-1] == 1: \n",
    "            times.append(spalte2[i])\n",
    "        elif np.absolute(spalte2[i+1]-spalte2[i]) <= 10 and spalte1[i+1] == 1:\n",
    "            times.append(spalte2[i])\n",
    "plt.hist(times, 100)\n",
    "len(times)"
   ]
  },
  {
   "cell_type": "code",
   "execution_count": 24,
   "metadata": {},
   "outputs": [
    {
     "data": {
      "text/plain": [
       "(array([ 0.41  ,  0.6052,  0.8004,  0.9956,  1.1908,  1.386 ,  1.5812,\n",
       "         1.7764,  1.9716,  2.1668,  2.362 ,  2.5572,  2.7524,  2.9476,\n",
       "         3.1428,  3.338 ,  3.5332,  3.7284,  3.9236,  4.1188,  4.314 ,\n",
       "         4.5092,  4.7044,  4.8996,  5.0948,  5.29  ,  5.4852,  5.6804,\n",
       "         5.8756,  6.0708,  6.266 ,  6.4612,  6.6564,  6.8516,  7.0468,\n",
       "         7.242 ,  7.4372,  7.6324,  7.8276,  8.0228,  8.218 ,  8.4132,\n",
       "         8.6084,  8.8036,  8.9988,  9.194 ,  9.3892,  9.5844,  9.7796,\n",
       "         9.9748, 10.17  , 10.3652, 10.5604, 10.7556, 10.9508, 11.146 ,\n",
       "        11.3412, 11.5364, 11.7316, 11.9268, 12.122 , 12.3172, 12.5124,\n",
       "        12.7076, 12.9028, 13.098 , 13.2932, 13.4884, 13.6836, 13.8788,\n",
       "        14.074 , 14.2692, 14.4644, 14.6596, 14.8548, 15.05  , 15.2452,\n",
       "        15.4404, 15.6356, 15.8308, 16.026 , 16.2212, 16.4164, 16.6116,\n",
       "        16.8068, 17.002 , 17.1972, 17.3924, 17.5876, 17.7828, 17.978 ,\n",
       "        18.1732, 18.3684, 18.5636, 18.7588, 18.954 , 19.1492, 19.3444,\n",
       "        19.5396, 19.7348, 19.93  ]),\n",
       " array([248, 343, 134, 123, 105,  93,  88,  67,  62,  63,  50,  52,  48,\n",
       "         46,  46,  51,  21,  32,  36,  27,  18,  28,  27,  18,  18,  13,\n",
       "         22,  14,  17,  15,  14,  15,  15,  17,  16,  12,  13,  10,   9,\n",
       "          8,  14,  10,   7,   8,  10,   8,   8,   6,   3,   3,   7,   9,\n",
       "          5,   7,  10,  11,   7,   5,   4,   5,   3,   8,  10,  10,   5,\n",
       "          9,   7,   8,   4,   8,   9,   9,   1,   3,   3,   6,   4,  10,\n",
       "          2,   7,   6,   4,   6,   4,   8,   5,   3,  10,   5,   5,  12,\n",
       "          3,   7,   9,   4,   8,   5,   4,   9,   6], dtype=int64))"
      ]
     },
     "execution_count": 24,
     "metadata": {},
     "output_type": "execute_result"
    }
   ],
   "source": [
    "data_hist = np.histogram(np.array(times)/100, 100)\n",
    "x_hist = data_hist[1]\n",
    "y_hist = data_hist[0]\n",
    "x_hist, y_hist"
   ]
  },
  {
   "cell_type": "code",
   "execution_count": 25,
   "metadata": {},
   "outputs": [],
   "source": [
    "Daten = Data()\n",
    "Daten.set_FileName(\"m12n4\")\n",
    "Daten.set_x(x_hist[:-1])\n",
    "Daten.set_xerr(0)\n",
    "Daten.set_y(y_hist)\n",
    "Daten.set_yerr(0)\n",
    "Daten.set_XName(r\"Lifetime [$\\mu$s]\")\n",
    "Daten.set_YName(\"Counts\")"
   ]
  },
  {
   "cell_type": "markdown",
   "metadata": {},
   "source": [
    "## Fit-Funktionen festlegen"
   ]
  },
  {
   "cell_type": "code",
   "execution_count": 26,
   "metadata": {},
   "outputs": [
    {
     "data": {
      "text/html": [
       "<table class=\"jp-toc-ignore\"><caption>Parameters</caption><tr><th style='text-align:left'>name</th><th style='text-align:left'>value</th><th style='text-align:left'>initial value</th><th style='text-align:left'>min</th><th style='text-align:left'>max</th><th style='text-align:right'>vary</th></tr><tr><td style='text-align:left'>amplitude</td><td style='text-align:left'> 1.00000000</td><td style='text-align:left'>None</td><td style='text-align:left'>       -inf</td><td style='text-align:left'>        inf</td><td style='text-align:right'>True</td></tr><tr><td style='text-align:left'>decay</td><td style='text-align:left'> 1.00000000</td><td style='text-align:left'>None</td><td style='text-align:left'>       -inf</td><td style='text-align:left'>        inf</td><td style='text-align:right'>True</td></tr></table>"
      ],
      "text/plain": [
       "Parameters([('amplitude', <Parameter 'amplitude', value=1, bounds=[-inf:inf]>), ('decay', <Parameter 'decay', value=1, bounds=[-inf:inf]>)])"
      ]
     },
     "execution_count": 26,
     "metadata": {},
     "output_type": "execute_result"
    }
   ],
   "source": [
    "from lmfit.models import PowerLawModel, ExponentialModel, GaussianModel, Model\n",
    "\n",
    "# import pylandau\n",
    "\n",
    "# def plot_func(x, mpv=1, eta=1, sigma=1, A=1):\n",
    "#     return pylandau.langau(x, mpv, eta, sigma, A)\n",
    "\n",
    "def plot_func(x, sigma = 1, nu = 1, amplitude=1):\n",
    "    return amplitude/(sigma*np.sqrt(2*math.pi))*np.exp(-1/2*((x-nu)/sigma)**2)\n",
    "\n",
    "Daten.set_func(plot_func)\n",
    "mod = ExponentialModel()\n",
    "\n",
    "pars = mod.make_params()\n",
    "pars"
   ]
  },
  {
   "cell_type": "markdown",
   "metadata": {},
   "source": [
    "## Parameter Festlegen"
   ]
  },
  {
   "cell_type": "code",
   "execution_count": 27,
   "metadata": {},
   "outputs": [],
   "source": [
    "# Funktion zum Speichern der Parameter in einer JSON-Datei\n",
    "def save_params_to_file(params, filename='params.json'):\n",
    "    # Dictionary für Parameter-Werte erstellen\n",
    "    params_dict = {name: param.value for name, param in params.items()}\n",
    "    \n",
    "    # Parameter als JSON-Datei speichern\n",
    "    with open(filename, 'w') as f:\n",
    "        json.dump(params_dict, f)\n",
    "    print(f\"Parameter wurden in {filename} gespeichert.\")\n",
    "\n",
    "# Funktion zum Einlesen der Parameter aus einer JSON-Datei\n",
    "def load_params_from_file(params, filename='params.json'):\n",
    "    # JSON-Datei öffnen und die Werte lesen\n",
    "    with open(filename, 'r') as f:\n",
    "        params_dict = json.load(f)\n",
    "\n",
    "    # Geladene Werte in die Parameter setzen\n",
    "    for name, value in params_dict.items():\n",
    "        if name in params:\n",
    "            params[name].value = value\n",
    "        else:\n",
    "            print(f\"Warnung: Parameter {name} existiert nicht im aktuellen Modell.\")\n",
    "\n",
    "    print(f\"Parameter wurden aus {filename} geladen.\")\n",
    "\n",
    "def update_model(Save:int=0, Load:int=0, **params):\n",
    "    # Setze die Werte der Parameter\n",
    "    for name, value in params.items():\n",
    "        pars[name].value = value\n",
    "    if Save != 0:\n",
    "        # Aufruf der Funktion zum Speichern\n",
    "        save_params_to_file(pars, f'{Daten.get_FileName()}_params_{Save}.json')\n",
    "        Daten.set_Version(Save)\n",
    "    if Load != 0:\n",
    "        load_params_from_file(pars, f'{Daten.get_FileName()}_params_{Load}.json')\n",
    "        Daten.set_Version(Load)\n",
    "\n",
    "    # Berechne Modell mit aktuellen Parametern\n",
    "    x = Daten.get_x()\n",
    "    x_fit = np.arange(x.min(), x.max(), (x.max() - x.min())/10000)\n",
    "    y_fit = mod.eval(pars, x=x_fit)\n",
    "\n",
    "    # Plotten der Daten und des Modells\n",
    "    plt.figure(figsize=(8, 6))\n",
    "    plt.errorbar(y = Daten.get_y(), yerr = Daten.get_yerr(), x = Daten.get_x(), xerr = Daten.get_xerr(), \\\n",
    "        fmt = 'o', markersize = 3.5, alpha = 1, mfc = 'black', c = 'skyblue', zorder = 0, \\\n",
    "        label = r'Werte')\n",
    "    \n",
    "    plt.plot(x_fit, y_fit, label=\"Modell\", color='red')\n",
    "    plt.legend()\n",
    "    plt.ylabel(Daten.get_YName(), fontsize=20)\n",
    "    plt.xlabel(Daten.get_XName(), fontsize=20)\n",
    "    plt.title('Models')\n",
    "    result = mod.fit(Daten.get_y(), pars, x=Daten.get_x())\n",
    "    Daten.set_pars(result)\n",
    "    dynamic_resolution_array = np.arange(min(Daten.get_x()),max(Daten.get_x()), 0.001*abs(max(Daten.get_x())-min(Daten.get_x())))\n",
    "    plt.plot(dynamic_resolution_array, result.eval(x = dynamic_resolution_array), 'b-', label = r'Fit: reduced $\\chi^2$ =  '+str(to_precision(result.result.redchi,3)))\n",
    "    plt.tight_layout()\n",
    "    plt.show()\n",
    "    "
   ]
  },
  {
   "cell_type": "code",
   "execution_count": 28,
   "metadata": {},
   "outputs": [
    {
     "data": {
      "text/plain": [
       "((101,), (100,))"
      ]
     },
     "execution_count": 28,
     "metadata": {},
     "output_type": "execute_result"
    }
   ],
   "source": [
    "x_hist.shape, y_hist.shape"
   ]
  },
  {
   "cell_type": "code",
   "execution_count": 29,
   "metadata": {},
   "outputs": [
    {
     "data": {
      "application/vnd.jupyter.widget-view+json": {
       "model_id": "10205357c557408298ba82a145576286",
       "version_major": 2,
       "version_minor": 0
      },
      "text/plain": [
       "interactive(children=(IntText(value=0, description='Save'), IntText(value=0, description='Load'), IntText(valu…"
      ]
     },
     "metadata": {},
     "output_type": "display_data"
    },
    {
     "name": "stdout",
     "output_type": "stream",
     "text": [
      "\n"
     ]
    }
   ],
   "source": [
    "param_widgets = {}\n",
    "for param_name, param in pars.items():\n",
    "    param_widgets[param_name] = IntText(value=param.value,\n",
    "                                            step=0.1,\n",
    "                                            description=param_name)\n",
    "\n",
    "# Interaktive Anzeige mit automatisch generierten Slidern\n",
    "interact(update_model, Save=IntText(value=0), Load=IntText(value=0), **param_widgets)\n",
    "print()"
   ]
  },
  {
   "cell_type": "code",
   "execution_count": 30,
   "metadata": {},
   "outputs": [
    {
     "data": {
      "image/png": "[encoded data removed]",
      "text/plain": [
       "<Figure size 800x600 with 1 Axes>"
      ]
     },
     "metadata": {},
     "output_type": "display_data"
    }
   ],
   "source": [
    "result = mod.fit(Daten.get_y(), pars, x=Daten.get_x())\n",
    "dynamic_resolution_array = np.arange(min(Daten.get_x()),max(Daten.get_x()), 0.001*abs(max(Daten.get_x())-min(Daten.get_x())))\n",
    "\n",
    "plt.figure(figsize=(8, 6))\n",
    "plt.errorbar(y = Daten.get_y(), yerr = Daten.get_yerr(), x = Daten.get_x(), xerr = Daten.get_xerr(), \\\n",
    "    fmt = 'o', markersize = 3.5, alpha = 1, mfc = 'black', c = 'skyblue', zorder = 0, \\\n",
    "    label = r'Werte')\n",
    "\n",
    "#plt.plot(x_fit, y_fit, label=\"Modell\", color='red')\n",
    "plt.legend()\n",
    "plt.ylabel(Daten.get_YName(), fontsize=20)\n",
    "plt.xlabel(Daten.get_XName(), fontsize=20)\n",
    "plt.title('Models')\n",
    "\n",
    "plt.plot(dynamic_resolution_array, result.eval(x = dynamic_resolution_array), 'r-', label = r'Fit: reduced $\\chi^2$ =  '+str(to_precision(result.result.redchi,3)))\n",
    "\n",
    "plt.show()"
   ]
  },
  {
   "cell_type": "code",
   "execution_count": 31,
   "metadata": {},
   "outputs": [
    {
     "data": {
      "text/html": [
       "<h2>Fit Result</h2> <p>Model: Model(exponential)</p> <table class=\"jp-toc-ignore\"><caption class=\"jp-toc-ignore\">Fit Statistics</caption><tr><td style='text-align:left'>fitting method</td><td style='text-align:right'>leastsq</td></tr><tr><td style='text-align:left'># function evals</td><td style='text-align:right'>47</td></tr><tr><td style='text-align:left'># data points</td><td style='text-align:right'>100</td></tr><tr><td style='text-align:left'># variables</td><td style='text-align:right'>2</td></tr><tr><td style='text-align:left'>chi-square</td><td style='text-align:right'> 30187.5378</td></tr><tr><td style='text-align:left'>reduced chi-square</td><td style='text-align:right'> 308.036100</td></tr><tr><td style='text-align:left'>Akaike info crit.</td><td style='text-align:right'> 575.001428</td></tr><tr><td style='text-align:left'>Bayesian info crit.</td><td style='text-align:right'> 580.211768</td></tr><tr><td style='text-align:left'>R-squared</td><td style='text-align:right'> 0.86179323</td></tr></table><table class=\"jp-toc-ignore\"><caption>Parameters</caption><tr><th style='text-align:left'>name</th><th style='text-align:left'>value</th><th style='text-align:left'>standard error</th><th style='text-align:left'>relative error</th><th style='text-align:left'>initial value</th><th style='text-align:left'>min</th><th style='text-align:left'>max</th><th style='text-align:right'>vary</th></tr><tr><td style='text-align:left'>amplitude</td><td style='text-align:left'> 366.709049</td><td style='text-align:left'> 23.6168984</td><td style='text-align:left'>(6.44%)</td><td style='text-align:left'>1</td><td style='text-align:left'>       -inf</td><td style='text-align:left'>        inf</td><td style='text-align:right'>True</td></tr><tr><td style='text-align:left'>decay</td><td style='text-align:left'> 1.21205718</td><td style='text-align:left'> 0.08576139</td><td style='text-align:left'>(7.08%)</td><td style='text-align:left'>1</td><td style='text-align:left'>       -inf</td><td style='text-align:left'>        inf</td><td style='text-align:right'>True</td></tr></table><table class=\"jp-toc-ignore\"><caption>Correlations (unreported values are < 0.100)</caption><tr><th style='text-align:left'>Parameter1</th><th style='text-align:left'>Parameter 2</th><th style='text-align:right'>Correlation</th></tr><tr><td style='text-align:left'>amplitude</td><td style='text-align:left'>decay</td><td style='text-align:right'>-0.8372</td></tr></table>"
      ],
      "text/plain": [
       "<lmfit.model.ModelResult at 0x2c374b08dc0>"
      ]
     },
     "execution_count": 31,
     "metadata": {},
     "output_type": "execute_result"
    }
   ],
   "source": [
    "Daten.get_pars()"
   ]
  },
  {
   "cell_type": "code",
   "execution_count": null,
   "metadata": {},
   "outputs": [],
   "source": []
  },
  {
   "cell_type": "code",
   "execution_count": 32,
   "metadata": {},
   "outputs": [
    {
     "data": {
      "image/png": "[encoded data removed]",
      "text/plain": [
       "<Figure size 720x480 with 1 Axes>"
      ]
     },
     "metadata": {},
     "output_type": "display_data"
    },
    {
     "name": "stdout",
     "output_type": "stream",
     "text": [
      "\\begin{figure}[ht] \n",
      " \t\\centering \n",
      " \t\\includegraphics[width= 0.65 \\textwidth]{Fits/m12n4_Fit.pdf} \n",
      "\t\\caption{m12n4, Fit} \n",
      " \t\\label{fig:m12n4, Fit} \n",
      "\\end{figure}\n"
     ]
    }
   ],
   "source": [
    "weights = 1/np.sqrt(Daten.get_y().shape[0])\n",
    "#weights[weights == np.inf] = 0\n",
    "Daten.set_yerr(weights)\n",
    "\n",
    "result = mod.fit(Daten.get_y(), pars, x=Daten.get_x(), weights = weights)\n",
    "finish(Daten.get_x(),Daten.get_y(),result, Daten.get_FileName(), Daten.get_yerr(), Daten.get_YName(), Daten.get_XName())"
   ]
  },
  {
   "cell_type": "code",
   "execution_count": 33,
   "metadata": {},
   "outputs": [
    {
     "data": {
      "text/html": [
       "<h2>Fit Result</h2> <p>Model: Model(exponential)</p> <table class=\"jp-toc-ignore\"><caption class=\"jp-toc-ignore\">Fit Statistics</caption><tr><td style='text-align:left'>fitting method</td><td style='text-align:right'>leastsq</td></tr><tr><td style='text-align:left'># function evals</td><td style='text-align:right'>47</td></tr><tr><td style='text-align:left'># data points</td><td style='text-align:right'>100</td></tr><tr><td style='text-align:left'># variables</td><td style='text-align:right'>2</td></tr><tr><td style='text-align:left'>chi-square</td><td style='text-align:right'> 301.875378</td></tr><tr><td style='text-align:left'>reduced chi-square</td><td style='text-align:right'> 3.08036100</td></tr><tr><td style='text-align:left'>Akaike info crit.</td><td style='text-align:right'> 114.484409</td></tr><tr><td style='text-align:left'>Bayesian info crit.</td><td style='text-align:right'> 119.694749</td></tr><tr><td style='text-align:left'>R-squared</td><td style='text-align:right'> 0.86179323</td></tr></table><table class=\"jp-toc-ignore\"><caption>Parameters</caption><tr><th style='text-align:left'>name</th><th style='text-align:left'>value</th><th style='text-align:left'>standard error</th><th style='text-align:left'>relative error</th><th style='text-align:left'>initial value</th><th style='text-align:left'>min</th><th style='text-align:left'>max</th><th style='text-align:right'>vary</th></tr><tr><td style='text-align:left'>amplitude</td><td style='text-align:left'> 366.709049</td><td style='text-align:left'> 23.6168984</td><td style='text-align:left'>(6.44%)</td><td style='text-align:left'>1</td><td style='text-align:left'>       -inf</td><td style='text-align:left'>        inf</td><td style='text-align:right'>True</td></tr><tr><td style='text-align:left'>decay</td><td style='text-align:left'> 1.21205718</td><td style='text-align:left'> 0.08576139</td><td style='text-align:left'>(7.08%)</td><td style='text-align:left'>1</td><td style='text-align:left'>       -inf</td><td style='text-align:left'>        inf</td><td style='text-align:right'>True</td></tr></table><table class=\"jp-toc-ignore\"><caption>Correlations (unreported values are < 0.100)</caption><tr><th style='text-align:left'>Parameter1</th><th style='text-align:left'>Parameter 2</th><th style='text-align:right'>Correlation</th></tr><tr><td style='text-align:left'>amplitude</td><td style='text-align:left'>decay</td><td style='text-align:right'>-0.8372</td></tr></table>"
      ],
      "text/plain": [
       "<lmfit.model.ModelResult at 0x2c375457be0>"
      ]
     },
     "execution_count": 33,
     "metadata": {},
     "output_type": "execute_result"
    }
   ],
   "source": [
    "result"
   ]
  },
  {
   "cell_type": "code",
   "execution_count": 34,
   "metadata": {},
   "outputs": [
    {
     "name": "stdout",
     "output_type": "stream",
     "text": [
      "p value is 1.2300828244006369e-64\n",
      "Dependent (reject H0)\n"
     ]
    }
   ],
   "source": [
    "from scipy.stats import chi2_contingency\n",
    "\n",
    "# defining the table\n",
    "data = [Daten.get_y(), result.eval(x=Daten.get_x())]\n",
    "stat, p, dof, expected = chi2_contingency(data)\n",
    "\n",
    "# interpret p-value\n",
    "alpha = 0.05\n",
    "print(\"p value is \" + str(p))\n",
    "if p <= alpha:\n",
    "    print('Dependent (reject H0)')\n",
    "else:\n",
    "    print('Independent (H0 holds true)')"
   ]
  }
 ],
 "metadata": {
  "kernelspec": {
   "display_name": "base",
   "language": "python",
   "name": "python3"
  },
  "language_info": {
   "codemirror_mode": {
    "name": "ipython",
    "version": 3
   },
   "file_extension": ".py",
   "mimetype": "text/x-python",
   "name": "python",
   "nbconvert_exporter": "python",
   "pygments_lexer": "ipython3",
   "version": "3.9.7"
  }
 },
 "nbformat": 4,
 "nbformat_minor": 2
}
