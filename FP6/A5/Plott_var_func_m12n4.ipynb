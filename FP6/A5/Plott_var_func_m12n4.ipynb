{
 "cells": [
  {
   "cell_type": "code",
   "execution_count": 1,
   "metadata": {},
   "outputs": [],
   "source": [
    "# <examples/doc_model_two_components.py>\n",
    "import json\n",
    "import pickle\n",
    "import numpy as np\n",
    "import matplotlib.pyplot as plt\n",
    "from numpy import exp, loadtxt, pi, sqrt\n",
    "from lmfit import Model\n",
    "from lmfit.models import PowerLawModel, ExponentialModel, GaussianModel\n",
    "from lib.to_precision import to_precision\n",
    "import lmfit\n",
    "from sympy import *\n",
    "import sympy\n",
    "from sympy.solvers import solve\n",
    "from sympy import Symbol\n",
    "import math\n",
    "import datetime\n",
    "from ipywidgets import interact, FloatText, IntText, fixed, Text\n",
    "now = lambda: str(datetime.datetime.now()).replace(\"-\", \"\").replace(\":\", \"\").replace(\" \", \"_\").split(\".\")[0]\n",
    "import inspect"
   ]
  },
  {
   "cell_type": "code",
   "execution_count": 2,
   "metadata": {
    "notebookRunGroups": {
     "groupValue": "2"
    }
   },
   "outputs": [],
   "source": [
    "# def get_Latex_Func(func):\n",
    "#     # Get the source code of the function\n",
    "#     source_lines = inspect.getsource(func).split('\\n')\n",
    "\n",
    "#     # Find the return statement\n",
    "#     return_line = [line for line in source_lines if 'return' in line][0]\n",
    "\n",
    "#     # Extract the expression after 'return'\n",
    "#     expr = return_line.split('return')[1].strip()\n",
    "    \n",
    "#     tatex_func = sympy.latex(sympy.sympify(expr))\n",
    "#     strg = (\n",
    "#         \"\\\\begin{align} \\n \\t f(x) = \" + tatex_func + \"\\n\" + \"\\end{align} \\n\"\n",
    "#     )\n",
    "#     return strg\n",
    "\n",
    "\n",
    "def get_Latex_Func(func):\n",
    "    # Get the source code of the function\n",
    "    source_lines = inspect.getsource(func).split('\\n')\n",
    "    \n",
    "    # Find the return statement\n",
    "    return_line = [line for line in source_lines if 'return' in line][0].strip()\n",
    "    \n",
    "    # Extract the expression after 'return'\n",
    "    expr = return_line.split('return')[1].strip()\n",
    "    \n",
    "    # Extract variable names from the function's signature\n",
    "    \n",
    "    sig = inspect.signature(func)\n",
    "    param_names = list(sig.parameters.keys())\n",
    "    \n",
    "    # Create sympy symbols for all parameters\n",
    "    symbols = sympy.symbols(' '.join(param_names))\n",
    "    \n",
    "    # Create a local dictionary of symbols\n",
    "    local_dict = dict(zip(param_names, symbols))\n",
    "    \n",
    "    # Add numpy and math functions to the local dictionary\n",
    "    local_dict.update({\n",
    "        'sqrt': sympy.sqrt,\n",
    "        'exp': sympy.exp,\n",
    "        'pi': sympy.pi\n",
    "    })\n",
    "    \n",
    "    # Convert the expression to a SymPy expression\n",
    "    sympy_expr = sympy.parsing.sympy_parser.parse_expr(\n",
    "        expr.replace('np.', '').replace('math.', ''), \n",
    "        local_dict=local_dict\n",
    "    )\n",
    "    \n",
    "    # Convert to LaTeX\n",
    "    tatex_func = sympy.latex(sympy_expr)\n",
    "    \n",
    "    strg = (\n",
    "        \"\\\\begin{align} \\n \\t f(\" + \", \".join(param_names) + \") = \" + tatex_func + \"\\n\" + \"\\\\end{align} \\n\"\n",
    "    )\n",
    "    return strg\n",
    "\n",
    "\n",
    "\n",
    "\n",
    "def save_data_to_file(filename='data.pkl'):\n",
    "    # Dictionary für Parameter-Werte erstellen\n",
    "    data_dict = {\"x\":Daten.get_x(),\"xerr\":Daten.get_xerr(),\"y\":Daten.get_y(),\"yerr\":Daten.get_yerr(),\"XName\":Daten.get_XName(),\"YName\":Daten.get_YName()}\n",
    "    # Konvertiere alle Numpy-Arrays im Dictionary in Listen\n",
    "    # dict_serializable = {key: value.tolist() if isinstance(value, np.ndarray) else value \n",
    "    #                      for key, value in data_dict.items()}\n",
    "    # __x = []\n",
    "    # __y = []\n",
    "    # __xerr = 0\n",
    "    # __yerr = 0\n",
    "    # __XName = \"x\"\n",
    "    # __YName = \"y\"\n",
    "    # __FileName = \"dataset_1\"\n",
    "\n",
    "    # Parameter als JSON-Datei speichern\n",
    "    with open(filename, 'wb') as f:\n",
    "        pickle.dump(data_dict, f)\n",
    "    print(f\"Daten wurden in {filename} gespeichert.\")\n",
    "\n",
    "# Funktion zum Einlesen der Parameter aus einer JSON-Datei\n",
    "def load_data_from_file(filename='params.pkl'):\n",
    "    # JSON-Datei öffnen und die Werte lesen\n",
    "    with open(filename, 'rb') as f:\n",
    "        data_dict = pickle.load(f)\n",
    "    \n",
    "    # # Konvertiere Listen zurück in Numpy-Arrays\n",
    "    # data_dict= {key: np.array(value) if isinstance(value, list) else value\n",
    "    #                     for key, value in dict_with_arrays.items()}\n",
    "\n",
    "    # Geladene Werte in die Parameter setzen\n",
    "    Daten.set_x(data_dict.get(\"x\"))\n",
    "    Daten.set_xerr(data_dict.get(\"xerr\"))\n",
    "    Daten.set_y(data_dict.get(\"y\"))\n",
    "    Daten.set_yerr(data_dict.get(\"yerr\"))\n",
    "    Daten.set_XName(data_dict.get(\"XName\"))\n",
    "    Daten.set_YName(data_dict.get(\"YName\"))\n",
    "\n",
    "    print(f\"Daten wurden aus {filename} geladen.\")\n",
    "\n",
    "def finish(x,y,result, string, y_err, yLabel, xLabel, var_func_bool= False):\n",
    "    fig = plt.figure(figsize=(9,6), dpi=80)\n",
    "    dynamic_resolution_array = np.arange(min(x),max(x), 0.001*abs(max(x)-min(x)))\n",
    "    #plt.plot(x, y, 'skyblue')\n",
    "    plt.plot(dynamic_resolution_array, result.eval(x = dynamic_resolution_array), 'r-', label = r'Fit: reduced $\\chi^2$ =  '+str(to_precision(result.result.redchi,3)))\n",
    "    plt.errorbar(\n",
    "        y = y, \n",
    "        x = x, \n",
    "        yerr = y_err,\n",
    "        fmt = 'o', markersize = 3.5, alpha = 1, mfc = 'black', c = 'skyblue', zorder = 0, label = r'Werte'\n",
    "        ) #xerr = x_err, yerr = y_err, \n",
    "    plt.legend(loc='best')\n",
    "\n",
    "    plt.ylabel(yLabel, fontsize=20)\n",
    "    plt.xlabel(xLabel, fontsize=20)\n",
    "\n",
    "    plt.legend(fontsize=12)\n",
    "    plt.xticks(fontsize=16)\n",
    "    plt.yticks(fontsize=16)\n",
    "    plt.tight_layout()\n",
    "    string += Daten.get_Version()\n",
    "    fig.savefig(string + \"_Fit.pdf\")\n",
    "    plt.show()\n",
    "\n",
    "    string_fig = \"\\\\begin{figure}[ht] \\n \\t\\\\centering \\n \\t\\\\includegraphics[width= 0.65 \\\\textwidth]{Fits/\" + string + \"_Fit.pdf} \\n\" \\\n",
    "        + \"\\t\\\\caption{\"+str(string)+\", Fit} \\n \\t\\\\label{fig:\"+str(string)+\", Fit} \\n\\end{figure}\"\n",
    "    print(string_fig)\n",
    "\n",
    "    text_file = open(string+\"_params\"+\".tex\", \"w+\", encoding=\"utf-8\")\n",
    "    string_fig += \"\\n \\\\\\\\ \\n\" \n",
    "    string_fig += get_Latex_Func(Daten.get_func()) if var_func_bool else \"\"\n",
    "    string_fig += table_of_params(result)\n",
    "    text_file.write(string_fig)\n",
    "    text_file.close()\n",
    "\n",
    "def table_of_params(result_of_fit):\n",
    "    sig_num = 3\n",
    "    string = \"\" + (\n",
    "        \"\\\\begin{table}[ht] \\n\"\n",
    "        \"\\centering \\n\") +\"\\caption{\" + str(Daten.get_FileName()) +\", Fit Parameter Tabelle} \\n\"  + (\n",
    "        \"\\label{tab:my-table}\\n\"\n",
    "        \"\\\\begin{tabular}{|l|c|}\\n\" \n",
    "        \"\\hline\\n\"\n",
    "        \"Parameter Name\\t&\\tWert \\\\\\\\ \\hline\\n\"\n",
    "    )\n",
    "    for i in result_of_fit.params:\n",
    "        str_param_val = f\"{float(result_of_fit.params[i].value): .{(len(str(math.floor(result_of_fit.params[i].value))) if math.floor(result_of_fit.params[i].value) != 0 else 0) +sig_num}}\" \n",
    "        str_param_std = f\"{float(result_of_fit.params[i].stderr): .{(len(str(math.floor(result_of_fit.params[i].stderr))) if math.floor(result_of_fit.params[i].stderr) != 0 else 0) +sig_num}}\" \n",
    "        string += (\n",
    "            str(i) + \"\\t&\\t\" +\n",
    "            str_param_val +\n",
    "            (\"\" if \".\" in str_param_val  else \".\")+\n",
    "            (\"0\"*((len(str(math.floor(result_of_fit.params[i].value))) if math.floor(result_of_fit.params[i].value) != 0 else 0) +sig_num+2 -len(f\"{float(result_of_fit.params[i].value): .{(len(str(math.floor(result_of_fit.params[i].value))) if math.floor(result_of_fit.params[i].value) != 0 else 0) +sig_num}}\"))) +\n",
    "            \" \\\\pm \"+ \n",
    "            str_param_std +\n",
    "            (\"\" if \".\" in str_param_std else \".\")+\n",
    "            (\"0\"*((len(str(math.floor(result_of_fit.params[i].stderr))) if math.floor(result_of_fit.params[i].stderr) != 0 else 0) +sig_num+2-len(f\"{float(result_of_fit.params[i].stderr): .{(len(str(math.floor(result_of_fit.params[i].stderr))) if math.floor(result_of_fit.params[i].stderr) != 0 else 0) +sig_num}}\"))) +\n",
    "            \"\\\\\\\\ \\hline\\n\"\n",
    "        )\n",
    "    string += (\n",
    "        \"\\end{tabular} \\n\"\n",
    "        \"\\end{table}\"\n",
    "    )\n",
    "    return string\n",
    "\n",
    "\n",
    "class Data:\n",
    "    __x = []\n",
    "    __y = []\n",
    "    __xerr = 0\n",
    "    __yerr = 0\n",
    "    __XName = \"x\"\n",
    "    __YName = \"y\"\n",
    "    __FileName = \"dataset_1\",\n",
    "    __Version = \"\"\n",
    "    __pars = None\n",
    "    __func = None\n",
    "    \n",
    "    def set_func(self, x):\n",
    "        self.__func = x\n",
    "        return\n",
    "    def get_func(self):\n",
    "        return self.__func\n",
    "\n",
    "    def set_x(self, x):\n",
    "        self.__x = x\n",
    "        return  \n",
    "    def set_y(self, x):\n",
    "        self.__y = x\n",
    "        return  \n",
    "    def set_yerr(self, x):\n",
    "        self.__yerr = x\n",
    "        return  \n",
    "    def set_xerr(self, x):\n",
    "        self.__xerr = x\n",
    "        return  \n",
    "    \n",
    "    def get_x(self):\n",
    "        return self.__x\n",
    "    def get_y(self):\n",
    "        return self.__y\n",
    "    def get_xerr(self):\n",
    "        return self.__xerr\n",
    "    def get_yerr(self):\n",
    "        return self.__yerr\n",
    "    \n",
    "    def set_XName(self, x):\n",
    "        self.__XName = rf\"{x}\"\n",
    "        return\n",
    "    def set_YName(self, x):\n",
    "        self.__YName = rf\"{x}\"\n",
    "        return\n",
    "    def get_XName(self):\n",
    "        return self.__XName\n",
    "    def get_YName(self):\n",
    "        return self.__YName\n",
    "    \n",
    "    def get_FileName(self):\n",
    "        return self.__FileName\n",
    "    \n",
    "    def set_FileName(self, x):\n",
    "        self.__FileName = f\"{x}\"\n",
    "        return\n",
    "    def set_Version(self, x):\n",
    "        self.__Version = f\"{x}\"\n",
    "        return\n",
    "    def get_Version(self):\n",
    "        return self.__Version\n",
    "    \n",
    "    def get_pars(self):\n",
    "        return self.__pars\n",
    "    def set_pars(self,x):\n",
    "        self.__pars = x\n",
    "        return\n",
    "\n",
    "def import_Data(Datei:str=\"dataset_1\", x_err_bool = False, y_err_bool = False, Daten=Data(), skip_lower:str=\"0\", skip_upper:str=\"0\", x_name:str=\"x\", y_name:str=\"y\", save_bool=False,Save:int=0,Load:int=0,switch_axes:bool=False,show_plot:bool=True):\n",
    "    data = np.genfromtxt(Datei+\".txt\", skip_header = int(skip_upper), skip_footer = int(skip_lower))\n",
    "    #data = np.genfromtxt(string+\".txt\", skip_header = 1, skip_footer = 18)\n",
    "\n",
    "    if x_err_bool and y_err_bool:\n",
    "        Daten.set_x(data[:,0])\n",
    "        Daten.set_xerr(data[:, 1])\n",
    "        Daten.set_y(data[:, 2])\n",
    "        Daten.set_yerr(data[:, 3])\n",
    "    elif x_err_bool and not y_err_bool:\n",
    "        Daten.set_x(data[:,0])\n",
    "        Daten.set_xerr(data[:, 1])\n",
    "        Daten.set_y(data[:, 2])\n",
    "        Daten.set_yerr(0)\n",
    "    elif not x_err_bool and y_err_bool:\n",
    "        Daten.set_x(data[:,0])\n",
    "        Daten.set_xerr(0)\n",
    "        Daten.set_y(data[:, 1])\n",
    "        Daten.set_yerr(data[:, 2])\n",
    "    elif not x_err_bool and not y_err_bool:\n",
    "        Daten.set_x(data[:,0])\n",
    "        Daten.set_xerr(0)\n",
    "        Daten.set_y(data[:, 1])\n",
    "        Daten.set_yerr(0)\n",
    "    \n",
    "    Daten.set_XName(x_name)\n",
    "    Daten.set_YName(y_name)\n",
    "    Daten.set_FileName(Datei)\n",
    "\n",
    "    if switch_axes:\n",
    "        temp = [Daten.get_x(), Daten.get_xerr()]\n",
    "        Daten.set_x(Daten.get_y())\n",
    "        Daten.set_xerr(Daten.get_yerr())\n",
    "        Daten.set_y(temp[0])\n",
    "        Daten.set_yerr(temp[1])\n",
    "        \n",
    "    if Save != 0:\n",
    "        # Aufruf der Funktion zum Speichern\n",
    "        save_data_to_file(f'{Daten.get_FileName()}_daten_{Save}.pkl')\n",
    "    if Load != 0:\n",
    "        # Aufruf der Funktion zum Laden\n",
    "        load_data_from_file(f'{Daten.get_FileName()}_daten_{Load}.pkl')\n",
    "\n",
    "    if show_plot:\n",
    "        plt.errorbar(y = Daten.get_y(), yerr = Daten.get_yerr(), x = Daten.get_x(), xerr = Daten.get_xerr(), \\\n",
    "            fmt = 'o', markersize = 3.5, alpha = 1, mfc = 'black', c = 'skyblue', zorder = 0, \\\n",
    "            label = r'Werte')\n",
    "        plt.legend(loc='best')\n",
    "        plt.ylabel(Daten.get_YName(), fontsize=20)\n",
    "        plt.xlabel(Daten.get_XName(), fontsize=20)\n",
    "        plt.xticks(fontsize=13)\n",
    "        plt.yticks(fontsize=13)\n",
    "        plt.tight_layout()\n",
    "        if save_bool:\n",
    "            plt.savefig(Datei + f\"_{Load}_Plot.pdf\")\n",
    "            string_fig = \"\\\\begin{figure}[ht] \\n \\t\\\\centering \\n \\t\\\\includegraphics[width= 0.65 \\\\textwidth]{bilder/\" + Datei + \"_Plot.pdf} \\n\" \\\n",
    "                + \"\\t\\\\caption{\"+str(Datei)+\", Plot_log} \\n \\t\\\\label{fig:\"+str(Datei)+\", Plot_log} \\n\\end{figure}\"\n",
    "            print(string_fig)\n",
    "\n",
    "        plt.show()\n",
    "\n",
    "\n",
    "\n",
    "# Funktion zum Speichern der Parameter in einer JSON-Datei\n",
    "def save_params_to_file(params, filename='params.json'):\n",
    "    # Dictionary für Parameter-Werte erstellen\n",
    "    params_dict = {name: param.value for name, param in params.items()}\n",
    "    \n",
    "    # Parameter als JSON-Datei speichern\n",
    "    with open(filename, 'w') as f:\n",
    "        json.dump(params_dict, f)\n",
    "    print(f\"Parameter wurden in {filename} gespeichert.\")\n",
    "\n",
    "# Funktion zum Einlesen der Parameter aus einer JSON-Datei\n",
    "def load_params_from_file(params, filename='params.json'):\n",
    "    # JSON-Datei öffnen und die Werte lesen\n",
    "    with open(filename, 'r') as f:\n",
    "        params_dict = json.load(f)\n",
    "\n",
    "    # Geladene Werte in die Parameter setzen\n",
    "    for name, value in params_dict.items():\n",
    "        if name in params:\n",
    "            params[name].value = value\n",
    "        else:\n",
    "            print(f\"Warnung: Parameter {name} existiert nicht im aktuellen Modell.\")\n",
    "\n",
    "    print(f\"Parameter wurden aus {filename} geladen.\")\n",
    "\n",
    "def update_model(Save:int=0, Load:int=0, **params):\n",
    "    # Setze die Werte der Parameter\n",
    "    for name, value in params.items():\n",
    "        pars[name].value = value\n",
    "    if Save != 0:\n",
    "        # Aufruf der Funktion zum Speichern\n",
    "        save_params_to_file(pars, f'{Daten.get_FileName()}_params_{Save}.json')\n",
    "        Daten.set_Version(Save)\n",
    "    if Load != 0:\n",
    "        load_params_from_file(pars, f'{Daten.get_FileName()}_params_{Load}.json')\n",
    "        Daten.set_Version(Load)\n",
    "\n",
    "    # Berechne Modell mit aktuellen Parametern\n",
    "    x = Daten.get_x()\n",
    "    x_fit = np.arange(x.min(), x.max(), (x.max() - x.min())/10000)\n",
    "    y_fit = mod.eval(pars, x=x_fit)\n",
    "\n",
    "    # Plotten der Daten und des Modells\n",
    "    plt.figure(figsize=(8, 6))\n",
    "    plt.errorbar(y = Daten.get_y(), yerr = Daten.get_yerr(), x = Daten.get_x(), xerr = Daten.get_xerr(), \\\n",
    "        fmt = 'o', markersize = 3.5, alpha = 1, mfc = 'black', c = 'skyblue', zorder = 0, \\\n",
    "        label = r'Werte')\n",
    "    \n",
    "    plt.plot(x_fit, y_fit, label=\"Modell\", color='red')\n",
    "    plt.legend()\n",
    "    plt.ylabel(Daten.get_YName(), fontsize=20)\n",
    "    plt.xlabel(Daten.get_XName(), fontsize=20)\n",
    "    plt.title('Models')\n",
    "    result = mod.fit(Daten.get_y(), pars, x=Daten.get_x())\n",
    "    Daten.set_pars(result)\n",
    "    dynamic_resolution_array = np.arange(min(Daten.get_x()),max(Daten.get_x()), 0.001*abs(max(Daten.get_x())-min(Daten.get_x())))\n",
    "    plt.plot(dynamic_resolution_array, result.eval(x = dynamic_resolution_array), 'b-', label = r'Fit: reduced $\\chi^2$ =  '+str(to_precision(result.result.redchi,3)))\n",
    "    plt.tight_layout()\n",
    "    plt.show()\n",
    "    "
   ]
  },
  {
   "cell_type": "markdown",
   "metadata": {},
   "source": [
    "## Interactive"
   ]
  },
  {
   "cell_type": "code",
   "execution_count": 3,
   "metadata": {},
   "outputs": [],
   "source": [
    "import pandas as pd\n",
    "\n",
    "\n",
    "# Einlesen mit pandas\n",
    "df = pd.read_csv('m_12n4.csv', sep=';', header=None)\n",
    "\n",
    "# Umwandlung in numpy arrays\n",
    "spalte1 = df[0].to_numpy()\n",
    "spalte2 = df[1].to_numpy()\n"
   ]
  },
  {
   "cell_type": "code",
   "execution_count": 4,
   "metadata": {},
   "outputs": [
    {
     "data": {
      "text/plain": [
       "2788"
      ]
     },
     "execution_count": 4,
     "metadata": {},
     "output_type": "execute_result"
    },
    {
     "data": {
      "image/png": "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",
      "text/plain": [
       "<Figure size 640x480 with 1 Axes>"
      ]
     },
     "metadata": {},
     "output_type": "display_data"
    }
   ],
   "source": [
    "times = []\n",
    "for i, spalt1 in enumerate(spalte1):\n",
    "    if spalt1 == 2 and spalte2[i] > 5:\n",
    "        if np.absolute(spalte2[i-1]-spalte2[i]) <= 10 and spalte1[i-1] == 1: \n",
    "            times.append(spalte2[i])\n",
    "        elif np.absolute(spalte2[i+1]-spalte2[i]) <= 10 and spalte1[i+1] == 1:\n",
    "            times.append(spalte2[i])\n",
    "plt.hist(times, 100)\n",
    "len(times)"
   ]
  },
  {
   "cell_type": "code",
   "execution_count": 5,
   "metadata": {},
   "outputs": [
    {
     "data": {
      "text/plain": [
       "(array([ 0.06  ,  0.2587,  0.4574,  0.6561,  0.8548,  1.0535,  1.2522,\n",
       "         1.4509,  1.6496,  1.8483,  2.047 ,  2.2457,  2.4444,  2.6431,\n",
       "         2.8418,  3.0405,  3.2392,  3.4379,  3.6366,  3.8353,  4.034 ,\n",
       "         4.2327,  4.4314,  4.6301,  4.8288,  5.0275,  5.2262,  5.4249,\n",
       "         5.6236,  5.8223,  6.021 ,  6.2197,  6.4184,  6.6171,  6.8158,\n",
       "         7.0145,  7.2132,  7.4119,  7.6106,  7.8093,  8.008 ,  8.2067,\n",
       "         8.4054,  8.6041,  8.8028,  9.0015,  9.2002,  9.3989,  9.5976,\n",
       "         9.7963,  9.995 , 10.1937, 10.3924, 10.5911, 10.7898, 10.9885,\n",
       "        11.1872, 11.3859, 11.5846, 11.7833, 11.982 , 12.1807, 12.3794,\n",
       "        12.5781, 12.7768, 12.9755, 13.1742, 13.3729, 13.5716, 13.7703,\n",
       "        13.969 , 14.1677, 14.3664, 14.5651, 14.7638, 14.9625, 15.1612,\n",
       "        15.3599, 15.5586, 15.7573, 15.956 , 16.1547, 16.3534, 16.5521,\n",
       "        16.7508, 16.9495, 17.1482, 17.3469, 17.5456, 17.7443, 17.943 ,\n",
       "        18.1417, 18.3404, 18.5391, 18.7378, 18.9365, 19.1352, 19.3339,\n",
       "        19.5326, 19.7313, 19.93  ]),\n",
       " array([199, 180, 335, 268, 129, 118,  98,  88,  74,  77,  62,  56,  52,\n",
       "         59,  40,  49,  57,  26,  34,  31,  33,  23,  21,  24,  27,  15,\n",
       "         17,  21,  14,  18,  16,  13,  13,  16,  19,  16,  13,  13,  11,\n",
       "          9,   8,  14,  10,   7,   8,  10,   9,   7,   6,   3,   4,   7,\n",
       "         10,   5,   6,  12,  10,   7,   6,   1,   7,   1,  11,  11,   7,\n",
       "          9,   6,  10,   7,   5,   5,  11,   5,   1,   4,   4,   8,   5,\n",
       "          7,   4,   4,   7,   6,   6,   7,   5,   4,   5,  10,   4,  12,\n",
       "          4,   4,  11,   5,   6,   7,   4,   9,   6], dtype=int64))"
      ]
     },
     "execution_count": 5,
     "metadata": {},
     "output_type": "execute_result"
    }
   ],
   "source": [
    "data_hist = np.histogram(np.array(times)/100, 100)\n",
    "x_hist = data_hist[1]\n",
    "y_hist = data_hist[0]\n",
    "x_hist, y_hist"
   ]
  },
  {
   "cell_type": "code",
   "execution_count": 6,
   "metadata": {},
   "outputs": [],
   "source": [
    "Daten = Data()\n",
    "Daten.set_FileName(\"m12n4\")\n",
    "Daten.set_x(x_hist[:-1])\n",
    "Daten.set_xerr(0)\n",
    "Daten.set_y(y_hist)\n",
    "Daten.set_yerr(0)\n",
    "Daten.set_XName(r\"Lifetime [$\\mu$s]\")\n",
    "Daten.set_YName(\"Counts\")"
   ]
  },
  {
   "cell_type": "markdown",
   "metadata": {},
   "source": [
    "## Fit-Funktionen festlegen"
   ]
  },
  {
   "cell_type": "code",
   "execution_count": 7,
   "metadata": {},
   "outputs": [
    {
     "data": {
      "text/html": [
       "<table class=\"jp-toc-ignore\"><caption>Parameters</caption><tr><th style='text-align:left'>name</th><th style='text-align:left'>value</th><th style='text-align:left'>initial value</th><th style='text-align:left'>min</th><th style='text-align:left'>max</th><th style='text-align:right'>vary</th></tr><tr><td style='text-align:left'>amplitude</td><td style='text-align:left'> 1.00000000</td><td style='text-align:left'>None</td><td style='text-align:left'>       -inf</td><td style='text-align:left'>        inf</td><td style='text-align:right'>True</td></tr><tr><td style='text-align:left'>decay</td><td style='text-align:left'> 1.00000000</td><td style='text-align:left'>None</td><td style='text-align:left'>       -inf</td><td style='text-align:left'>        inf</td><td style='text-align:right'>True</td></tr></table>"
      ],
      "text/plain": [
       "Parameters([('amplitude', <Parameter 'amplitude', value=1, bounds=[-inf:inf]>), ('decay', <Parameter 'decay', value=1, bounds=[-inf:inf]>)])"
      ]
     },
     "execution_count": 7,
     "metadata": {},
     "output_type": "execute_result"
    }
   ],
   "source": [
    "from lmfit.models import PowerLawModel, ExponentialModel, GaussianModel, Model\n",
    "\n",
    "# import pylandau\n",
    "\n",
    "# def plot_func(x, mpv=1, eta=1, sigma=1, A=1):\n",
    "#     return pylandau.langau(x, mpv, eta, sigma, A)\n",
    "\n",
    "def plot_func(x, sigma = 1, nu = 1, amplitude=1):\n",
    "    return amplitude/(sigma*np.sqrt(2*math.pi))*np.exp(-1/2*((x-nu)/sigma)**2)\n",
    "\n",
    "Daten.set_func(plot_func)\n",
    "mod = ExponentialModel()\n",
    "\n",
    "pars = mod.make_params()\n",
    "pars"
   ]
  },
  {
   "cell_type": "markdown",
   "metadata": {},
   "source": [
    "## Parameter Festlegen"
   ]
  },
  {
   "cell_type": "code",
   "execution_count": 8,
   "metadata": {},
   "outputs": [],
   "source": [
    "# Funktion zum Speichern der Parameter in einer JSON-Datei\n",
    "def save_params_to_file(params, filename='params.json'):\n",
    "    # Dictionary für Parameter-Werte erstellen\n",
    "    params_dict = {name: param.value for name, param in params.items()}\n",
    "    \n",
    "    # Parameter als JSON-Datei speichern\n",
    "    with open(filename, 'w') as f:\n",
    "        json.dump(params_dict, f)\n",
    "    print(f\"Parameter wurden in {filename} gespeichert.\")\n",
    "\n",
    "# Funktion zum Einlesen der Parameter aus einer JSON-Datei\n",
    "def load_params_from_file(params, filename='params.json'):\n",
    "    # JSON-Datei öffnen und die Werte lesen\n",
    "    with open(filename, 'r') as f:\n",
    "        params_dict = json.load(f)\n",
    "\n",
    "    # Geladene Werte in die Parameter setzen\n",
    "    for name, value in params_dict.items():\n",
    "        if name in params:\n",
    "            params[name].value = value\n",
    "        else:\n",
    "            print(f\"Warnung: Parameter {name} existiert nicht im aktuellen Modell.\")\n",
    "\n",
    "    print(f\"Parameter wurden aus {filename} geladen.\")\n",
    "\n",
    "def update_model(Save:int=0, Load:int=0, **params):\n",
    "    # Setze die Werte der Parameter\n",
    "    for name, value in params.items():\n",
    "        pars[name].value = value\n",
    "    if Save != 0:\n",
    "        # Aufruf der Funktion zum Speichern\n",
    "        save_params_to_file(pars, f'{Daten.get_FileName()}_params_{Save}.json')\n",
    "        Daten.set_Version(Save)\n",
    "    if Load != 0:\n",
    "        load_params_from_file(pars, f'{Daten.get_FileName()}_params_{Load}.json')\n",
    "        Daten.set_Version(Load)\n",
    "\n",
    "    # Berechne Modell mit aktuellen Parametern\n",
    "    x = Daten.get_x()\n",
    "    x_fit = np.arange(x.min(), x.max(), (x.max() - x.min())/10000)\n",
    "    y_fit = mod.eval(pars, x=x_fit)\n",
    "\n",
    "    # Plotten der Daten und des Modells\n",
    "    plt.figure(figsize=(8, 6))\n",
    "    plt.errorbar(y = Daten.get_y(), yerr = Daten.get_yerr(), x = Daten.get_x(), xerr = Daten.get_xerr(), \\\n",
    "        fmt = 'o', markersize = 3.5, alpha = 1, mfc = 'black', c = 'skyblue', zorder = 0, \\\n",
    "        label = r'Werte')\n",
    "    \n",
    "    plt.plot(x_fit, y_fit, label=\"Modell\", color='red')\n",
    "    plt.legend()\n",
    "    plt.ylabel(Daten.get_YName(), fontsize=20)\n",
    "    plt.xlabel(Daten.get_XName(), fontsize=20)\n",
    "    plt.title('Models')\n",
    "    result = mod.fit(Daten.get_y(), pars, x=Daten.get_x())\n",
    "    Daten.set_pars(result)\n",
    "    dynamic_resolution_array = np.arange(min(Daten.get_x()),max(Daten.get_x()), 0.001*abs(max(Daten.get_x())-min(Daten.get_x())))\n",
    "    plt.plot(dynamic_resolution_array, result.eval(x = dynamic_resolution_array), 'b-', label = r'Fit: reduced $\\chi^2$ =  '+str(to_precision(result.result.redchi,3)))\n",
    "    plt.tight_layout()\n",
    "    plt.show()\n",
    "    "
   ]
  },
  {
   "cell_type": "code",
   "execution_count": 9,
   "metadata": {},
   "outputs": [
    {
     "data": {
      "text/plain": [
       "((101,), (100,))"
      ]
     },
     "execution_count": 9,
     "metadata": {},
     "output_type": "execute_result"
    }
   ],
   "source": [
    "x_hist.shape, y_hist.shape"
   ]
  },
  {
   "cell_type": "code",
   "execution_count": 10,
   "metadata": {},
   "outputs": [
    {
     "data": {
      "application/vnd.jupyter.widget-view+json": {
<<<<<<< HEAD
       "model_id": "8474aac3ad48439990c0fdd66e1e4e52",
=======
       "model_id": "fd9d4fd1585c432cbed3c97014592032",
>>>>>>> d420e1074d930a2cefa9d9bf7c85b8bae0902891
       "version_major": 2,
       "version_minor": 0
      },
      "text/plain": [
       "interactive(children=(IntText(value=0, description='Save'), IntText(value=0, description='Load'), IntText(valu…"
      ]
     },
     "metadata": {},
     "output_type": "display_data"
    },
    {
     "name": "stdout",
     "output_type": "stream",
     "text": [
      "\n"
     ]
    }
   ],
   "source": [
    "param_widgets = {}\n",
    "for param_name, param in pars.items():\n",
    "    param_widgets[param_name] = IntText(value=param.value,\n",
    "                                            step=0.1,\n",
    "                                            description=param_name)\n",
    "\n",
    "# Interaktive Anzeige mit automatisch generierten Slidern\n",
    "interact(update_model, Save=IntText(value=0), Load=IntText(value=0), **param_widgets)\n",
    "print()"
   ]
  },
  {
   "cell_type": "code",
   "execution_count": 11,
   "metadata": {},
   "outputs": [
    {
     "data": {
      "image/png": "iVBORw0KGgoAAAANSUhEUgAAAsUAAAI1CAYAAAA+WYcBAAAAOXRFWHRTb2Z0d2FyZQBNYXRwbG90bGliIHZlcnNpb24zLjkuMiwgaHR0cHM6Ly9tYXRwbG90bGliLm9yZy8hTgPZAAAACXBIWXMAAA9hAAAPYQGoP6dpAAB0MklEQVR4nO3deXhU5f3+8XuyTDayQMiGJGwiEHaiQKyCIAUUECyKoLJYqpaCraDW4lfFpf3h1morrm0Fq8UFKi4g+yoaWUXZBAQkKISEAAlZB5Lz+2OckSGZZCaZZDKZ9+u6zjUzZ87yOSeT5M6T5zzHZBiGIQAAAMCPBXi7AAAAAMDbCMUAAADwe4RiAAAA+D1CMQAAAPweoRgAAAB+j1AMAAAAv0coBgAAgN8jFAMAAMDvEYoBAADg9wjFAIBKmUwmPfbYY26v9/3338tkMmnevHkerwkA6gqhGAAauHnz5slkMslkMmnjxo0V3jcMQ8nJyTKZTBo+fLgXKgQA30coBgAfERoaqvnz51eYv379ev3www8KCQnxQlUA0DgQigHAR1x//fVasGCBzp8/7zB//vz5SktLU2JiopcqAwDfRygGAB8xbtw45ebmauXKlfZ5FotFCxcu1K233lph+cLCQt13331KTk5WSEiIOnTooOeee06GYTgsV1paqunTpysuLk6RkZG64YYb9MMPP1Raw48//qhf//rXSkhIUEhIiDp37qw33nij2tqzsrJ0xx13qGXLlgoJCVFSUpJGjhyp77//3r2TAAB1JMjbBQAAXNO6dWulp6frnXfe0XXXXSdJWrp0qfLy8jR27Fj94x//sC9rGIZuuOEGrV27VpMnT1aPHj20fPlyPfDAA/rxxx/1/PPP25f9zW9+o7ffflu33nqrrrzySq1Zs0bDhg2rsP8TJ06ob9++MplMmjZtmuLi4rR06VJNnjxZ+fn5uvfee53WPnr0aO3evVv33HOPWrdurezsbK1cuVKZmZlq3bq1x84RANSYAQBo0ObOnWtIMrZs2WLMmTPHiIyMNIqKigzDMIybb77ZGDBggGEYhtGqVStj2LBhhmEYxocffmhIMv785z87bOumm24yTCaT8d133xmGYRg7duwwJBm/+93vHJa79dZbDUnGrFmz7PMmT55sJCUlGSdPnnRYduzYsUZ0dLS9psOHDxuSjLlz5xqGYRinT582JBnPPvusZ04IANQBuk8AgA8ZM2aMiouLtXjxYp09e1aLFy+utOvEp59+qsDAQP3+9793mH/ffffJMAwtXbrUvpykCstd3OprGIb+97//acSIETIMQydPnrRPQ4YMUV5enrZv315pzWFhYTKbzVq3bp1Onz5d00MHgDpF9wkA8CFxcXEaNGiQ5s+fr6KiIpWVlemmm26qsNyRI0fUokULRUZGOszv1KmT/X3bY0BAgNq1a+ewXIcOHRxe5+Tk6MyZM3r99df1+uuvV1pbdnZ2pfNDQkL09NNP67777lNCQoL69u2r4cOHa8KECVwcCKDBIBQDgI+59dZbdeeddyorK0vXXXedYmJi6nyf5eXlkqTbb79dEydOrHSZbt26OV3/3nvv1YgRI/Thhx9q+fLleuSRRzR79mytWbNGPXv2rJOaAcAddJ8AAB9z4403KiAgQF9++WWlXSckqVWrVjp27JjOnj3rMP/bb7+1v297LC8v18GDBx2W27dvn8Nr28gUZWVlGjRoUKVTfHx8lXW3a9dO9913n1asWKFdu3bJYrHor3/9q1vHDgB1hVAMAD6mSZMmeuWVV/TYY49pxIgRlS5z/fXXq6ysTHPmzHGY//zzz8tkMtlHr7A9XjhyhSS98MILDq8DAwM1evRo/e9//9OuXbsq7C8nJ8dpvUVFRSopKXGY165dO0VGRqq0tNTpegBQn+g+AQA+yFkXBpsRI0ZowIAB+r//+z99//336t69u1asWKGPPvpI9957r70PcY8ePTRu3Di9/PLLysvL05VXXqnVq1fru+++q7DNp556SmvXrlWfPn105513KjU1VadOndL27du1atUqnTp1qtJa9u/fr2uvvVZjxoxRamqqgoKCtGjRIp04cUJjx46t/ckAAA8gFANAIxQQEKCPP/5Yjz76qN577z3NnTtXrVu31rPPPqv77rvPYdk33nhDcXFx+u9//6sPP/xQAwcO1JIlS5ScnOywXEJCgjZv3qwnnnhCH3zwgV5++WXFxsaqc+fOevrpp53WkpycrHHjxmn16tV66623FBQUpI4dO+r999/X6NGj6+T4AcBdJsO46NZGAAAAgJ+hTzEAAAD8HqEYAAAAfo9QDAAAAL9HKAYAAIDfIxQDAADA7/lkKH7llVfUrVs3RUVFKSoqSunp6Vq6dKn9/WuuuUYmk8lh+u1vf+uwjczMTA0bNkzh4eGKj4/XAw88oPPnz9f3oQAAAKAB8Mlxilu2bKmnnnpK7du3l2EYevPNNzVy5Eh99dVX6ty5syTpzjvv1BNPPGFfJzw83P68rKxMw4YNU2Jior744gsdP35cEyZMUHBwsP7f//t/LtdRXl6uY8eOKTIyUiaTyXMHCAAAAI8wDENnz55VixYtFBBQRXuw0Ug0bdrU+Ne//mUYhmH079/f+MMf/uB02U8//dQICAgwsrKy7PNeeeUVIyoqyigtLXV5n0ePHjUkMTExMTExMTExNfDp6NGjVeY6n2wpvlBZWZkWLFigwsJCpaen2+f/97//1dtvv63ExESNGDFCjzzyiL21OCMjQ127dlVCQoJ9+SFDhmjKlCnavXu3evbsWem+SktLVVpaan9t/HTfk6NHjyoqKqouDg8AAAC1kJ+fr+TkZEVGRla5nM+G4p07dyo9PV0lJSVq0qSJFi1apNTUVEnSrbfeqlatWqlFixb65ptv9OCDD2rfvn364IMPJElZWVkOgViS/XVWVpbTfc6ePVuPP/54hfm2vs0AAABomKrr6uqzobhDhw7asWOH8vLytHDhQk2cOFHr169Xamqq7rrrLvtyXbt2VVJSkq699lodPHhQ7dq1q/E+Z86cqRkzZthf2/7yAAAAgG/zydEnJMlsNuvSSy9VWlqaZs+ere7du+vvf/97pcv26dNHkvTdd99JkhITE3XixAmHZWyvExMTne4zJCTE3ipM6zAAAEDj4bOh+GLl5eUO/X0vtGPHDklSUlKSJCk9PV07d+5Udna2fZmVK1cqKirK3gUDAAAA/sMnu0/MnDlT1113nVJSUnT27FnNnz9f69at0/Lly3Xw4EHNnz9f119/vWJjY/XNN99o+vTp6tevn7p16yZJGjx4sFJTUzV+/Hg988wzysrK0sMPP6ypU6cqJCTEy0cHAAAaC8MwdP78eZWVlXm7lEYrMDBQQUFBtR4e1ydDcXZ2tiZMmKDjx48rOjpa3bp10/Lly/XLX/5SR48e1apVq/TCCy+osLBQycnJGj16tB5++GH7+oGBgVq8eLGmTJmi9PR0RUREaOLEiQ7jGgMAANSGxWLR8ePHVVRU5O1SGr3w8HAlJSXJbDbXeBsmwzauGNyWn5+v6Oho5eXl0b8YAADYlZeX68CBAwoMDFRcXJzMZjM3+qoDhmHIYrEoJydHZWVlat++fYUbdLia13yypRgAAKAhs1gsKi8vV3JyssNddeF5YWFhCg4O1pEjR2SxWBQaGlqj7TSaC+0AAAAamipvKwyP8cR5pqUYAACgAbOUGfrbN7mSpBndYmUOpBtGXeDPFwAAAPg9QjEAAAD8HqEYAAAAkqRXX31VkZGROn/+vH1eQUGBgoODdc011zgsu27dOplMJh08eLBG+3rsscfUo0ePWlTrWYRiAACABsxS9vPouZuzix1ee9qAAQNUUFCgrVu32ud99tlnSkxM1KZNm1RSUmKfv3btWqWkpKhdu3Zu7cN2Q5OGhlAMAADQQFjKDIepwFKut/fl6rylVMcP7NH6zNOau+ekCizlDst5SocOHZSUlKR169bZ561bt04jR45UmzZt9OWXXzrMHzBggMrLyzV79my1adNGYWFh6t69uxYuXOiwnMlk0tKlS5WWlqaQkBC9/fbbevzxx/X111/LZDLJZDJp3rx5kqQzZ87oN7/5jeLi4hQVFaWBAwfq66+/9tgxOsPoEwAAAA2EbZSJC523WPTS+MHKOrBHie1TNfWtFZqz+5TDMn/q2dxjNQwYMEBr167Vn/70J0nWFuE//vGPKisr09q1a3XNNdeouLhYmzZt0q9//WvNnj1bb7/9tl599VW1b99eGzZs0O233664uDj179//5xr/9Cc999xzatu2rUJDQ3Xfffdp2bJlWrVqlSQpOjpaknTzzTcrLCxMS5cuVXR0tF577TVde+212r9/v5o1a+ax47wYobgRspQZ2pZTrDxLuaLNAUqLC2P4FgAAfFTOkYPKOrBHkpR1YI9OHjmoxPapdba/AQMG6N5779X58+dVXFysr776Sv3799e5c+f06quvSpIyMjJUWlqqa665RqmpqVq1apXS09MlSW3bttXGjRv12muvOYTiJ554Qr/85S/tr5s0aaKgoCAlJiba523cuFGbN29Wdna2QkJCJEnPPfecPvzwQy1cuFB33XVXnR03obiRsZQZmrf3pHIKLcrNPKjYlHbaebJQkzo1JxgDANDAzegW6/B6c3ax1lvaKbF9qr2lOK5VO12VGK7e8WF1UsM111yjwsJCbdmyRadPn9Zll11mb/W94447VFJSonXr1qlt27YqKChQUVGRQ9iVrHf069mzp8O8yy+/vNp9f/311yooKFBsrON5KC4urvEFfa4iFDcy23KKlVNo0ZwL/s0y7a0V2pZTrPREbjMJAEBDdnEDVu/4MO0+Waipb63QySMHFdeqneIizOodX3f/Bb700kvVsmVLrV27VqdPn7a39rZo0ULJycn64osvtHbtWg0cOFAFBQWSpCVLluiSSy5x2I6tpdcmIiKi2n0XFBRU6NNsExMTU7MDchGhuJHJs5QrN9Px3yy5mYeUl9SzmjUBAEBDYw406bYOsZqz+5QS26faW4jr+r+/AwYM0Lp163T69Gk98MAD9vn9+vXT0qVLtXnzZk2ZMkWpqakKCQlRZmamQ1cJV5jNZpWVlTnM69Wrl7KyshQUFKTWrVt74lBcRihuZKLNAYpNcfw3S2xKW0WbGWgEAABfdGEAro9ALFlD8dSpU3Xu3DmHsNu/f39NmzZNFotFAwYMUGRkpO6//35Nnz5d5eXluuqqq5SXl6fPP/9cUVFRmjhxotN9tG7dWocPH9aOHTvUsmVLRUZGatCgQUpPT9eoUaP0zDPP6LLLLtOxY8e0ZMkS3XjjjS51wagpQnEjkxYXpp0nCzXtrRXKzTyk2JS2ioswKy2ubvodAQCAxmfAgAEqLi5Wx44dlZCQYJ/fv39/nT171j50myQ9+eSTiouL0+zZs3Xo0CHFxMSoV69eeuihh6rcx+jRo/XBBx9owIABOnPmjObOnatJkybp008/1f/93//pjjvuUE5OjhITE9WvXz+HOuqCyTCMuhsBupHLz89XdHS08vLyFBUV5e1y7Bh9AgAA7yopKdHhw4fVpk0bhYaG1mpbljLDPlTbjG6x/E6vRFXn29W8RktxI2QONHFRHQAAjYQ50OTRcYhROTqaAgAAwO8RigEAAOD3CMUAAADwe4RiAACAOsJ4BvXDE+eZUAwAAOBhwcHBkqSioiIvV+IfbOfZdt5rgtEnAAAAPCwwMFAxMTHKzs6WJIWHh8tkYig1TzMMQ0VFRcrOzlZMTIwCAwNrvC1CMQAAQB1ITEyUJHswRt2JiYmxn++aIhQDAADUAZPJpKSkJMXHx+vcuXPeLqfRCg4OrlULsQ2hGAAAoA4FBgZ6JLShbnGhHQAAAPweoRgAAAB+j1AMAAAAv0coBgAAgN8jFAMAAMDvEYoBAADg9wjFAAAA8HuEYgAAAPg9QjEAAAD8HqEYAAAAfo9QDAAAAL9HKAYAAIDfIxQDAADA7xGKAQAA4PcIxQAAAPB7hGIAAAD4PUIxAAAA/B6hGAAAAH6PUAwAAAC/RygGAACA3yMUAwAAwO8RigEAAOD3CMUAAADwe4RiAAAA+D1CMQAAAPweoRgAAAB+zydD8SuvvKJu3bopKipKUVFRSk9P19KlS+3vl5SUaOrUqYqNjVWTJk00evRonThxwmEbmZmZGjZsmMLDwxUfH68HHnhA58+fr+9DAQAAQAPgk6G4ZcuWeuqpp7Rt2zZt3bpVAwcO1MiRI7V7925J0vTp0/XJJ59owYIFWr9+vY4dO6Zf/epX9vXLyso0bNgwWSwWffHFF3rzzTc1b948Pfroo946JAAAAHiRyTAMw9tFeEKzZs307LPP6qabblJcXJzmz5+vm266SZL07bffqlOnTsrIyFDfvn21dOlSDR8+XMeOHVNCQoIk6dVXX9WDDz6onJwcmc1ml/aZn5+v6Oho5eXlKSoqqs6ODQAAADXjal7zyZbiC5WVlendd99VYWGh0tPTtW3bNp07d06DBg2yL9OxY0elpKQoIyNDkpSRkaGuXbvaA7EkDRkyRPn5+fbW5sqUlpYqPz/fYQIAAIDv89lQvHPnTjVp0kQhISH67W9/q0WLFik1NVVZWVkym82KiYlxWD4hIUFZWVmSpKysLIdAbHvf9p4zs2fPVnR0tH1KTk727EEBAADAK3w2FHfo0EE7duzQpk2bNGXKFE2cOFF79uyp033OnDlTeXl59uno0aN1uj8AAADUjyBvF1BTZrNZl156qSQpLS1NW7Zs0d///nfdcsstslgsOnPmjENr8YkTJ5SYmChJSkxM1ObNmx22ZxudwrZMZUJCQhQSEuLhIwEAAIC3+WxL8cXKy8tVWlqqtLQ0BQcHa/Xq1fb39u3bp8zMTKWnp0uS0tPTtXPnTmVnZ9uXWblypaKiopSamlrvtQMAAMC7fLKleObMmbruuuuUkpKis2fPav78+Vq3bp2WL1+u6OhoTZ48WTNmzFCzZs0UFRWle+65R+np6erbt68kafDgwUpNTdX48eP1zDPPKCsrSw8//LCmTp1KSzAAAIAf8slQnJ2drQkTJuj48eOKjo5Wt27dtHz5cv3yl7+UJD3//PMKCAjQ6NGjVVpaqiFDhujll1+2rx8YGKjFixdrypQpSk9PV0REhCZOnKgnnnjCW4cEAAAAL2o04xR7A+MUAwAANGx+M04xAAAAUFuEYgAAAPg9QjEAAAD8HqEYAAAAfo9QDAAAAL9HKAYAAIDfIxQDAADA7xGKAQAA4PcIxQAAAPB7hGIAAAD4PUIxAAAA/B6hGAAAAH6PUAwAAAC/RygGAACA3yMUAwAAwO8RigEAAOD3CMUAAADwe4RiAAAA+D1CMQAAAPweoRgAAAB+j1AMAAAAv0coBgAAgN8jFAMAAMDvEYoBAADg9wjFAAAA8HuEYgAAAPg9QjEAAAD8HqEYAAAAfo9QDAAAAL9HKAYAAIDfC/J2Aag/ljJD23KKlWcpV7Q5QGlxYTIHmrxdFgAAgNcRiv2EpczQvL0nlVNoUW7mQcWmtNPOk4Wa1Kk5wRgAAPg9QrGf2JZTrJxCi+aMH6ysA3uU2D5V095aoW05xUpPDPd2eQAAAF5Fn2I/kWcpV27mQWUd2CNJyjqwR7mZh5RnKfdyZQAAAN5HKPYT0eYAxaa0U2L7VElSYvtUxaa0VbSZjwAAAADdJ/xEWlyYdp4s1LS3Vig385BiU9oqLsKstLgwb5cGAADgdYRiP2EONGlSp+bW0SeSejL6BAAAwAUIxX7EHGjiojoAAIBK0KEUAAAAfo9QDAAAAL9HKAYAAIDfIxQDAADA7xGKAQAA4PcIxQAAAPB7hGIAAAD4PUIxAAAA/B6hGAAAAH6PUAwAAAC/RygGAACA3yMUAwAAwO8RigEAAOD3fDIUz549W1dccYUiIyMVHx+vUaNGad++fQ7LXHPNNTKZTA7Tb3/7W4dlMjMzNWzYMIWHhys+Pl4PPPCAzp8/X5+H4rotW6SrrpKGDfN2JQAAAI1OkLcLqIn169dr6tSpuuKKK3T+/Hk99NBDGjx4sPbs2aOIiAj7cnfeeaeeeOIJ++vw8HD787KyMg0bNkyJiYn64osvdPz4cU2YMEHBwcH6f//v/9Xr8bjEbJY+/1yKiZEMQzKZvF0RAABAo2EyDMPwdhG1lZOTo/j4eK1fv179+vWTZG0p7tGjh1544YVK11m6dKmGDx+uY8eOKSEhQZL06quv6sEHH1ROTo7MZnO1+83Pz1d0dLTy8vIUFRXlseOpVHGx1KSJVF4uHT8uJSbW7f4AAAAaAVfzmk92n7hYXl6eJKlZs2YO8//73/+qefPm6tKli2bOnKmioiL7exkZGeratas9EEvSkCFDlJ+fr927d1e6n9LSUuXn5ztM9SYsTGrTxvp879762y8AAIAf8MnuExcqLy/Xvffeq1/84hfq0qWLff6tt96qVq1aqUWLFvrmm2/04IMPat++ffrggw8kSVlZWQ6BWJL9dVZWVqX7mj17th5//PE6OhIXdOokHTxoDcUDBnivDgAAgEbG50Px1KlTtWvXLm3cuNFh/l133WV/3rVrVyUlJenaa6/VwYMH1a5duxrta+bMmZoxY4b9dX5+vpKTk2tWeE106iQtXizt2VN/+wQAAPADPt19Ytq0aVq8eLHWrl2rli1bVrlsnz59JEnfffedJCkxMVEnTpxwWMb2OtFJf92QkBBFRUU5TPWqUyfrI90nAAAAPMonQ7FhGJo2bZoWLVqkNWvWqI2tr20VduzYIUlKSkqSJKWnp2vnzp3Kzs62L7Ny5UpFRUUpNTW1TuquNVtdhGIAAACP8snuE1OnTtX8+fP10UcfKTIy0t4HODo6WmFhYTp48KDmz5+v66+/XrGxsfrmm280ffp09evXT926dZMkDR48WKmpqRo/fryeeeYZZWVl6eGHH9bUqVMVEhLizcNzrmNH6+Px41JenhQd7d16AAAAGgmfHJLN5GSM3rlz52rSpEk6evSobr/9du3atUuFhYVKTk7WjTfeqIcfftihy8ORI0c0ZcoUrVu3ThEREZo4caKeeuopBQW59rdCvQ7JZnPJJdKxY1JGhtS3b/3sEwAAwEe5mtd8sqW4uhyfnJys9evXV7udVq1a6dNPP/VUWfWjUydrKN67l1AMAADgIT7Zp9iv2S62YwQKAAAAjyEU+xpGoAAAAPA4QrGvYQQKAAAAjyMU+xpbS/Hhw1JxsXdrAQAAaCQIxb4mPl5q2lQyDGn/fm9XAwAA0CgQin2NyUS/YgAAAA8jFPsiQjEAAIBHEYp9ke1iO4ZlAwAA8AhCsS+ipRgAAMCjCMW+yBaK9++Xzp/3bi0AAACNAKHYF6WkSOHh0rlz0qFD3q4GAADA5xGKfVFAgNSxo/X57t3erQUAAKARIBT7qi5drI+EYgAAgFojFPsqWyjeudO7dQAAADQChGJfZQvFu3Z5tw4AAIBGgFDsq7p2tT7u3y+Vlnq3FgAAAB9HKPZVl1wiRUdbh2Tbv9/b1QAAAPg0QrGvMpnoQgEAAOAhhGJfRigGAADwCEKxL2MECgAAAI8gFPsyWooBAAA8glDsy2yh+PBhqaDAu7UAAAD4MEKxL2veXEpMtD7fs8e7tQAAAPgwQrGvowsFAABArRGKfR2hGAAAoNYIxb6OESgAAABqjVDs62gpBgAAqDVCsa/r3Nn6mJUlnTzp3VoAAAB8FKHY1zVpIrVpY32+e7d3awEAAPBRhOLGgC4UAAAAtUIobgy42A4AAKBWCMWNQdeu1sdvvvFuHQAAAD6KUNwY9OhhffzmG6m83KulAAAA+CJCcWPQvr0UGioVFkoHD3q7GgAAAJ9DKG4MgoJ+7lf89dferQUAAMAHEYobi+7drY+EYgAAALcRihsLW7/iHTu8WQUAAIBPIhQ3FrQUAwAA1BihuLHo1s36ePSodOqUd2sBAADwMYTixiI6Wmrd2vqc8YoBAADcQihuTOhXDAAAUCOE4saEfsUAAAA1QihuTAjFAAAANUIobkxsoXj3buncOe/WAgAA4EMIxY1J69ZSVJRksUjffuvtagAAAHwGobgxCQj4eWg2ulAAAAC4jFDc2NCvGAAAwG2E4sbGFooZlg0AAMBlhOLGxjZW8ddfS4bh1VIAAAB8BaG4senSRQoMlHJypGPHvF0NAACATyAUNzZhYVKnTtbn27d7txYAAAAfQShujNLSrI/btnm3DgAAAB/hk6F49uzZuuKKKxQZGan4+HiNGjVK+/btc1impKREU6dOVWxsrJo0aaLRo0frxIkTDstkZmZq2LBhCg8PV3x8vB544AGdP3++Pg+lbvTqZX0kFAMAALik3kLxiRMn9O9//1tPP/203n//fRUVFdV4W+vXr9fUqVP15ZdfauXKlTp37pwGDx6swsJC+zLTp0/XJ598ogULFmj9+vU6duyYfvWrX9nfLysr07Bhw2SxWPTFF1/ozTff1Lx58/Too4/W6jgbBFtLMd0nAAAAXGIyjNoPUbB3717NmjVLJpNJr732mmJiYhze//jjj3XrrbequLjYPq9ly5b66KOP1MM2WkIt5OTkKD4+XuvXr1e/fv2Ul5enuLg4zZ8/XzfddJMk6dtvv1WnTp2UkZGhvn37aunSpRo+fLiOHTumhIQESdKrr76qBx98UDk5OTKbzdXuNz8/X9HR0crLy1NUVFStj6MqljJD23KKlWcpV7Q5QGlxYTIHmipfuKDAemc7w5COH5cSE+u0NgAAgIbK1bzmkZbiDz/8UAsXLtSxY8cqBOLs7GzdfvvtKioqkmEY9uno0aMaMWKECgoKar3/vLw8SVKzZs0kSdu2bdO5c+c0aNAg+zIdO3ZUSkqKMjIyJEkZGRnq2rWrPRBL0pAhQ5Sfn6/du3dXup/S0lLl5+c7TPXBUmZo3t6TWnPktFZs2q41R05r3t6TspQ5+XumSROpY0frc1qLAQAAquWRULx69WqZTCYNHz68wnsvv/yyCgoKFBQUpL/97W/6+uuv9cwzzyggIEDHjh3TP//5z1rtu7y8XPfee69+8YtfqEuXLpKkrKwsmc3mCgE9ISFBWVlZ9mUuDMS2923vVWb27NmKjo62T8nJybWq3VXbcoqVU2jRnPGD9fyY/pozfrByCi3allPsfCUutgMAAHCZR0JxZmamJKlnz54V3vvf//4nk8mkCRMm6N5771XXrl11//33a/LkyTIMQx9//HGt9j116lTt2rVL7777bq2244qZM2cqLy/PPh09erTO9ylJeZZy5WYeVNaBPZKkrAN7lJt5SHmWcucrcbEdAACAyzwSirOzsyVJ8fHxDvNPnjxp74pw6623Orx3ww03SJL27NlT4/1OmzZNixcv1tq1a9WyZUv7/MTERFksFp05c8Zh+RMnTijxp/61iYmJFUajsL1OdNIHNyQkRFFRUQ5TfYg2Byg2pZ0S26da62ufqtiUtoo2V/Hl42I7AAAAl3kkFNsuoCspKXGYv3HjRkmS2WzWVVdd5fBeUlKSJFUIrq4wDEPTpk3TokWLtGbNGrVp08bh/bS0NAUHB2v16tX2efv27VNmZqbS09MlSenp6dq5c6c90EvSypUrFRUVpdTUVLdrqktpcWGKizBr2lsrNP39DZr21grFRZiVFhfmfCXbBYxHj1rvbgcAAACngjyxkWbNmik7O1uZmZnq27evfb4tlF5++eUVRnOwjQfcpEkTt/c3depUzZ8/Xx999JEiIyPtfYCjo6MVFham6OhoTZ48WTNmzFCzZs0UFRWle+65R+np6fb6Bg8erNTUVI0fP17PPPOMsrKy9PDDD2vq1KkKCQmp0XmoK+ZAkyZ1am4dfSKpZ/WjT0jW0Scuu0zav9/ahWLo0PorGAAAwMd4pKW4e/fukqT58+fb5xUXF2vBggUymUwaOHBghXWOHDkiSRUudnPFK6+8ory8PF1zzTVKSkqyT++99559meeff17Dhw/X6NGj1a9fPyUmJuqDDz6wvx8YGKjFixcrMDBQ6enpuv322zVhwgQ98cQTbtdTH8yBJqUnhmtoShOlJ4ZXHYht6EIBAADgEo+0FI8dO1YrVqzQJ598orFjx+qqq67Se++9p+zsbAUEBGjcuHEV1tm0aZMkqVWrVm7vz5WhlUNDQ/XSSy/ppZdecrpMq1at9Omnn7q9f5/Rq5f0zjtcbAcAAFANj7QUT5gwQVdddZUMw9CCBQv0hz/8QV988YUk6Y477lBH25i5F/jggw9kMpl05ZVXeqIEVIaWYgAAAJd4JBQHBARo6dKlmjFjhlq2bKmgoCAlJyfrkUce0SuvvFJh+cWLF+v777+XJF1//fWeKAGVsQ2R9/33Um6uV0sBAABoyDxym2d3nT592n43uJp0n2go6vM2zzV26aXSwYPSihXSL3/p7WoAAADqVb3e5tldTZs2VatWrXw6EPsMWxeKrVu9WwcAAEAD5pFQPHDgQF177bX2ESVccezYMft6qEO9e1sfN2/2bh0AAAANmEdGn1i3bp1MJpMKCwtdXqe4uNi+HuoQoRgAAKBaXuk+gXrUq5cUGCgdOyb9+KO3qwEAAGiQvBaKba3KoaGh3irBP0RESF26WJ//NDY0AAAAHHktFC9dulSS1LJlS2+V4D/oQgEAAFClGvUp/vWvf13p/IcfflgxMTFVrltaWqqDBw9qy5YtMplM6t+/f01KgDt695b++U9CMQAAgBM1Gqc4ICDA4QI52yZcvWjOtnyzZs20ZcsWtWnTxt0SGgSfGKdYknbulLp1kyIjpdOnrX2MAQAA/ICrea1GLcUpKSkOAfjIkSMymUxKSkpScHCw0/VMJpNCQ0OVlJSkK6+8UlOmTFGLFi1qUgLckZpq7Vt89qz07bdS587erggAAKBBqVEott2i2SYgwNo1ecWKFUpNTa11UfCwwEDrTTw2bLB2oSAUAwAAOPDIhXb9+vVTv379FBER4YnNoS5wsR0AAIBTHrt5Bxq4Pn2sj4RiAACACjwSiuE9ljJD23KKlWcpV7Q5QGlxYTIHVnLBo62l+JtvpOJiKSysfgsFAABowOosFOfn5+vs2bMqKyurdtmUlJS6KqNRs5QZmrf3pHIKLcrNPKjYlHbaebJQkzo1rxiMk5OlhATpxAnpq6+kK6/0TtEAAAANkEdD8cqVK/Xyyy9r48aNOnXqlEvrmEwmnT9/3pNl+I1tOcXKKbRozvjByjqwR4ntUzXtrRXallOs9MRwx4VNJmsXio8/tnahIBQDAADYeeyOdr///e81dOhQffzxx8rNzZVhGC5PqJk8S7lyMw8q68AeSVLWgT3KzTykPEt55StwsR0AAEClPNJSPH/+fM2ZM0eSFBoaqlGjRiktLU3NmjWzD9cGz4s2Byg2pZ0S26faW4pjU9oq2uzknNtCcUZG/RUJAADgAzwSil977TVJUnJystasWaN27dp5YrOoRlpcmHaeLNS0t1YoN/OQYlPaKi7CrLQ4JxfR9elj7Ubx/ffS8eNSUlK91gsAANBQeSQUf/PNNzKZTJo1axaBuB6ZA02a1Km5dfSJpJ5Vjz4hSVFRUteu1hEoMjKkX/2qfgsGAABooDzSt+HcuXOSpJ49e3pic3CDOdCk9MRwDU1povTEcOeB2OYXv7A+fv553RcHAADgIzwSilu3bi1JKigo8MTmUJdso0588YV36wAAAGhAPBKKf/XTv+FXr17tic2hLtlC8bZtUkmJd2sBAABoIDwSiu+77z6lpKTohRde0LfffuuJTaKutGljvYnHuXPWYAwAAADPhOLo6GgtX75cCQkJuvLKK/Xyyy/r9OnTntg0PM1kogsFAADARTwy+kTbtm0lSUVFRTpz5ozuuece/f73v1fz5s0VHh5e5bomk0kHDx70RBlw1ZVXSosWEYoBAAB+4pFQ/P333zu8tt2pLjs7u9p1TaZqRkuA513YUmwY1tZjAAAAP+aRUDxx4kRPbAb1pVcvyWyWsrOlQ4ckxpYGAAB+ziOheO7cuZ7YDOpLaKh0+eXWluIvviAUAwAAv+eRC+3gg2xdKLiJBwAAAKHYbzECBQAAgB2h2F+lp1sfd+2S8vK8WwsAAICXeaRP8X/+859arT9hwgRPlAF3JCZa+xIfPChlZEhDh3q7IgAAAK/xSCieNGlSjYdWM5lMhGJv6dfPGoo3bCAUAwAAv+ax7hO2sYlrMsFL+vWzPq5f7906AAAAvMwjLcWHDx+udpnCwkLt379f8+fP18KFC/WLX/xCr7/+erV3vEMdsoXiLVukoiKJrwUAAPBTJsMLTbXvv/++br31Vl1zzTVauXKlz97VLj8/X9HR0crLy1NUVJS3y3GfYUjJydKPP0pr1kgDBni7IgAAAI9yNa95ZfSJMWPGaOLEiVq7dq1ee+01b5QAyXp7Z1tr8YYN3q0FAADAi7w2JNuYMWNkGIbmzZvnrRIgEYoBAADkxVCckJAgSdq3b5+3SoAk9e9vfczIkCwW79YCAADgJV4LxZmZmZKkc+fOeasESFLHjlLz5lJxsbR1q7erAQAA8AqvhOJz587pmWeekSRdeuml3igBNvQrBgAA8MyQbLZW36qUl5fr9OnT2rp1q+bMmaNdu3bJZDJp7NixnigBtdGvn/TBB9ZQ/Kc/ebsaAACAeueRUNymTRu31zEMQ+np6Zo+fbonSkBt2FqKN26UysqkwEDv1gMAAFDPPNJ9wt072DVt2lQzZ87UqlWrFBIS4okSUBvduknR0dLZs9LXX3u7GgAAgHrnkZbiuXPnVrtMQECAIiMj1aZNG3Xp0kWBtEY2HIGB0lVXSUuWWG/53KuXtysCAACoVx4JxRMnTvTEZuBN/ftbQ/HatRJdWgAAgJ/x2pBsaGAGDrQ+rl8vnT/v3VoAAADqGaEYVj16SE2bSvn50rZt3q4GAACgXnmk+8TFtm3bplWrVmnXrl06deqUJKlZs2bq0qWLBg0apLS0tLrYLWojMFC65hpp0SJp9WqpTx9vVwQAAFBvPNpSvHPnTqWnp6t379566KGHNH/+fC1btkzLli3T/Pnz9dBDD6l379668sortXPnzhrvZ8OGDRoxYoRatGghk8mkDz/80OH9SZMmyWQyOUxDhw51WObUqVO67bbbFBUVpZiYGE2ePFkFBQU1rqlRuPZa6+Pq1d6tAwAAoJ55LBSvWrVKvXv31ubNm+1DrwUFBSkhIUEJCQkKCgqyz//yyy/Vu3dvra5h+CosLFT37t310ksvOV1m6NChOn78uH165513HN6/7bbbtHv3bq1cuVKLFy/Whg0bdNddd9WonkbDFoo//1wqKfFuLQAAAPXII6H45MmTuvnmm1VaWiqTyaTf/OY32rRpkwoLC3Xs2DEdO3ZMRUVF2rx5s+68804FBgaqtLRUN998s3Jzc93e33XXXac///nPuvHGG50uExISosTERPvUtGlT+3t79+7VsmXL9K9//Ut9+vTRVVddpRdffFHvvvuujh07VqNz0Ch06CAlJUmlpdIXX3i7GgAAgHrjkVD897//XXl5eTKbzVqyZIlef/11XXHFFQoK+rnLcmBgoC6//HK99tprWrJkiYKDg5WXl6e///3vniihgnXr1ik+Pl4dOnTQlClTHMJ3RkaGYmJidPnll9vnDRo0SAEBAdq0aZPTbZaWlio/P99halRMJrpQAAAAv+SRULxkyRKZTCZNmzZNQ4YMqXb5wYMH65577pFhGFqyZIknSnAwdOhQ/ec//9Hq1av19NNPa/369bruuutUVlYmScrKylJ8fLzDOkFBQWrWrJmysrKcbnf27NmKjo62T8nJyR6v3etsoXjNGu/WAQAAUI88EooPHz4sSbrhhhtcXse27KFDhzxRgoOxY8fqhhtuUNeuXTVq1CgtXrxYW7Zs0bp162q13ZkzZyovL88+HT161DMFNyS28Yq3bLEOzwYAAOAHPBKKS366KCsiIsLldWzLlpaWeqKEKrVt21bNmzfXd999J0lKTExUdna2wzLnz5/XqVOnlJiY6HQ7ISEhioqKcpganZQU6dJLpbIy6408AAAA/IBHQrEtSH711Vcur2NbNiEhwRMlVOmHH35Qbm6ukpKSJEnp6ek6c+aMtl1wk4o1a9aovLxcfRifly4UAADA73gkFF999dUyDENPPfWUSxefnT17Vk8//bRMJpOuvvpqt/dXUFCgHTt2aMeOHZKs3Td27NihzMxMFRQU6IEHHtCXX36p77//XqtXr9bIkSN16aWX2vs7d+rUSUOHDtWdd96pzZs36/PPP9e0adM0duxYtWjRwu16Gh1bFwoutgMAAH7CI6H47rvvlmQNp/369dPWrVudLrt161b1799fBw8edFjXHVu3blXPnj3Vs2dPSdKMGTPUs2dPPfroowoMDNQ333yjG264QZdddpkmT56stLQ0ffbZZwoJCbFv47///a86duyoa6+9Vtdff72uuuoqvf76627X0igNHGgdiWLnTsmfh6gDAAB+w2QYhuGJDU2bNk0vv/yyTCaTJKlz587q06eP4uPjZTKZdOLECW3atEm7d++WJBmGoalTp+rFF1/0xO69Ij8/X9HR0crLy2t8/YuvuELaulWaO1eaNMnb1QAAANSIq3ktyOk7bnrxxRcVHh6uv/3tbyovL9euXbvsAdjGlr8DAgJ0//3366mnnvLU7uFpQ4ZYQ/Hy5YRiAADQ6HnsNs8mk0nPPPOMduzYoSlTpqh9+/b22zrbpvbt22vKlCnasWOHvU8xGqihQ62PK1daR6IAAABoxDzWfaIyFotFp0+fliQ1bdpUZrO5rnblFY26+8S5c1Lz5taxijdtknr39nZFAAAAbnM1r3mspbgyZrNZCQkJSkhIaHSBuNELDpYGDbI+X77cu7UAAADUsRqF4qVLl6pXr17q1auX5s+f79a68+fPt6+7atWqmuwe9cV2y+5ly7xbBwAAQB1zu/uEYRjq1KmTDhw4oEGDBmm5m62IhmFoyJAhWrVqlbp27aqvv/7arfUbkkbdfUKSjhyRWreWAgOlkyelmBhvVwQAAOCWOus+sWbNGu3fv18BAQF6/vnn3S7MZDLphRdeUGBgoHbt2qX13Eq44WrVSurY0XqhHTfyAAAAjZjbofh///ufJOmXv/ylUlNTa7TT1NRU+93lFi5cWKNtoJ7QhQIAAPgBt0Px5s2bZTKZNGLEiFrtePjw4TIMQ19++WWttoM6ZgvFy5dLdTdQCQAAgFe5HYqPHDkiSerQoUOtdnzZZZdJkr7//vtabQd1rH9/KSREOnpU2rvX29UAAADUCbdDcV5eniSpWbNmtdqxbf38/PxabQd1LDzcGowl6dNPvVsLAABAHXE7FNuu2jtz5kytdmxbPzIyslbbQT0YPtz6uHixd+sAAACoI26H4ri4OEnSnj17arXjvT/9Kz4+Pr5W20E9sIXijRuln+5QCAAA0Ji4HYp79+4twzD0ySef1GrHH330kUwmk6644opabQf1oE0bqXNn69BsjEIBAAAaIbdD8XXXXSdJWrFihTZu3FijnW7YsEErVqxw2B4aOFtrcS3/GAIAAGiI3A7Fo0ePVuvWrWUYhm6++WYdOHDArfX379+vMWPGyGQyqXXr1rrpppvcLQHeYBuCb+lS6fx579YCAADgYW6H4uDgYD333HOSpOzsbKWlpenvf/+7CgsLq1yvoKBAL7zwgi6//HJlZ2dLkv76178qKCioBmXDkyxlhjKyirQss0AZWUWylFUyHnHfvlJsrHTmjPT55/VeIwAAQF0yGUbN7sjw5JNPatasWTKZTJKkiIgIXX311UpLS1N8fLwiIiJUWFioEydOaPv27frss89UWFgo2+6eeOIJPfzww547Ei9w9V7aDZmlzNC8vSeVU2hRbuZBxaa0U1yEWZM6NZc50OS48IQJ0ltvSfffLz37rHcKBgAAcIOrea3GoViS5s6dq3vuuUdFRUXWjZlMTpe17SY8PFxz5szRpEmTarrbBqMxhOKMrCKtOXJac8YPVtaBPUpsn6ppb63QwFZNlZ4Y7rjw++9Lt9wideggffutdwoGAABwg6t5ze3uExe64447tH//fs2YMUPNmzeXYRhOp+bNm+u+++7T/v37G0UgbizyLOXKzTyorAPWIfayDuxRbuYh5VnKKy48ZIgUFCTt2ye52ZccAACgIat1h94WLVroueee03PPPafdu3fr66+/Vm5urs6ePavIyEjFxsaqe/fu6ty5syfqhYdFmwMUm9JOie1T7S3FsSltFW2u5O+l6GipXz9pzRrrjTymT6//ggEAAOqAR69y69y5M+HXx6TFhWnnyUJNe2uFcjMPKTalreIizEqLC6t8heHDraH4448JxQAAoNGoVZ9if9cY+hRL1ovttuUUK89SrmhzgNLiwipeZGdz+LDUtq0UECCdOCE1b16/xQIAALihXvoUo3EwB5qUnhiuoSlNlJ4Y7jwQS9a72/XsKZWXW1uLAQAAGgFCMdz3q19ZHz/4wLt1AAAAeAihGO6zheKVK6X8fO/WAgAA4AGEYrivUyfrWMUWi/Tpp96uBgAAoNYIxXCfyUQXCgAA0KgQilEztlD86adScbF3awEAAKglQjFqJi1NSk6WCgulVau8XQ0AAECtEIpRKUuZoYysIi3LLFBGVpEsZRcNZ00XCgAA0IgQilGBpczQvL0ntebIaa3YtF1rjpzWvL0nKwZjWyj+6CPp3Ln6LxQAAMBDCMWoYFtOsXIKLZozfrCeH9Nfc8YPVk6hRdtyLuo7/ItfSPHx0unT1ls/AwAA+ChCMSrIs5QrN/Ogsg7skSRlHdij3MxDyrOUOy4YGCjdfLP1+bvv1nOVAAAAnkMoRgXR5gDFprRTYvtUSVJi+1TFprRVtLmSj8stt1gfP/hAKi2txyoBAAA8J8jbBaDhSYsL086ThZr21grlZh5SbEpbxUWYlRYXVnHhX/xCuuQS6ccfpWXLpJEj679gAACAWqKlGBWYA02a1Km5BrZqqsF9empgq6aa1Km5zIGmigsHBPzcWvzee/VbKAAAgIeYDMMwql8MlcnPz1d0dLTy8vIUFRXl7XK8Z/NmqU8fKTxcys6WIiK8XREAAIAk1/MaLcWovSuukNq0kYqKpCVLvF0NAACA2wjFqD2TSRo71vqcUSgAAIAPIhTDM2z9ij/9VMrP924tAAAAbiIUwzO6dZM6drQOy/bhh96uBgAAwC2EYniGySSNG2d9/vbb3q0FAADATYRieM7tt1sfV62yjlsMAADgIwjF8Jy2baWrr5YMQ/rvf71dDQAAgMsIxfCsCROsj2++aQ3HAAAAPoBQDM+6+WYpJETas0f66itvVwMAAOASQjE8KzpaGjXK+vw///FqKQAAAK4iFMPzbF0o5s+Xzp3zbi0AAAAuIBTD8wYPluLjpZwcaflyb1cDAABQLUIxPC8oSLrtNuvzN9/0bi0AAAAu8MlQvGHDBo0YMUItWrSQyWTShxfdQc0wDD366KNKSkpSWFiYBg0apAMHDjgsc+rUKd12222KiopSTEyMJk+erIKCgno8ikbO1oXio4+kkye9WwsAAEA1fDIUFxYWqnv37nrppZcqff+ZZ57RP/7xD7366qvatGmTIiIiNGTIEJWUlNiXue2227R7926tXLlSixcv1oYNG3TXXXfV1yE0fj16SGlp1j7FXHAHAAAaOJNh+PZgsiaTSYsWLdKon0Y8MAxDLVq00H333af7779fkpSXl6eEhATNmzdPY8eO1d69e5WamqotW7bo8ssvlyQtW7ZM119/vX744Qe1aNHCpX3n5+crOjpaeXl5ioqKqpPj82mvvSb99rdSx47WIdpMJm9XBAAA/Iyrec0nW4qrcvjwYWVlZWnQoEH2edHR0erTp48yMjIkSRkZGYqJibEHYkkaNGiQAgICtGnTJqfbLi0tVX5+vsOEKowbJ4WHS99+K33xhberAQAAcKrRheKsrCxJUkJCgsP8hIQE+3tZWVmKj493eD8oKEjNmjWzL1OZ2bNnKzo62j4lJyd7uPqGz1JmKCOrSMsyC5SRVSRLWRX/aIiKkm65xfr8n/+snwIBAABqoNGF4ro0c+ZM5eXl2aejR496u6R6ZSkzNG/vSa05clorNm3XmiOnNW/vyaqD8Z13Wh/ff1/Ky6ufQgEAANzU6EJxYmKiJOnEiRMO80+cOGF/LzExUdnZ2Q7vnz9/XqdOnbIvU5mQkBBFRUU5TP5kW06xcgotmjN+sJ4f019zxg9WTqFF23KKna/Ut6+UmioVF1tv5gEAANAANbpQ3KZNGyUmJmr16tX2efn5+dq0aZPS09MlSenp6Tpz5oy2bdtmX2bNmjUqLy9Xnz596r1mX5FnKVdu5kFlHdgjSco6sEe5mYeUZyl3vpLJ9HNrMV0oAABAA+WTobigoEA7duzQjh07JFkvrtuxY4cyMzNlMpl077336s9//rM+/vhj7dy5UxMmTFCLFi3sI1R06tRJQ4cO1Z133qnNmzfr888/17Rp0zR27FiXR57wR9HmAMWmtFNi+1RJUmL7VMWmtFW0uZqP0fjxktksffWVtHVrPVQKAADgHp8ckm3dunUaMGBAhfkTJ07UvHnzZBiGZs2apddff11nzpzRVVddpZdfflmXXXaZfdlTp05p2rRp+uSTTxQQEKDRo0frH//4h5o0aeJyHf42JJutT3FOoUW5mYcUm9JWcRFmTerUXObAaoZbu/126b//lSZNkubOrZd6AQAAXM1rPhmKGwp/C8WSNRhvyylWnqVc0eYApcWFVR+IJenLL6X0dCkkRPrxRyk2tu6LBQAAfs9vxylG3TIHmpSeGK6hKU2UnhjuWiCWpD59pF69pNJS6d//rtsiAQAA3EQoRv0wmaRp06zPX35ZKivzbj0AAAAXIBSj/owdKzVrJh05Ii1Z4u1qAAAA7AjFqD9hYdJvfmN9PmeOd2sBAAC4AKEY9eu3v7V2pVi5Utq3z9vVAAAASCIUw0MsZYYysoq0LLNAGVlFzm/93KaNNHy49TmtxQAAoIEgFKPWbOMXrzlyWis2bdeaI6c1b+9J58H497+3Pr7xhnTqVP0VCgAA4AShGLW2LadYOYUWzRk/WM+P6a854wcrp9CibTnFla9w7bVS9+5SUZH02mv1WywAAEAlCMWotTxLuXIzDyrrwB5JUtaBPcrNPKQ8S3nlK5hM0n33WZ//4x/WsYsBAAC8iFCMWos2Byg2pZ0S26dKkhLbpyo2pa2izVV8vG65RbrkEikrS3rnnXqqFAAAoHKEYtRaWlyY4iLMmvbWCk1/f4OmvbVCcRFmpcWFOV/JbP65b/Ff/ypxt3EAAOBFJsMgjdSUq/fS9geWMkPbcoqVZylXtDlAaXFh1d8C+swZKTlZKiiQli2Thgypl1oBAID/cDWv0VIMjzAHmpSeGK6hKU2UnhhefSCWpJiYn2/m8dxzdVofAABAVQjF8K4//EEKDJRWrZK2bvV2NQAAwE8RiuFdrVtLt95qff6Xv3i1FAAA4L8IxfC+mTOtw7R9+KG0c6e3qwEAAH6IUAzv69RJuukm6/PZs71bCwAA8EuEYjQMDz1kfXzvPWn/fu/WAgAA/A6hGA1Djx7S8OFSebn01FPergYAAPgZQjHqnaXMUEZWkZZlFigjq0iWsp+Gyv6//7M+vvWW9P33XqsPAAD4H0Ix6pWlzNC8vSe15shprdi0XWuOnNa8vSetwbhvX2nQIOn8eUaiAAAA9YpQjHq1LadYOYUWzRk/WM+P6a854wcrp9CibTnF1gUef9z6OHeudOCA9woFAAB+hVCMepVnKVdu5kFlHdgjSco6sEe5mYeUZym3LnDlldL110tlZT8HZAAAgDpGKEadqazvcLQ5QLEp7ZTYPlWSlNg+VbEpbRVtvuCj+OST1sf586Vdu7xQOQAA8DdB3i4AjZOt73BOoUW5mQcVm9JOO08W6tbLYrXzpFnT3lqh3MxDik1pq7gIs9Liwn5euVcvafRo6X//k2bNsj4CAADUIZNhGIa3i/BV+fn5io6OVl5enqKiorxdToOSkVWkNUdOa874wco6sEeJ7VM17a0VGtiqqdLiwrQtp1h5lnJFmwOUFhcmc6DJcQN79khdukiGIW3dKqWleedAAACAT3M1r9F9AnWiqr7D5kCT0hPDNTSlidITwysGYklKTZVuu8363HZjDwAAgDpCKEadcKnvcHUef1wKDpZWrLBOAAAAdYRQjDqRFhemuAhr3+Hp72/QtLdWVOw7XJ22baWpU63PH3jAOiIFAABAHaBPcS3Qp7hqljKj+r7D1cnNlS69VDpzRnrjDemOO+qkVgAA0DjRpxhe51Lf4erExkoPP2x9/vDDUmGhZ4sEAAAQoRi+YNo0qXVr6dgx6W9/83Y1AACgESIUo+ELCZGeesr6/OmnreEYAADAgwjF8A1jxkh9+1q7Tzz4oLerAQAAjQyhGL7BZJLmzLE+vv229Nln3q4IAAA0IoRi+I60NOnOO63Pp02Tzp/3bj0AAKDRIBTDt/zlL1LTptI330ivvurtagAAQCNBKIZvad7cGowl6ZFHpOxs79YDAAAaBUIxGgxLmaGMrCItyyxQRlaRLGVO7itz111Sjx7WG3o88EB9lggAABopQjEaBEuZoXl7T2rNkdNasWm71hw5rXl7T1YejAMDpVdesV5095//SKtW1X/BAACgUSEUo0HYllOsnEKL5owfrOfH9Nec8YOVU2jRtpziylfo21eaOtX6/O67paKi+isWAAA0OoRiNAh5lnLlZh5U1oE9kqSsA3uUm3lIeZZy5yv9v/8ntWwpHTokPf54PVUKAAAaI0IxGoRoc4BiU9opsX2qJCmxfapiU9oq2lzFRzQyUnr5Zevzv/5V+uor1/slAwAAXMBkGAapoYby8/MVHR2tvLw8RUVFebscn2brU5xTaFFu5iHFprRVXIRZkzo1lznQVPXKY8ZICxaovFcv/ftfnyjbYig386BiU9q5vg0AANAouZrXCMW1QCj2LEuZoW05xcqzlCvaHKC0uDDXwmxWlpSaKp0+rQ2/maFb1i9T1oE9SmyfqmlvrdDAVk2Vnhhe93UAAIAGx9W8FlSPNQFVMgea3AqvdomJ1m4U48bpF2/8XZeUlylLF/RLTurp8qYcW6ytrc07TxbS2gwAQCNHn2I0aC73ER47VidvGK3A8jLNN5sVKhf7JV/E7VEwAABAo0AoRoPl1tjFkqL++aqKmsfrMotFS4eP0bS3Viguwqy0uDCX91mjUTAAAIDPIxSjwXK31dYc31zB//63JKn/kgUa9eMut7s91GgUDAAA4PP4TY8GqyattsE3DJd+8xuZDEOdp98lc95pt/aZFhemuAizpr21QtPf31Cj1mYAAOB7CMVosGrcavu3v0mXXiplZkqTJ0tuDLBiDjRpUqfmGtiqqQb36amBrZpykR0AAH6AIdlqgSHZ6lZVYxdLqnrYtO3bpfR0yWKR/vEP6Z57vHQUAADAm1zNa42ypfixxx6TyWRymDp27Gh/v6SkRFOnTlVsbKyaNGmi0aNH68SJE16sGJVx1morqfoL8Hr1kp57zvr8/vulbdu8cAQAAMBXNMpQLEmdO3fW8ePH7dPGjRvt702fPl2ffPKJFixYoPXr1+vYsWP61a9+5cVq4Yxt7OKhKU2Unhguc6DJ9Qvwpk2TRo2ythbfcouUn++VYwAAAA1fo715R1BQkBITEyvMz8vL07///W/Nnz9fAwcOlCTNnTtXnTp10pdffqm+ffvWd6lwk9ML8C6+SYfJJL3xhvTVV9LBg9JvfiO99551vrhzHQAA+FmjbSk+cOCAWrRoobZt2+q2225TZmamJGnbtm06d+6cBg0aZF+2Y8eOSklJUUZGRpXbLC0tVX5+vsOE+ufWBXhNm0rvvisFBUkLFkjPPCPJ/TGQAQBA49YoQ3GfPn00b948LVu2TK+88ooOHz6sq6++WmfPnlVWVpbMZrNiYmIc1klISFBWVlaV2509e7aio6PtU3Jych0eBZxxe9i0vn2lF1+0Pp85U1q2jDvXAQAAB42y+8R1111nf96tWzf16dNHrVq10vvvv6+wsJqPNztz5kzNmDHD/jo/P59g7AW2C/C25RQrL6mna10f7r7bOiLFP/8pjRuncx+tU+6JvOq7YAAAAL/QKFuKLxYTE6PLLrtM3333nRITE2WxWHTmzBmHZU6cOFFpH+QLhYSEKCoqymGCd1R2AV6VTCZra3F6unTmjC6/a5ySYhO4cx0AAJDkJ6G4oKBABw8eVFJSktLS0hQcHKzVq1fb39+3b58yMzOVnp7uxSpR50JCpP/9T0pKUvi+vbr5yXt1z7yl3LkOAAA0zpt33H///RoxYoRatWqlY8eOadasWdqxY4f27NmjuLg4TZkyRZ9++qnmzZunqKgo3fPTjR2++OILt/bDzTt81KZNUv/+Ummpjk+eoq8feVrRIYGMPgEAQCPkal5rlH2Kf/jhB40bN065ubmKi4vTVVddpS+//FJxcXGSpOeff14BAQEaPXq0SktLNWTIEL388sterhr1pk8f6a23pDFjlPTvV5TUub00fbq3qwIAAF7UKFuK6wstxT7uueekBx6w9jdesEAaPdrbFQEAAA/z69s8Ay657z7pd7+TDEO6/XbJze4zAACg8SAUw3+ZTNLf/y6NGCGVlEjDhknffOPtqgAAgBcQiuHfgoKkd96RrrxSOnNG+uUvpf37vV0VAACoZ4Ri+AVLmaGMrCItyyxQRlaR4+2cIyKkJUukHj2k7Gxp0CDpp9uCAwAA/0AoRqNnKTM0b+9JrTlyWis2bdeaI6c1b+9Jx2AcEyMtXy516CAdPSpde61UzW2/AQBA40EoRqO3LadYOYUWzRk/WM+P6a854wcrp9CibTnFjgvGx0urVkmtWknffScNGCAdP+6dogEAQL0iFKPRy7OUKzfzoLIO7JEkZR3Yo9zMQ8qzlFdcuGVLafVq6+O331pv8vHDD/VcMQAAqG+EYjR60eYAxaa0U2L7VElSYvtUxaa0VbTZyce/XTtpwwZri/GBA9ZgTB9jAAAatUZ5RzvgQmlxYdp5slDT3lqh3MxDik1pq7gIs9Liwpyv1KaNtH69NHCgdOiQNRivXi21bVt/hQMAgHrDHe1qgTva+Q5LmaFtOcXKs5Qr2hygtLgwmQNN1a/4ww/WYHzggJSYKC1dah2lAgAA+ARX8xotxfAL5kCT0hPD3V+xZUtri/HQodYbe/TrJ330kfUiPNUibAMAgAaFPsVAdZKSrH2Mr7lGOnvWGpAXLHBtqLeLVDleMgAA8BpCMeCK6Ghr14mbbpIsFumWW3TsyaeVU1Ba/VBvP6lJiAYAAPWDUAy4KjRUevddaepUyTDU+vGZGvTQ3cp1Zag3uTFeMgAAqHeEYsAdgYHSiy9KL7wgIyBAfdZ+qg2h4Woux6HeKusm4dZ4yQAAoF5xoR3gLpNJ+sMfdP7Sy2SMvUV9C87q27hEffDoCzIizOraLFTz9p5UTqFFuZkHFZvSTjtPFio1NsI+XnLWgT3Vj5cMAADqDUOy1QJDssGya4/KR4xQ6PeHVB4aqvIX52jL8HFac+S05owfbA+/095aof7JMdpzquinsPzzeMmTOjVnxAoAAOoIQ7IB9cDcJVXaulkaP14BS5cq4M7fKPnmdcq/YXyFbhIFST01qVNz6xBuST0Zwg0AgAaE/9sCtRUbKy1eLP35z1JAgFoueFszHr9X6a3aSXLsa2wbL3loShOlJ4YTiAEAaCBoKQY8ISBA+r//k9LTZYwbp4Tv9mpteIQ+/O0f9d3Ee6q/rXQtcRMRAABqhz7FtUCfYv/icvA8dkzl425VwIb1kqRTQ0eoydx/yZwYX2d1XXxhH32VAQCwcjWv0X0CcIFbN95o0UIBa1ZLzzwjBQer2bJPZO7eVVqypE5qY/xjAABqj1AMuMDt4BkYKD3wgLRli9S5s5SdLQ0fLk2aJOXmerQ2xj8GAKD2CMWAC2ocPLt3l7ZulaZPt45v/OabUqdO0vz5Ug17Ll18Y5AmwQH28Y8lMf4xAAA1wIV2gAuizQE1v/FGaKj0t79JN98s3XmntHu3dNtt0ltvSa+8IktyK5cvkqus/3DzcLOah5s17a0VDuMf1+WFfQAANDZcaFcLXGjnPxzDaC1uvGGxWPsaP/mkZLHICAvTtjumafWYu3Qi+1i1F8llZBU5vTFIYICJ0ScAALiIq3mNUFwLhGL/4tFhz/btk6ZMkdaulST9EBSsGefP6bNLO2na2ys1sFVTpcWFVdjfmh8LtWLTdj0/pr99U9Pf36DBfXpqaEqThnWMAAA0ANzRDvAw2403PKJDB2n1an316n/V6tH71fLkCb0vaf13e7V9zRKdunVchW4SO08WKjU2oubdOKpRWdeMnScLGdoNAOAXCMWAt5hMKrnxV/pnal+ZfnWlpp3KUX9J/R+6Wz+s/UQ//HqG5jw6zaGbhJqFKy6ibvoPXzjCxoX73JZT7Lk/BgAAaKAIxYAXpcWFaefJaOV8+pWe256hkUsWqOvShWq5crHuXPWpQoxyPSbpyE+jXRQk9dSkTs2tXRySenq0i4PTETaSetZ6255A1w4AQF0iFANeZA40XRByh6roxut1PudRnX3wIcUu/ViTJN0q6b2oGOUHBCjaHODZbhwXcHeEjfoMqXTtAADUNS60qwUutENdsZQZWvL+CvX425/VZutGSVJ5QICMW8YqcOafpK5da739iwOtJJdH2KjvW0s7G3VjYKumdO0AAFSJ2zwDPswcaNKwMYOV9clybVqwTKcHDlZAebkC35kvdesm3XCDtGFDjW4A4uyW1ZI0qVNzDWzVVIP79NTAVk2dhtz6vrU0d+0DANQ1QjHQQNm6SfS5aYiarl4ubd9uvQGIySR98onUv7/Us6f0xhtSsethtKpAa9vn0JQmSk8Md9rqW1VIvfiOe5aymgV3V+/a54n9AQBAn2LAV/TsKb3/vnWM47/+VXr7benrr6XJk6U//lG66y7r1Lq1fZXKukl44oI6Z/2PmwSZat3315279nVtFkpfYwCAR9CnuBboUwyvOnVK+ve/pTlzpMxM6zyTSbr2WunXv5blhlGad7igQr/f1NgIrc90vX+uO/2P3d12Zdy5a9+2nOIG09eY0TEAoGHi5h1AY9esmfTAA9L06dbuFC+9JK1eLa1aJa1apYDoGPX65Uj936YNWnH0cI3GOq5q1IfKhoZb82Nhpa3QpxJ7KCOrqEJgdKcluyCpp4amRDjUV1Wrt7MwXxfBldExAMD3EYoBXxcUJN14o3U6fFiaN0+aO1dBR4/q8oVvarmkbyW9e2CPAr9Yo4LRN7o81nF1N/S4uDXWWbeKA6eKVGg57xAYb70sVvP359bqrn3udOP4JqdQknSyyPPBlRufAIDvIxQDjUmbNtLjj0uPPqo9C5ZI//qX2q5ZrI6GocckacYEFf6ri8y336r0m2+WLr20ys252//YejOSQodW6CahZhWUVAyMSzLPVhok3WnJrmx/cRFmyWSqsO17/rtaRnlZnQTXhn7jE19A9xOgcnxv1B9CMdAYBQbq0ptHaF6XdC3JzlWLRW+r91dfqt2m9YrYs0t66CHrlJpqHd7thhuk3r2lwECHzbh7Qw/Hm5FYW6FPlZZp9ea9FQJjfGQXp90kXG3Jrmx/zrpxlBaeVV72cZe7WrjzS8fd8wRHvtD9xNlnxBcDiy/W7K889b3B19w1hGKgkbIHxuYRyrv0TzppDlCrgCKZP/5Qevddad06ac8e6/TUU1JcnDR8uHUaOFCKiXHaEltZq+2F+72w5TUjq6jSwBhVRZB05659lS1bWUgNiYhUXKvwOhkxo6rz5IlfRg39F1pt66uq+4ntgkpvHruzYOKsC5Anwnxdfc194Q8Qf+Dq19cTXbP4mruO0SdqgdEn4NNOn5aWLZM+/lhaulTKy/v5vYAAa8vxoEE6N3CQtrXrrjMKqtEvZ8cfyD8HRsdAUfUd9NxV2T6bh5sl2foUuzZihjuBrPpROmp257+q7h4o1c2Fg+7wxN0Nl2UWaMWm7Xp+TH/7vOnvb9C1vXvox7Ml9XbnRGecjYhyaWwTfZdbUKuRXCo7jrq8YyR3h/Q+d76+zr43BvfpqaEpTVzan7e+5g3pj3lGnwBQtaZNpXHjrNO5c9Jnn1kD8rJl1rGQv/xS+vJLBf/5z+obEWG9WUi/ftJVV0mXXy6FhLi0G2ddHKqaX1vOti3JrREz3GldqazFOiOrqNatPM5aijafKNKeU0Veb/3xREuWs+4nBefKG8QFjM76jDvrAlRZX3J3Wuvq8sJN+r97nztfX090zfLG19xXW6cJxQCk4GBrl4mBA62vMzPtQ7tp1SopJ0f69FPrJFkD8RVXWAPyVVdJV15pDdlOOOsO4U43CXc527arv3SqCmSutiC7+8vInSHqDsZ0bdCB0Z1fuM66nzQJDmgQAc7ZZ6SqLkAXcycI1WWI8Vb/94bUauht7nx9a9KF7WLe+Jr76og8hGIAFaWkSL/+tXUqL5d27pTWrJE2brRO2dk/P7e59FJrC7Jt6tVLioz03jG4yN1A5k4LclW/jC4OCV2bhbo1RJ0kt8aE9oTKgo0nfuE6a9nfllPsdMi92h6jOyHN2WdkWEqk5pdYKr3T4sX1uROE3PncuHvsnghZ7nK31bCh9MOvqyDvzveMJ/6j5qmvuTvnw1f/I0Gf4lqgTzH8kmFI3333cyj+7DPpwIGKy5lMUseOUlqa1K2b1LWrdWrRwvpeA1LZD3tnd8tzpx+pa/2prSHB2dB1/ZNjLugmUX1f6AhzkMOY0J7qf+ysH6S7fcPd+cVafd/wmh1jTfrsujr6RGV/3Ljbd91xG1V/bmrS17i+W23d6dPqif7U7vbDdzavrvp1O/u5UJddC9z9mrv6uXZWszt3Jq2P/xi4mtcIxbVAKAZ+cuqUtG2btHWrddqyRTp6tPJlmzaVunT5OSR36SJ16CA1b96gwrKzX1yXRIZq9eavXL7wxdXAfc/8Nco5tE8v3FJxuwMviXDpVtuuBeua/YKvKtg4605S21+slZ2/MkOVhkt3jrEuLzyqKgxU9seNs6B762Wx2nmqxOXbmlf2NZDc+0OorsJyVRdSNgsJ9Pit2137GljPtbM/suryAtyGNJSfqxcIO/vZUtVFpe78QVvXx86FdgDqT7Nm0i9/aZ1sTpywBuXt263dL3bulPbvt4568dln1ulC0dHSZZdVnNq390o3DHf/pV/V2M2u9BktOp2r2FbuDVHn6pjQnuh/XNW/Qyurr7LWus0nKv/FWlUdF297WWZBrftY1+W/dqu6Tbmzz1Nlde88VeJy3ZV16XH3Do51eWGUO3e6vCQytNZfG3f64Tu7qc/B4OBad5+q7px6u2+ts/pSYyMqnqf5a3TyiOtfl8p+fjr7g7Yh9TMmFAOoGwkJ0vXXWyebkhLryBa2kLxrl7R7t/XCvrw8awvzli0VtxUXJ7VqJbVu/fPjhc/rKDRX9ourri58CYuKVoQ5qE7GhJYq73/szgV/7vYdrizsufuL1dVz5+4x1uWFR1Vt29U/kNytu7KLQt29g6O7F0a50wLqzp0uo0PNbvWnttXuymdVqvgZcXZTn5YxXd26AHfziaIK3QJqcrGZu92LatMK7ay+yv4gqOqPdmf7c/UP2obUz5hQDKD+hIZK3btbpwuVlEgHD1pbki+esrOto1/k5Fi7ZlSmaVNrQL7kEmuf5aQk6+OFU3x8hTv21URdXvhi/5e5h7fbLsqsH2p5wd+tl8Vq50nXbr8tud8aXpfH6Oo2PHGxmbvbdiegu3NRaFV3cKyMO+G8JjczcfW/Gj0Se1R6m/euzUJdbg139lmt7DPi7KY+7SKDVXqu4jYqO9enjh7WJnN7ldSy1dud1npP3FDG2de8sj8InP3RXtnXpSYXHjcUhGIA3hcaKnXubJ0uduaM9P330pEjjo+256dOWbtknD4t7djhfB8BAdbW66Qka0COi7P2Y46Lc5xs82JinPZxru2/PqsK1nWxXUnak1sxTFX2C81ZF4edp0rc+mPAU63htT3GyrbtjTGy3R3Zwp26K+vS4yzsOQsg7gQWZy2MSzLPVtky6sp/NZqFBOqXLV3rZuKsNdzZZ1Wq+BmJDQ2UFFjh/PdOCFfvhHDXuk+1ulQllvNutXpXxp2W5Zp+DVz5mjv7g6CyP9rdqdkbI5+4i1AMoGGLiZF69LBOlTl71hqOjxyRjh+Xjh37+dE2ZWVZh5Y7ftw6uSIoyBqQmzWz1hATY22Rru55TIwUFWVdvwp11afQ1f7HToNGFV0c3Km5rlrD3T3Gqv6dXJu7ztWkPmfLuhOiXe3S4yzsOQsgzr5e7gwv587NTKoKSK52M6mqNdydz4hU8aY+tvPvyrkOMwfq6P79Lrd6u/PfFWfnry6/Bs7+IKht95+6/GPUU/w+FL/00kt69tlnlZWVpe7du+vFF19U7969vV0WAFdFRlpHsOjSxfkyZWXW7he2kJyTI508+XO3DNtkm3f2rHT+vDVMZ2XVrK6QEGttTZr8PF34urL3IiKksLCqp9BQ6+TmSB2euODP3f3VRWt4dft05YK/ml4YVVfq8j8E7oTti7fh7tjZ7tzMxN2AVFmrprut4bb9unJTn6rWr+wCsqIS11u93TlGZ8fjbFlPfg1cOSfudoloCBcYVsWvh2R77733NGHCBL366qvq06ePXnjhBS1YsED79u1TfHx8teszJBvQSJWU/ByQT5+2duGwTdW9LiysnxpDQ6sOzWZztVOmJUDfFZ7X+vff0MmTJxQWn6R+d/9RwWGhKlSAzpw5pYgWyWoSGa6hbWMVHBJsbQEPDLQ+2iZXX3thyD13hl+ry6HafFHthpfz7Pi71Q/xVT/j/bpaW03Hj3Z1O66NgV7358QbYy7XBOMUu6BPnz664oorNGfOHElSeXm5kpOTdc899+hPf/pTtesTigFUcO6ctaW5oMA6ufu8uLjiVFJifSwr8/bR1U5AgGsBOiDAY1N2abmy887qu21fqFxSuaRL+w5QQlwzJTUxOyz7Q1GZfsg9rW/WLLEv223wKCUnxqtVZLA11F88Se7Nr8k6dbWti100b/epUu3+PlOrXv+rfd6gu+5XaptkdWwaqiNnz6m4rFxhgQFqFRmsoMAAnS83rPPPlyssKECtoswKCjBVuZ8q518w73y5oe/PWlRUJoUHmdQ60hqKbfPCAk1qc/H+XDjO2tRkr82QDuVbVHTeUHiQSW2jzAoKdNJiXcU2z5UbP28nOEBto8wKvvj8/cS+7DlD4cEm+7LO5lerhn+0nis3dCjvgmOPdmF/QUHSyJE12l9NEIqrYbFYFB4eroULF2rUqFH2+RMnTtSZM2f00UcfVVintLRUpaWl9tf5+flKTk4mFAOoH+fOOQ/MF06lpZLF4tJUVlqqU/nFOl9qUcj5c4oxlSng3EXLlZZau5OUlVkfbdOFr23Pz53z9lkC0NA1aWJtDKgn3LyjGidPnlRZWZkSEhIc5ickJOjbb7+tdJ3Zs2fr8ccfr4/yAKCi4GDr5ME/wgMlxXlsaz8pL686QFf32jCs23B3KiurMO/8+TJ9/mO+CkssKjyZo8iYZooMDlCf+DAFyaiw7PYTBSoqOaeSM7mKiIxSeFCAejQPV6BJ1rounFTJvOre89T82m7rYpXMKy83lHm2VKVlhixFhTKHRygk0KSUJmZVaAh0cZuVzqvt+nWxzYZaU12p7/2FNZwRJy7kt6G4JmbOnKkZM2bYX9taigEAF7B1SQgO9nYlCpKU/tOIEgEXjKAQVEl/xyBJPX5atsRSriBzgLrGhSmwAfWNrE8BklpUMhpHgJ+eDzR+fhuKmzdvrsDAQJ04ccJh/okTJ5SYmFjpOiEhIQoJCamP8gAAHuLuEGn+eFGdM5wP+JOGcxuRemY2m5WWlqbVq1fb55WXl2v16tVKT0/3YmUAAACob37bUixJM2bM0MSJE3X55Zerd+/eeuGFF1RYWKg77rjD26UBAACgHvl1KL7llluUk5OjRx99VFlZWerRo4eWLVtW4eI7AAAANG5+OySbJzBOMQAAQMPmal7z2z7FAAAAgA2hGAAAAH6PUAwAAAC/RygGAACA3yMUAwAAwO8RigEAAOD3CMUAAADwe4RiAAAA+D1CMQAAAPweoRgAAAB+j1AMAAAAv0coBgAAgN8jFAMAAMDvBXm7AF9mGIYkKT8/38uVAAAAoDK2nGbLbc4Qimvh7NmzkqTk5GQvVwIAAICqnD17VtHR0U7fNxnVxWY4VV5ermPHjikyMlImk6nO9pOfn6/k5GQdPXpUUVFRdbYfX8X5cY5zUzXOT9U4P85xbqrG+aka58e5ujg3hmHo7NmzatGihQICnPccpqW4FgICAtSyZct6219UVBTfPFXg/DjHuaka56dqnB/nODdV4/xUjfPjnKfPTVUtxDZcaAcAAAC/RygGAACA3yMU+4CQkBDNmjVLISEh3i6lQeL8OMe5qRrnp2qcH+c4N1Xj/FSN8+OcN88NF9oBAADA79FSDAAAAL9HKAYAAIDfIxQDAADA7xGKAQAA4PcIxQ3ESy+9pNatWys0NFR9+vTR5s2bq1x+wYIF6tixo0JDQ9W1a1d9+umn9VRp/Zo9e7auuOIKRUZGKj4+XqNGjdK+ffuqXGfevHkymUwOU2hoaD1VXL8ee+yxCsfasWPHKtfxl89O69atK5wbk8mkqVOnVrp8Y//cbNiwQSNGjFCLFi1kMpn04YcfOrxvGIYeffRRJSUlKSwsTIMGDdKBAweq3a67P7saoqrOzblz5/Tggw+qa9euioiIUIsWLTRhwgQdO3asym3W5HuzoaruszNp0qQKxzp06NBqt9sYPjtS9eensp9DJpNJzz77rNNtNpbPjyu/w0tKSjR16lTFxsaqSZMmGj16tE6cOFHldmv686o6hOIG4L333tOMGTM0a9Ysbd++Xd27d9eQIUOUnZ1d6fJffPGFxo0bp8mTJ+urr77SqFGjNGrUKO3ataueK69769ev19SpU/Xll19q5cqVOnfunAYPHqzCwsIq14uKitLx48ft05EjR+qp4vrXuXNnh2PduHGj02X96bOzZcsWh/OycuVKSdLNN9/sdJ3G/LkpLCxU9+7d9dJLL1X6/jPPPKN//OMfevXVV7Vp0yZFRERoyJAhKikpcbpNd392NVRVnZuioiJt375djzzyiLZv364PPvhA+/bt0w033FDtdt353mzIqvvsSNLQoUMdjvWdd96pcpuN5bMjVX9+Ljwvx48f1xtvvCGTyaTRo0dXud3G8Plx5Xf49OnT9cknn2jBggVav369jh07pl/96ldVbrcmP69cYsDrevfubUydOtX+uqyszGjRooUxe/bsSpcfM2aMMWzYMId5ffr0Me6+++46rbMhyM7ONiQZ69evd7rM3Llzjejo6PoryotmzZpldO/e3eXl/fmz84c//MFo166dUV5eXun7/vS5kWQsWrTI/rq8vNxITEw0nn32Wfu8M2fOGCEhIcY777zjdDvu/uzyBRefm8ps3rzZkGQcOXLE6TLufm/6isrOz8SJE42RI0e6tZ3G+NkxDNc+PyNHjjQGDhxY5TKN9fNz8e/wM2fOGMHBwcaCBQvsy+zdu9eQZGRkZFS6jZr+vHIFLcVeZrFYtG3bNg0aNMg+LyAgQIMGDVJGRkal62RkZDgsL0lDhgxxunxjkpeXJ0lq1qxZlcsVFBSoVatWSk5O1siRI7V79+76KM8rDhw4oBYtWqht27a67bbblJmZ6XRZf/3sWCwWvf322/r1r38tk8nkdDl/+txc6PDhw8rKynL4bERHR6tPnz5OPxs1+dnVWOTl5clkMikmJqbK5dz53vR169atU3x8vDp06KApU6YoNzfX6bL+/Nk5ceKElixZosmTJ1e7bGP8/Fz8O3zbtm06d+6cw2ehY8eOSklJcfpZqMnPK1cRir3s5MmTKisrU0JCgsP8hIQEZWVlVbpOVlaWW8s3FuXl5br33nv1i1/8Ql26dHG6XIcOHfTGG2/oo48+0ttvv63y8nJdeeWV+uGHH+qx2vrRp08fzZs3T8uWLdMrr7yiw4cP6+qrr9bZs2crXd5fPzsffvihzpw5o0mTJjldxp8+Nxezff3d+WzU5GdXY1BSUqIHH3xQ48aNU1RUlNPl3P3e9GVDhw7Vf/7zH61evVpPP/201q9fr+uuu05lZWWVLu+vnx1JevPNNxUZGVlt94DG+Pmp7Hd4VlaWzGZzhT8wq8tAtmVcXcdVQbVaG6hHU6dO1a5du6rtV5Wenq709HT76yuvvFKdOnXSa6+9pieffLKuy6xX1113nf15t27d1KdPH7Vq1Urvv/++Sy0R/uLf//63rrvuOrVo0cLpMv70uUHNnDt3TmPGjJFhGHrllVeqXNafvjfHjh1rf961a1d169ZN7dq107p163Tttdd6sbKG54033tBtt91W7UW8jfHz4+rvcG+ipdjLmjdvrsDAwApXWp44cUKJiYmVrpOYmOjW8o3BtGnTtHjxYq1du1YtW7Z0a93g4GD17NlT3333XR1V13DExMTosssuc3qs/vjZOXLkiFatWqXf/OY3bq3nT58b29ffnc9GTX52+TJbID5y5IhWrlxZZStxZar73mxM2rZtq+bNmzs9Vn/77Nh89tln2rdvn9s/iyTf//w4+x2emJgoi8WiM2fOOCxfXQayLePqOq4iFHuZ2WxWWlqaVq9ebZ9XXl6u1atXO7RaXSg9Pd1heUlauXKl0+V9mWEYmjZtmhYtWqQ1a9aoTZs2bm+jrKxMO3fuVFJSUh1U2LAUFBTo4MGDTo/Vnz47NnPnzlV8fLyGDRvm1nr+9Llp06aNEhMTHT4b+fn52rRpk9PPRk1+dvkqWyA+cOCAVq1apdjYWLe3Ud33ZmPyww8/KDc31+mx+tNn50L//ve/lZaWpu7du7u9rq9+fqr7HZ6Wlqbg4GCHz8K+ffuUmZnp9LNQk59X7hQML3v33XeNkJAQY968ecaePXuMu+66y4iJiTGysrIMwzCM8ePHG3/605/sy3/++edGUFCQ8dxzzxl79+41Zs2aZQQHBxs7d+701iHUmSlTphjR0dHGunXrjOPHj9unoqIi+zIXn5/HH3/cWL58uXHw4EFj27ZtxtixY43Q0FBj9+7d3jiEOnXfffcZ69atMw4fPmx8/vnnxqBBg4zmzZsb2dnZhmH492fHMKxXtKekpBgPPvhghff87XNz9uxZ46uvvjK++uorQ5Lxt7/9zfjqq6/sIyg89dRTRkxMjPHRRx8Z33zzjTFy5EijTZs2RnFxsX0bAwcONF588UX76+p+dvmKqs6NxWIxbrjhBqNly5bGjh07HH4OlZaW2rdx8bmp7nvTl1R1fs6ePWvcf//9RkZGhnH48GFj1apVRq9evYz27dsbJSUl9m001s+OYVT/vWUYhpGXl2eEh4cbr7zySqXbaKyfH1d+h//2t781UlJSjDVr1hhbt2410tPTjfT0dIftdOjQwfjggw/sr135eVUThOIG4sUXXzRSUlIMs9ls9O7d2/jyyy/t7/Xv39+YOHGiw/Lvv/++cdlllxlms9no3LmzsWTJknquuH5IqnSaO3eufZmLz8+9995rP5cJCQnG9ddfb2zfvr3+i68Ht9xyi5GUlGSYzWbjkksuMW655Rbju+++s7/vz58dwzCM5cuXG5KMffv2VXjP3z43a9eurfR7yXYOysvLjUceecRISEgwQkJCjGuvvbbCeWvVqpUxa9Ysh3lV/ezyFVWdm8OHDzv9ObR27Vr7Ni4+N9V9b/qSqs5PUVGRMXjwYCMuLs4IDg42WrVqZdx5550Vwm1j/ewYRvXfW4ZhGK+99poRFhZmnDlzptJtNNbPjyu/w4uLi43f/e53RtOmTY3w8HDjxhtvNI4fP15hOxeu48rPq5ow/bQzAAAAwG/RpxgAAAB+j1AMAAAAv0coBgAAgN8jFAMAAMDvEYoBAADg9wjFAAAA8HuEYgAAAPg9QjEAAAD8HqEYAAAAfo9QDAAAAL9HKAbgt+bNmyeTySSTyaTvv//e6XKZmZm6++671a5dO4WGhtrX+fDDD+utVhtXa25MJk2aZD/mC6eGePzr1q2rtNbHHnvM26UBqAahGIBPuzCE1EXwyMzMVFpaml5//XUdOnRIpaWlHt8HAMD7grxdAAA0ZH/+85918uRJBQUF6S9/+Yv69eunJk2aSJJatWrlsf3MmzdPd9xxhyTp8OHDat26tce23Vi0aNFCy5cvt7++5JJLvFhN5a644grt3LnT/rpr165erAaAOwjFAPzWpEmTNGnSpCqXWbVqlSRp1KhR+uMf/1gPVVXNlZobq+DgYHXp0sXbZVQpIiKiwdcIoHJ0nwCAKvz444+SpMsuu8zLlQAA6hKhGACqYLFYJFlbKQEAjRehGIDfcjaSw4XzbR5//HGH0QQq68Kwdu1aTZw4UW3btlV4eLiioqLUtWtXPfDAAzp27FilNdguFLT1J5akNm3aVBi9YN26dVXWbPPYY4851J6fn6/HHntMXbt2VZMmTRQfH6/rr79eX3zxhcN62dnZevjhh9W5c2dFREQoNjZWI0eO1FdffeXSuazJsdeVC8/RkSNHnC737bff2pdbuHBhhfePHTumP/3pT+rVq5eio6MVHByshIQEde3aVePGjdO8efOUn59fl4cCoB7RpxgAaqmkpER33HGH3n333Qrv7dq1S7t27dIrr7yid955RyNGjKi3uo4ePapBgwZp//799nmFhYVaunSpVqxYoXfeeUc333yzvvnmG11//fX2riKSVFRUpI8//ljLly/X0qVLNWDAgEr30RCP/euvv5YkNW3atMqLIS8M/D169HB477PPPtPw4cMrhN7s7GxlZ2dr165devfdd9W8eXMNHz7cc8UD8BpCMQBcZNSoUbr88ssl/Tx6wJQpU/S73/3OvkzTpk0lSYZh6KabbtKSJUskSSNGjNCYMWPUtm1bBQQEaPPmzfrrX/+qzMxM3XTTTfr888/t25Z+Hq3go48+0sMPPyxJWr58uVq0aOFQU5s2bdw+jptvvlk//PCDZs6cqaFDhyo8PFwbN27UrFmzlJ+fr8mTJ+vyyy/X8OHDVVxcrL/85S/q37+/goODtWzZMv3lL39RaWmpJk2apAMHDshsNjtsv7bHXld27NghqWLQvZgtFEdGRqpdu3b2+aWlpRo7dqzy8/MVGRmpKVOmaMCAAYqPj5fFYtHhw4f1xRdfaNGiRXV1CAC8gFAMABeJiYlRTEyMw7z4+PhKRxX417/+pSVLlig4OFgff/yxhg4d6vB+3759NX78eF199dXavXu37r33Xm3cuNH+vm20gq1bt9rnXXbZZR4Zkm3Hjh1av369+vTpY593+eWXq3379ho+fLjOnj2rPn36yDAMbd682SEY9u7dW82bN9fUqVOVmZmpJUuW6MYbb/TosdcVW0txz549q1zOFoq7devm0FXm888/t3f5mD9/foWW4L59+2rcuHF6/vnnVVRU5MnSAXgRfYoBoIYMw9DTTz8tSfr9739fIRTaNG3aVM8++6wka+A6cOBAvdR37733OgRim2HDhtm7FeTk5OjJJ590CMQ2d9xxh0JDQyVZuxNcqKEee2Zmpk6fPi3J9VB8cYtyVlaW/Xm/fv2crh8UFKSoqKgaVgqgoSEUA0AN7dmzRwcPHpQk3XTTTVUue2G4ysjIqNO6bMaOHev0vW7dukmSTCaTbrnllkqXCQsLU/v27SVJhw4dcnivoR67rZVYqrr7xNGjR5Wbm1vpcklJSfbnc+fO9Wh9ABouQjEA1NCFXR7S09MrjBhx4WS7C57k2BJZl6oaW9nWPaR58+b2/tFVLXf27FmH+Q312G39iUNDQ9WxY8dql5MqhuKrrrpKbdu2lWRtbe/du7dmz56tzz//3D5EH4DGh1AMADWUnZ1do/Xqqx9qeHi40/cCAgKqXebC5crKyhzmN9Rjt7UUd+3aVUFBzi+bsXWdCAoKqtBXPDg4WJ988ok6deokSdqyZYseeughXXXVVYqJidHQoUM1f/78CucEgG/jQjsAqKELQ9Enn3zi8sVx8fHxdVRR/Wmox+7uyBMdOnSw95u+UGpqqnbu3KlPPvlEn3zyiTZs2KDvvvtOxcXFWr58uZYvX66//e1v+vTTTxvF1xMAoRgAaiw2Ntb+PCYmptLRKRqrhnjsBQUF9r7P1YXizZs3V7tcYGCgRo0apVGjRkmSjh8/rmXLlumll17Stm3btG3bNt19990MzQY0EnSfAIAaunB0g88//7xW27pwSDBf4Mlj95RvvvlGhmFIki699NIql7MNuda9e3eXt5+UlKQ77rhDGRkZ6tWrlyRp8eLFKi4urkXVABoKQjEA1FCvXr3UsmVLSdLrr7+ukpKSGm/rwn/hl5aW1rq2uubJY/eUCy+eq6qe5557zv68uhblygQHB6t///6SpPPnz+vMmTNubwNAw0MoBoAaCggI0EMPPSTJOmTZhAkTqgy0+fn5mjNnTqXvXTgMmG2os4bMk8fuKRcOx7ZgwYJKl3n11Vf11ltv2V937ty5wjKfffaZvvvuO6f7sVgsWr9+vSSpSZMmiouLq2nJABoQ+hQDaDR27NihefPmVbvcwIEDlZKS4pF9/va3v9XKlSu1aNEiLViwQNu3b9fdd9+t3r17Kzo6Wvn5+fr222+1bt06ffzxxwoNDdW0adMqbKdnz54KDQ1VSUmJHnnkEQUHB6tVq1b20R8uueQShYWFeaRmT/HUsXuKraU4ICBAb7/9tkpKSnTzzTerefPmOnr0qN577z0tXbpUwcHBOnfunCRp4cKFSkhIcBirefXq1XryySd19dVXa9iwYerWrZvi4uJUXFys/fv369VXX9X27dslSZMnT65ylAsAvoPvZACNxkcffaSPPvqo2uUWLVrksVBsMpn03nvv6Q9/+INeffVVHTx4UH/84x+dLu9spILIyEj9/ve/1zPPPKPt27dr8ODBDu+vXbtW11xzjUdq9hRPHbsnlJeXa9euXZKk3/3ud5o/f74WLlyohQsXOix3ww03KCUlxd5q/Yc//EF33313hRuYlJeXa/369fYW4cqMHDlSs2fP9vCRAPAWuk8AQC0FBwfr5Zdf1tdff6177rlHXbt2VXR0tAIDAxUdHa0ePXpo8uTJWrhwofbu3et0O0899ZT++c9/6uqrr1azZs0UGBhYj0dRM5469trav3+/fQzkQYMGaePGjRo5cqRiYmIUERGhXr16ac6cOVq0aJFmzJihbt26KSIiQv3799cdd9zhsK37779f//vf/zRlyhT17dtXKSkpCg0NVWhoqFq3bq0xY8Zo8eLF+vDDDxtc6z2AmjMZtkt1AQBogCZNmqQ333xTrVq10vfff1/pMu+99579ttaHDh1SmzZt6rFC52yjisyaNUuPPfaYd4sBUCW6TwAAfMK5c+fsXSQk6403goODJf3cnzgqKsrlG4nUhcLCQh0+fNhr+wdQc4RiAIBPOHbsmLp27Wp/ffjwYXsAto080aVLF6+O+bxlyxYNGDDAa/sHUHP0KQYA+DxbS3G3bt28WwgAn0WfYgCAT8vJybGPbPHyyy9rypQpXq4IgC+ipRgA4NMuvGkHLcUAaoqWYgAAAPg9WooBAADg9wjFAAAA8HuEYgAAAPg9QjEAAAD8HqEYAAAAfo9QDAAAAL9HKAYAAIDfIxQDAADA7xGKAQAA4PcIxQAAAPB7/x/DWI9T/8gNmgAAAABJRU5ErkJggg==",
      "text/plain": [
       "<Figure size 800x600 with 1 Axes>"
      ]
     },
     "metadata": {},
     "output_type": "display_data"
    }
   ],
   "source": [
    "result = mod.fit(Daten.get_y(), pars, x=Daten.get_x())\n",
    "dynamic_resolution_array = np.arange(min(Daten.get_x()),max(Daten.get_x()), 0.001*abs(max(Daten.get_x())-min(Daten.get_x())))\n",
    "\n",
    "plt.figure(figsize=(8, 6))\n",
    "plt.errorbar(y = Daten.get_y(), yerr = Daten.get_yerr(), x = Daten.get_x(), xerr = Daten.get_xerr(), \\\n",
    "    fmt = 'o', markersize = 3.5, alpha = 1, mfc = 'black', c = 'skyblue', zorder = 0, \\\n",
    "    label = r'Werte')\n",
    "\n",
    "#plt.plot(x_fit, y_fit, label=\"Modell\", color='red')\n",
    "plt.legend()\n",
    "plt.ylabel(Daten.get_YName(), fontsize=20)\n",
    "plt.xlabel(Daten.get_XName(), fontsize=20)\n",
    "plt.title('Models')\n",
    "\n",
    "plt.plot(dynamic_resolution_array, result.eval(x = dynamic_resolution_array), 'r-', label = r'Fit: reduced $\\chi^2$ =  '+str(to_precision(result.result.redchi,3)))\n",
    "\n",
    "plt.show()"
   ]
  },
  {
   "cell_type": "code",
   "execution_count": 12,
   "metadata": {},
   "outputs": [
    {
     "data": {
      "text/html": [
       "<h2>Fit Result</h2> <p>Model: Model(exponential)</p> <table class=\"jp-toc-ignore\"><caption class=\"jp-toc-ignore\">Fit Statistics</caption><tr><td style='text-align:left'>fitting method</td><td style='text-align:right'>leastsq</td></tr><tr><td style='text-align:left'># function evals</td><td style='text-align:right'>42</td></tr><tr><td style='text-align:left'># data points</td><td style='text-align:right'>100</td></tr><tr><td style='text-align:left'># variables</td><td style='text-align:right'>2</td></tr><tr><td style='text-align:left'>chi-square</td><td style='text-align:right'> 40047.7538</td></tr><tr><td style='text-align:left'>reduced chi-square</td><td style='text-align:right'> 408.650549</td></tr><tr><td style='text-align:left'>Akaike info crit.</td><td style='text-align:right'> 603.265768</td></tr><tr><td style='text-align:left'>Bayesian info crit.</td><td style='text-align:right'> 608.476108</td></tr><tr><td style='text-align:left'>R-squared</td><td style='text-align:right'> 0.85216479</td></tr></table><table class=\"jp-toc-ignore\"><caption>Parameters</caption><tr><th style='text-align:left'>name</th><th style='text-align:left'>value</th><th style='text-align:left'>standard error</th><th style='text-align:left'>relative error</th><th style='text-align:left'>initial value</th><th style='text-align:left'>min</th><th style='text-align:left'>max</th><th style='text-align:right'>vary</th></tr><tr><td style='text-align:left'>amplitude</td><td style='text-align:left'> 261.405693</td><td style='text-align:left'> 13.1920846</td><td style='text-align:left'>(5.05%)</td><td style='text-align:left'>1</td><td style='text-align:left'>       -inf</td><td style='text-align:left'>        inf</td><td style='text-align:right'>True</td></tr><tr><td style='text-align:left'>decay</td><td style='text-align:left'> 1.71804246</td><td style='text-align:left'> 0.12532010</td><td style='text-align:left'>(7.29%)</td><td style='text-align:left'>1</td><td style='text-align:left'>       -inf</td><td style='text-align:left'>        inf</td><td style='text-align:right'>True</td></tr></table><table class=\"jp-toc-ignore\"><caption>Correlations (unreported values are < 0.100)</caption><tr><th style='text-align:left'>Parameter1</th><th style='text-align:left'>Parameter 2</th><th style='text-align:right'>Correlation</th></tr><tr><td style='text-align:left'>amplitude</td><td style='text-align:left'>decay</td><td style='text-align:right'>-0.6928</td></tr></table>"
      ],
      "text/plain": [
<<<<<<< HEAD
       "<lmfit.model.ModelResult at 0x19c32f38fa0>"
=======
       "<lmfit.model.ModelResult at 0x24d2a99ef90>"
>>>>>>> d420e1074d930a2cefa9d9bf7c85b8bae0902891
      ]
     },
     "execution_count": 12,
     "metadata": {},
     "output_type": "execute_result"
    }
   ],
   "source": [
    "Daten.get_pars()"
   ]
  },
  {
   "cell_type": "code",
   "execution_count": null,
   "metadata": {},
   "outputs": [],
   "source": []
  },
  {
   "cell_type": "code",
   "execution_count": 13,
   "metadata": {},
   "outputs": [
    {
     "data": {
<<<<<<< HEAD
      "image/png": "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",
=======
      "image/png": "iVBORw0KGgoAAAANSUhEUgAAAsUAAAHXCAYAAABUPScVAAAAOXRFWHRTb2Z0d2FyZQBNYXRwbG90bGliIHZlcnNpb24zLjguMCwgaHR0cHM6Ly9tYXRwbG90bGliLm9yZy81sbWrAAAACXBIWXMAAAxOAAAMTgF/d4wjAABwoElEQVR4nO3deVxU9f7H8dcAigIKiKICCi6VlpqJZLjivly13E0zzSxtsW5a6m2zzFu2uKTefpaaa2qaWWbqtVS0XIo0NJfKLU0wEBUVF1Q4vz/mMjmyzegMM8D7+XjMA+ec7znzOV/A+cyXz/l+TYZhGIiIiIiIFGMerg5ARERERMTVlBSLiIiISLGnpFhEREREij0lxSIiIiJS7CkpFhEREZFiT0mxiIiIiBR7SopFREREpNhTUiwiIiIixZ7bJMXHjh1jwIAB3HnnnQQEBODj40OtWrV47rnnOHHihFXbiIgITCZTjo9r165lO/dvv/3GAw88QGBgIH5+frRo0YLY2NgCujIRERERcXderg4gS1JSEseOHaNr165UqVKFEiVKsGfPHmbOnMnSpUuJj4+nQoUKlva1atXipZdeynYeT09Pq+eHDh2icePGeHl5MWrUKPz9/Zk5cyZt27Zl3bp1tGzZ0unXJiIiIiLuzeTuyzwvW7aM3r1789577zFy5EjAPFIcERFh02hv7969Wb58OTt27KB+/foApKWlcdddd+Hn58fevXudGL2IiIiIFAZuM1Kcm/DwcABSU1Oz7bt27RqXLl2iTJkyOR574cIFVq5cSUxMjCUhBvDz82PIkCG8+uqr7Ny5kwYNGuQbh7e3t9VItYiIiIgUDidPniQ9PT3PNm6XFKenp3P+/HnS09PZt28fY8aMAaBTp05W7X744Qd8fHy4evUqAQEBdO/enbfeeovg4GBLm927d5Oenk50dHS217nvvvsAiIuLsykprlChAsePH7+VSxMRERERFwgLC8u3jdslxYsXL+aRRx6xPI+IiOCTTz6xSmzvuusuhgwZQu3atUlPT2f9+vXMmTOHjRs3EhcXR1BQEACJiYkAhIaGZnudrG0JCQk5xjFp0iQmTZpkeZ6WlnbrFyciIiIibsntkuL27dvzzTffcP78eeLi4li5cmW20omvv/7a6nm/fv1o1KgRQ4cO5c0332TixIkAXLx4ETCXPtyoVKlSVm1uNGLECEaMGGF5bssnDBEREREpnNwuKa5cuTKVK1cGoFu3brRv356YmBhKlizJkCFDcj3u8ccf5+WXX2bNmjWWpNjHxwcgxxqSy5cvW7URERERkeLLbeYpzk2LFi0ICwtjzpw5+bYNDw8nJSXF8jwkJATIuUQia1tOpRUiIiIiUry43UhxTi5dusSZM2fybJOZmcnhw4ctiTBA3bp18fb2Ztu2bdnab9++HYCGDRs6NlgREREnMQzD8hARM5PJhIfHrY/zuk1SnJSURMWKFbNtX7JkCadOnaJLly4AnD59mnLlymVr9+6773L69GmGDh1q2ebn50eXLl34/PPP2bVrF3fffTdgvmlu1qxZ1KpVi8jISCddkYiIiGNkZmaSnJxMamqqEmKRHJQoUYKqVatSsmTJmz6H2yzeMWjQIPbs2UO7du2IiIjgwoULbN++nc8++4yKFSuybds2wsPDmTJlCrNnz6Zjx45ERESQnp7Ohg0bWLVqFXXq1OH777/H39/fct6DBw9y7733UqJECZ577jnKli3LzJkz2bNnD2vWrKFNmzY2xRcWFqYp2URExCWOHDmCh4cHFStWpESJEq4OR8StGIbBqVOnOH/+PDVr1syxjS15nNuMFPfo0YMzZ86wYMECTp48iYeHBxERETz33HOMGjXKMv9wVFQUGzZsYMmSJZw8eRKAGjVq8MorrzBq1Cj8/PyszluzZk22bNnCmDFjmDBhAlevXqVBgwZa4llERAqFzMxMLl++zG233YaXl9u8bYu4laCgIE6fPk1mZuZNl1K4zUixu9NIsYiIuEJGRga///47t99+O56enq4OR8Qt5fd7Ykse5/azT4iIiIiIOJuSYhEREREp9pQUi4iIiEixp6RYREREpBDbsWMHTZo0oXnz5jRp0oQffvjB1SEVSrqNVURERKQQCwkJYc2aNZQtW5Y9e/YwePBgfvzxR1eHVehopLiQS03PYEZ8IhN2JDMj/gSp6RmuDklERCRPHTt25I033nB1GBbXrl3DZDIRGxtbKF+/cuXKlC1bFoCSJUs6ZHW34ki9Vsgt2Z/E+hXLmNg9mvUrlrJkf5KrQxIRESEmJoaSJUvi5+dneTRv3hyANWvW8Morr1i1ffnll10VapFx9epVnnrqKZf2Zbdu3TCZTHz77be5tjEMg7FjxxISEoKvry/Nmzdnz549Vm3OnDnD0KFDCQ0Nxc/Pj7Zt2/Lrr786NXYlxYVcaoYXsXOnknLsMLHzppGaoTksRUTEPYwaNYq0tDTLY/PmzU59vStXrjj1/O4sIyOD/v3707t3bzp37uySGObPn8/Fixfzbffee+/x8ccf89///peUlBSaNGlC+/btSUtLs7QZNGgQR48eZdeuXaSkpHDXXXfRtm1bLly44LT4lRQXcgGeGcQMeoby4TWIGTicAM9MV4ckIiKSp+tHhocNG8Z3333HO++8YxlRtuc8Tz/9NH379iUwMJBnnnmGy5cv8+KLL1KjRg0CAwNp3rw5P//8s9VxycnJdO/enYCAAKpXr86nn35qtT8iIoJZs2ZZbbtx9PPSpUu8/PLL3H777ZQpU4bq1aszb948gHxjyO/1c9KxY0cqVqzI0qVLLdveeustqlatyunTpxk4cCCNGjXiscces7n/HOn48eO8/PLLzJw5M9+2H3zwAc8//zx169aldOnSvPHGG1y5coUVK1YAcOHCBVatWsVrr71G+fLlKVWqFBMmTODEiRN88cUXTrsG3WhXyPWtHQz0IrJrXwI8M//3XEREiryuXeHQoYJ5rRo1YOVKp5x6xowZ/PrrrzRt2pTx48dbti9atIgnn3yS1NTUPI+fM2cOy5YtY9GiRVy+fJlhw4Zx/PhxNm3aRKVKlZgxYwbt27fn999/JyAgAICHHnoIDw8PDh8+DMDDDz9sd9yPPfYYv//+O19++SW1atXixIkT/PXXXwD5xnAzr79q1SrGjBnD5MmT6d27N5s3b2bcuHGsX7+edevW8fnnn3P8+HG++uor/P39+fLLL3M915NPPsmiRYty3d+0aVNWrVplc18YhsHgwYN5+eWXqVq1ap5tz549yx9//MG9995r2ebl5cU999zDzz//zIABAyznvH7R5aznO3fupH///jbHZg+NFBdyAd6eDKsfwpjIigyrX5kAb5VPiIiIe3jvvfcICAiwPBYsWGDzsf369cs3IQbo2rUrnTp1wsPDg0uXLjFv3jz+85//EBYWhpeXF08//TT+/v6WJC8hIYFvvvmGd999l3LlylGuXDneeustu64rJSWFTz75hA8++IDatWtjMpkICQmhQYMGnDp1Ks8Ybvb1PT096dOnD7t37yYxMZG+ffsyduxYGjduTN++fbl48SKxsbHExsbmmRCDeaQ2NTU114c9CTHA//3f/2EYBo8//ni+bc+dOwdg+YCSJTAw0LLP19eXNm3a8Oqrr5KUlMSFCxcYNWoUhmFY2jiDRopFREQKIyeN3DrS888/bzX66wzVqlWz/PvgwYMANGrUyKrNlStXOH78OIDl6/XHXf9vWxw5cgSAO+64I9u+/GK4ldevW7cuV65coW3bttSrV4/Ro0fbFbczHDp0iDfeeIPt27fb1D5rlowbP/CcOXOG0NBQy/OFCxfywgsvEBkZSUZGBo899hi1atWifPnyDov9RkqKRURExKVuZQqx64+tVKkSALt37871z/hhYWEA/PHHH9SpU8fy7+uVKVPG6oauxMREq/0REREA/P7770RGRlrtyy+GhISEfF8/N97e3txxxx2cOXOG2NhYTCaTTcfdaNiwYSxcuDDX/c2aNWPNmjU2neu7777j1KlT2fqhR48e9OnTh48++shqu7+/PxEREcTFxREdHQ2Yp6SLj4+3lE4ABAcHW2q0wVyH/e6779K6dWub4roZKp8QERERl6pUqRK///77LZ8nPDycBx54gKeeeoqjR48CcP78edasWcOJEycACA0NpXXr1owaNYozZ85w5swZXnzxRavzNGzYkMWLF5Oamsq5c+cYM2aM1f4KFSrw4IMP8tRTT/Hbb78BcOLECXbu3JlvDLa8fm42bNjA/v376d27NxUqVLjpfpoxY4bVrCA3PmxNiAF69+7N4cOHiY+PtzwAPvzwQyZMmJDjMU8++STvvfcee/bs4dKlS4wdO5YSJUrQrVs3S5vffvuN5ORkwDz63r9/f1q1akWbNm1u+rrzo6RYREREXGrkyJH89ttvBAYGWmpNP/nkE7tmosiyaNEiIiMjadu2LWXKlOGOO+5g5syZVjdtLVy4kJIlSxIREUGDBg3o06eP1TnGjx9P2bJlqVKlCpGRkVbJWpaZM2fSokULOnbsiJ+fH02aNGHv3r02xZDf6+ckOTmZ/v37U6tWLXbt2mV3vziLj48PYWFhVg+A8uXLU65cOcA8Mt2xY0fLMc8//zyDBg2iTZs2BAUF8d1337F27Vqr7/eWLVto0KABPj4+tGzZknvuuYfly5c79VpMxvU/JZKrsLAwSx2QiIhIQcnIyOD333/n9ttvx9NTN1MXR5mZmXTo0AFvb2/++c9/0rNnT86cOePqsNxKfr8ntuRxqikWERERcWNvvfUWv/32Gz///DMeHh6kpqby9ddf849//MPVoRUpKp8QERERcVPff/8948ePZ8mSJZQrV46AgACGDx9O7969mTRpkqvDK1JUPmEjlU+IiIgrqHxCJH+OKJ/QSLGIiIiIFHtKikVERESk2FNSLCIiIiLFnpJiERERESn2lBSLiIiISLGnpFhEREREij0lxSIiIiJS7CkpFhERKSZm7T/DrP1aHlgkJ0qKRURERKTYU1IsIiIiIsWekmIRERFxmGnTplGpUiUMw7Bs27BhAyaTiXHjxlm17d69O/3797+p15k7dy5hYWG3FKvI9ZQUi4iIiMO0bduWpKQkfvnlF8u2b775hjp16vDtt99atmVkZLBx40batWtn92tcvXrVIbGKXE9JsYiISDGQmp5B8tk0ki9eYUb8CVLTM5zyOrVq1aJq1ap88803lm3ffPMNr732Gjt27CAtLQ2AuLg4UlNTadOmDT/88AMxMTEEBQURHh7OK6+8wrVr1yzHm0wmJk+eTOPGjfH19WXChAkMGzaMxMRE/Pz88PPz45NPPgEgISGBfv36ERoaSnBwMA8++CAnT550yrVK0aKkWEREpBhYsj+JnWs+Z3L3xqxfsZQl+5Oc9lpt27a1JMWnTp1i3759dOrUiXvuuYfY2FjAnCjfeeedpKWl0bp1a4YNG0ZSUhKbN29m5cqVvP3221bn/PDDD5k1axZpaWk8//zzzJgxg5CQENLS0khLS6N///6kp6fTunVrQkJC+P333zl8+DBeXl7069fPadcqRYeSYhERkWIgNcOLTXOnknLsMLHzppGa4em012rXrh2bN28mPT2d9evXc99991G6dGnatGljSZa/+eYb2rVrx3/+8x+6dOlC37598fLyIjw8nFGjRjFnzhyrcz733HPceeedmEwmSpcunePrfv3115w/f553330XX19f/Pz8mDBhAt9++y3Hjx932vVK0eDl6gBERETE+QI8M2gx6Bk2zZtGzMDhBHhmOu21WrduTXp6Olu2bOGbb76hTZs2lu1Dhw4lLS2N7du3M2bMGKZNm8bGjRsJCAiwHJ+ZmUlmpnV81apVy/d1Dxw4QFJSEoGBgVbbvb29OXbsmG7MkzwpKRYRESkG+tYO5vTl7jTo0pdyXpn0rR3stNcKCgqiQYMGfPPNN3zzzTcsXboUgPvuu48///yThQsXYjKZaNGiBcuWLaNfv358/PHHeZ7Tw8Mjz+cAlSpVIjw8nEOHDjnuYqTYUPmEiIhIMRDg7Umwvx/BviUZVr8yAd7OK58AcwnFvHnzOHv2LA0bNgSgRIkSNGvWjHHjxllumnvyySf57LPPWLZsGVeuXCEjI4ODBw+ydu3aPM9fqVIlUlJSOHXqlGVb9+7duXr1Kq+88gpnz54FIDk5mU8//dR5FypFhpJiERERcbh27dpx4sQJWrZsaTWq26ZNG06cOEHbtm0BiIqK4ptvvmHmzJmEhoYSFBREz549OXr0aJ7nb9WqFffffz+33347AQEBLFq0iDJlyrBt2zaOHTtG3bp1KVu2LI0bN2bz5s1OvVYpGkzG9bNrS67CwsJUpC8iIgUuIyOD33//ndtvvx1Pz1sb3Z21/wwAQ2oH5tNSpHDJ7/fEljxONcUiIiLFhJJhkdy5TfnEsWPHGDBgAHfeeScBAQH4+PhQq1YtnnvuOU6cOJGt/erVq4mOjsbX15egoCD69OmT659afvvtNx544AECAwPx8/OjRYsWlnkSRURERETcZqQ4KSmJY8eO0bVrV6pUqUKJEiXYs2cPM2fOZOnSpcTHx1OhQgUAPv/8c3r27Mndd9/Nu+++y9mzZ5kyZQpNmjThp59+olKlSpbzHjp0iMaNG+Pl5cWoUaPw9/dn5syZtG3blnXr1tGyZUtXXbKIiIiIuAm3ryletmwZvXv35r333mPkyJFcvXqViIgIvLy82Lt3L35+fgDEx8cTGRnJ0KFD+eCDDyzH9+7dm+XLl7Njxw7q168PQFpaGnfddRd+fn7s3bvXpjhUUywiIq7gyJpikaLKETXFblM+kZvw8HAAUlNTAdi0aROJiYkMGTLEkhAD1K9fn5iYGJYsWUJGhnk99wsXLrBy5UpiYmIsCTGAn58fQ4YMYd++fezcubPArkVERMReJpMJADcfwxJxC1m/LzfD7ZLi9PR0UlJSSEhI4JtvvuGJJ54AoFOnTgDExcUBEB0dne3Y++67jzNnznDw4EEAdu/eTXp6eq5trz+fiIiIO/Lw8MDT05PLly+7OhQRt3X16lVMJtMtJcVuU1OcZfHixTzyyCOW5xEREXzyySeWxDYxMRGA0NDQbMdmbUtISOCOO+6wua2IiIg7q1ChAgkJCYSGhlKqVKlbeuMXKWoMwyApKYmAgICilRS3b9+eb775hvPnzxMXF8fKlSstpRMAFy9eBMzrmN+oVKlSVm3saXujSZMmMWnSJMvztLS0m7gaERGRWxcYaJ5KLTEx0VIiKCJ/K1WqFMHBt7Z0udslxZUrV6Zy5coAdOvWjfbt2xMTE0PJkiUZMmQIPj4+gLnM4kZZf1rKamNP2xuNGDGCESNGWJ6HhYXd7CWJiIjcssDAQAIDA8nMzFR9sch1TCaT1aqJN8vtkuIbtWjRgrCwMObMmcOQIUMICQkBzGUPtWvXtmqbVQqRVRpxfdsb3dhWRESkMHDEm7+IZFcofrMuXbrEmTPmpSmjoqIA2LZtW7Z227dvJyAggJo1awJQt25dvL29c20L0LBhQ2eFLSIiIiKFhNskxUlJSTluX7JkCadOnaJRo0aAeeS4cuXKzJo1y6rOd9euXcTGxtKnTx/L/HR+fn506dKF2NhYdu3aZWmblpbGrFmzqFWrFpGRkU68KhEREREpDNxm8Y5BgwaxZ88e2rVrR0REBBcuXGD79u189tlnVKxYkW3btlnmLF62bBl9+vTh7rvv5rHHHuPcuXNMnjwZT09PduzYYalJBjh48CD33nsvJUqU4LnnnqNs2bLMnDmTPXv2sGbNGtq0aWNTfFq8Q0RERKRwsiWPc5uk+KuvvmLWrFns3LmTkydP4uHhQUREBJ06dWLUqFHZ7ihctWoV48ePZ/fu3Xh7e9O2bVvefvttqlWrlu3c+/fvZ8yYMWzatImrV6/SoEEDxo0bZ9cSz0qKRURERAqnQpUUuzslxSIiIiKFU5FY5llERERExNmUFIuIiIhIsaekWERERESKPSXFIiIiIlLsKSkWERERkWJPSbGIiIiIFHtKikVERESk2FNSLCIiIiLFnpJiERERESn2lBSLiIiISLGnpFhEREREij0lxSIiIiJS7CkpFhEREZFiT0mxiIiIiBR7SopFREREpNhTUiwiIiIixZ6SYhEREREp9pQUi4iIiEixp6RYRERERIo9JcUiIiIiUuwpKRYRERGRYk9JsYiIiIgUe0qKRURERKTYU1IsIiIiIsWel6sDEOdITc9gyf4kUjO8CPDMoG/tYAK8PV0dloiIiIhb0khxEbVkfxLrVyxjYvdo1q9YypL9Sa4OSURERMRtKSkuolIzvIidO5WUY4eJnTeN1AyNEouIiIjkRklxERXgmUHMoGcoH16DmIHDCfDMdHVIIiIiIm5LNcVFVN/awUAvIrv2JcAz83/PRURERCQnSoqLqABvT4bVD3F1GCIiIiKFgsonRERERKTYU1IsIiIiIsWekmIRERERKfaUFIuIiIhIsaekWERERESKPSXFIiIiIlLsKSkWERERkWJPSbGIiIiIFHtKikVERESk2FNSLCIiIiLFnpJiERERESn23CYp3rlzJyNHjuSee+4hICCAoKAgoqOjWbhwIYZhWLWNiIjAZDLl+Lh27Vq2c//222888MADBAYG4ufnR4sWLYiNjS2gKxMRERERd+fl6gCyvPPOO6xfv54ePXowbNgwLl++zNKlSxkwYAAbN25k9uzZVu1r1arFSy+9lO08np6eVs8PHTpE48aN8fLyYtSoUfj7+zNz5kzatm3LunXraNmypVOv66bs2AGTJ8PTT8N997k6GhEREZEiz2TcOAzrIlu3biUyMhJvb2/LtszMTFq1asWmTZv45ZdfqFOnDmAeKY6IiLBptLd3794sX76cHTt2UL9+fQDS0tK466678PPzY+/evTbFFxYWxvHjx+2+rpsSGwstW8J778HIkQXzmiIiIiJFlC15nNuUTzRu3NgqIQbw8PCgR48eAOzZsyfbMdeuXeP8+fO5nvPChQusXLmSmJgYS0IM4Ofnx5AhQ9i3bx87d+50zAU40t13m7/Gx7s0DBEREZHiwm2S4txkZfUVKlSw2v7DDz/g4+ND2bJlCQwM5NFHHyU5Odmqze7du0lPTyc6Ojrbee/7X1lCXFyckyK/BYGBEB6upFhERESkgLhNTXFOTpw4wUcffUR4eDjNmjWzbL/rrrsYMmQItWvXJj09nfXr1zNnzhw2btxIXFwcQUFBACQmJgIQGhqa7dxZ2xISEnJ87UmTJjFp0iTL87S0NIddl03q14dVq+DyZShVqmBfW0RERKSYcdukOD09nV69enHu3Dk+++wzSpYsadn39ddfW7Xt168fjRo1YujQobz55ptMnDgRgIsXLwJkK8sAKPW/RDOrzY1GjBjBiBEjLM/DwsJu7YLsVb8+fPkl7NsHDRoU7GuLiIiIFDNuWT5x7do1evfuzdatW/nwww9p3bp1vsc8/vjjVKhQgTVr1li2+fj4AOYE+0aXL1+2auN2smqgVUIhIiIi4nRulxRnZGTQr18/Vq5cyfvvv8+QIUNsPjY8PJyUlBTL85CQECDnEomsbTmVVrgFJcUiIiIiBcatkuLMzEwGDBjAsmXLeO+99xg+fLhdxx4+fJiKFStattWtWxdvb2+2bduWrf327dsBaNiw4a0H7gzh4eDvr6RYREREpAC4TVKcmZnJI488wuLFi3nzzTcZmcv8vKdPn85x+7vvvsvp06fp0qWLZZufnx9dunQhNjaWXbt2WbanpaUxa9YsatWqRWRkpGMvxFFMJvNocXw8ZGa6OhoRERGRIs1tbrR74YUXmD9/PlFRUVSpUoWFCxda7a9Xrx716tVj/vz5zJ49m44dOxIREUF6ejobNmxg1apV1KlTh9GjR1sd99Zbb7F+/XratWvHc889R9myZZk5cyaJiYlW9cduqX592LQJ/vgDqld3dTQiIiIiRZbbJMU7duwAzPMGDxgwINv+sWPHUq9ePaKiotiwYQNLlizh5MmTANSoUYNXXnmFUaNG4efnZ3VczZo12bJlC2PGjGHChAlcvXqVBg0auO8Sz9e7vq5YSbGIiIiI07jNMs/urkCXec4SHw/33AOvvALjxhXsa4uIiIgUEYVqmWfJwZ13QokSutlORERExMmUFLuzkiXNibGSYhERERGnUlLs7urXhz//hFOnXB2JiIiISJGlpNjdZd1sd92UciIiIiLiWEqK3Z1WthMRERFxOiXF7u7uu81flRSLiIiIOI2SYncXGGhe8nnnTldHIiIiIlJkKSkuDCIjYf9+uHDB1ZGIiIiIFElKiguDyEjIzNTNdiIiIiJOoqS4MIiMNH/931LYIiIiIuJYSooLg6yk+KefXBuHiIiISBGlpLgwKF/efLOdRopFREREnEJJcWGhm+1EREREnEZJcWHRsKH5ZjvNVywiIiLicEqKCwvdbCciIiLiNEqKCwvdbCciIiLiNEqKC4ugIIiI0EixiIiIiBMoKS5MIiPh118hLc3VkYiIiIgUKUqKCxPdbCciIiLiFEqKCxPdbCciIiLiFEqKC5MGDcxflRSLiIiIOJSS4sIkKAiqVdMMFCIiIiIOpqS4sNHNdiIiIiIOp6S4sGnYEAwDdu50dSQiIiIiRYaS4sLm3nvNX3/4wbVxiIiIiBQhSooLm4YNwWRSUiwiIiLiQEqKC5syZeCuu5QUi4iIiDiQkuLCqFEjOH4cEhNdHYmIiIhIkaCkuDBq1Mj8VaPFIiIiIg6hpLgwUlIsIiIi4lBKiguju+4CX18lxSIiIiIOoqS4MPL0NM9C8dNPkJHh6mhERERECj0lxYXVffeZV7Xbt8/VkYiIiIgUekqKCyvVFYuIiIg4jJLiwkpJsYiIiIjDKCkurEJCICxMSbGIiIiIAygpLswaNYK9e821xSIiIiJy05QUF2aNGkFmpnkWChERERG5aUqKCzPVFYuIiIg4hJLiwiwy0jxn8bZtro5EREREpFBzm6R4586djBw5knvuuYeAgACCgoKIjo5m4cKFGIaRrf3q1auJjo7G19eXoKAg+vTpw9GjR3M892+//cYDDzxAYGAgfn5+tGjRgtjYWCdfUQHw9YX69WHrVsihj0RERETENm6TFL/zzjvMnz+fRo0a8fbbb/Pqq6/i4eHBgAEDGDJkiFXbzz//nM6dO3P58mXeffddnn/+eWJjY2nSpAl//fWXVdtDhw7RuHFjtm3bxqhRo3jnnXc4d+4cbdu2ZePGjQV5ic7RpAmcPAkHD7o6EhEREZFCy2TkNAzrAlu3biUyMhJvb2/LtszMTFq1asWmTZv45ZdfqFOnDlevXiUiIgIvLy/27t2Ln58fAPHx8URGRjJ06FA++OADyzl69+7N8uXL2bFjB/Xr1wcgLS2Nu+66Cz8/P/bu3WtTfGFhYRw/ftxxF+woS5dCnz4wZw4MGuTqaERERETcji15nNuMFDdu3NgqIQbw8PCgR48eAOzZsweATZs2kZiYyJAhQywJMUD9+vWJiYlhyZIlZGRkAHDhwgVWrlxJTEyMJSEG8PPzY8iQIezbt4+dO3c6+cqcrEkT89ctW1wbh4iIiEgh5jZJcW6ysvoKFSoAEBcXB0B0dHS2tvfddx9nzpzh4P9KCXbv3k16enquba8/nztJTc9gRnwiE3YkMyP+BKnpGbk3Dg2F8HAlxSIiIiK3wK2T4hMnTvDRRx8RHh5Os2bNAEhMTAQgNDQ0W/usbQkJCXa3vdGkSZMICwuzPNIKcIGMJfuTWL9iGRO7R7N+xVKW7E/K+4AmTWD/fjh9umACFBERESliHJYUG4bBvHnzeO6555gyZQoXLly4pfOlp6fTq1cvzp07x+zZsylZsiQAFy9eBMhWagFQqlQpqzb2tL3RiBEjOH78uOVxfamGs6VmeBE7dyopxw4TO28aqRmeeR+QVUKxdavzgxMREREpguxOiidOnEi5cuWyzdzQrVs3Bg8ezNSpUxk5ciRNmjTh0qVLNxXUtWvX6N27N1u3buXDDz+kdevWln0+Pj6AOWm+0eXLl63a2NPWnQR4ZhAz6BnKh9cgZuBwAjwz8z6gcWPzV5VQiIiIiNwUu5PiNWvW4OnpSfPmzS3bNm7cyMqVK6lQoQLPPvss9erV45dffmHu3Ll2B5SRkUG/fv1YuXIl77//frbp2EJCQoCcyx6ytmWVRtjT1p30rR1M6269GLl8C6279aZv7eC8D6hbF8qUUVIsIiIicpO87D3g999/56677sLT8+8/6X/22WeYTCYWL15My5YtOX/+PFWrVuWTTz7hiSeesPncmZmZDBgwgGXLlvHee+8xfPjwbG2ioqIA2LZtG23atLHat337dgICAqhZsyYAdevWxdvbm205rPi2fft2ABo2bGhzfAUlwNuTYfVDbD/A0xPuuw+++w6uXIH/lZqIiIiIiG3sHik+deqUZQQ2y/fff0/58uVp2bIlAGXKlKFJkyYcOXLE5vNmZmbyyCOPsHjxYt58801GjhyZY7sWLVpQuXJlZs2aZXXz265du4iNjaVPnz6WhN3Pz48uXboQGxvLrl27LG3T0tKYNWsWtWrVIjIy0uYY3VqTJnD5MhT2KeZEREREXMDukeLMzExLPS6Y5wLet28fXbp0sWoXGBjIaTtmQ3jhhReYP38+UVFRVKlShYULF1rtr1evHvXq1aNEiRK8//779OnTh2bNmvHYY49x7tw5Jk+eTMWKFRk7dqzVcW+99Rbr16+nXbt2PPfcc5QtW5aZM2eSmJjImjVr7L1893X9fMX/m25ORERERGxjd1JctWpVfv75Z8vzdevWkZGRQZOspOx/zpw5Q7ly5Ww+744dOwDzvMEDBgzItn/s2LHUq1cPgF69elG6dGnGjx/P888/j7e3N23btuXtt9+mcuXKVsfVrFmTLVu2MGbMGCZMmMDVq1dp0KAB69ats4xsFwmNGoGHhzkpzmWUXURERERyZvcyz88++yzTp09n6NChtG/fntGjR3PgwAH27t1LrVq1LO3CwsKoUqVKjvW8hZHbLvN8vQYNICEB/voLTCZXRyMiIiLiFpyyzPO//vUvKlWqxIwZM+jevTu///47/fv3t0qId+7cSWJiIo2zpgqTgtG0KSQnw4EDro5EREREpFCxu3yiUqVK7Ny5k48++oikpCTuvffebOUOe/fu5f7776d79+4OC1Rs0KIFTJsGmzbB7be7OhoRERGRQsPu8oniqlCUT5w8CcHB0L8/3HCjooiIiEhx5ZTyicGDB/Pxxx/n227u3LkMHjzY3tPLrahQAe68E2JjQZ91RERERGxmd1I8d+5cvv/++3zbbdmyhXnz5t1UUHILWrQw32x3+LCrIxEREREpNOxOim2VkZGBh4fTTi+5iYkxf920yaVhiIiIiBQmTstaDxw4gL+/v7NOL7lp3tz8VUmxiIiIiM1smn1i3LhxVs/j4+Ozbcty7do19u7dy9atW2nTps2tRyj2qVQJ7rhDSbGIiIiIHWyafcLDwwOTyYQ9E1X4+vqydu3abCvdFVaFYvaJLEOHwkcfwZEjEBHh6mhEREREXMqWPM6mkeJXX33VkhSPGzeO+vXrc//99+fYtmTJkoSFhdG+fXuCg4Ptj1puXYsW5qR40yYlxSIiIiI2sHueYg8PDwYNGmTTtGxFSaEaKU5IgLAweOQRKGbfJxEREZEbOWyk+HqZmZk3HZDcvNT0DJbsTyI1w4sAzwz61g4mwNsz58ahoVCzpuqKRURERGykOdMKiSX7k1i/YhkTu0ezfsVSluxPyvuAFi3McxX/+WfBBCgiIiJSiNk9UpwlMTGRjRs3kpCQwOXLl3NsYzKZeOWVV246OPlbaoYXsXOnknLsMLHzphHZtW/eB7RoAbNnm0eLH3qoYIIUERERKaRuKikeMWIE06dPJyMjAyDbrBRZN+UpKXacAM8MYgY9Q+y8acQMHE6AZz5lLC1bmr9u2KCkWERERCQfdifFkyZNYsqUKZhMJtq3b0/t2rUpW7asM2KT6/StHQz0IrJrXwI8M//3PA9hYXD77fDtt2AYYDIVSJwiIiIihZHdSfHs2bPx8vJi3bp1xGQtKSxOF+DtybD6IfYd1KYNfPABHDwIt93mnMBEREREigC7b7Q7dOgQTZs2VUJcGGStKPjtt66NQ0RERMTN2Z0UlylThsqVKzsjFnG0mBjw8ID1610diYiIiIhbszspbtasGbt27XJGLOJogYEQGWm+2e5/N0WKiIiISHZ2J8WvvvoqBw8eZNasWc6IRxytTRs4cwZ+/tnVkYiIiIi4LbtvtDt37hwjRoxg6NChrFu3js6dO1O1alU8PHLOr5s3b37LQcotaN0a3nrLXELRsKGroxERERFxSybjxkmG8+Hh4WE1D3GeJzeZuHbt2i0F6C5sWTPbLV2+bC6jaNoUvvnG1dGIiIiIFDhb8ji7R4qbN2+ebzIsbqRUKXNC/P335gS5VClXRyQiIiLiduxOimNjY50QhjhV69bmadm2boVWrVwdjYiIiIjbsftGOymENF+xiIiISJ6UFBcH99xjritWTbGIiIhIjuwun9i8ebNd7TX7hBvw9DSXUCxfDikpUL68qyMSERERcSt2J8UxMTE232hXlGafKPQ6doTPPoN166BfP1dHIyIiIuJWHDb7RGZmJkePHuXPP/8EIDo6mhIlStx6hOIY7dubv65dq6RYRERE5AYOn31i9+7dDBo0CF9fX1avXn2zcYmjhYZC3brw3/9CZibkstiKiIiISHHk8MyoXr16fP7553z//fe8++67jj693IqOHSE5WUs+i4iIiNzAKcOFERERREVFMX/+fGecXm5Whw7mr2vXujYOERERETfjtL+hV6hQgT/++MNZp5eb0aQJ+PnBmjWujkRERETErTglKb5y5QpxcXH4+Pg44/Rys0qWNE/Ntm0bnDnj6mhERERE3IZDk+ILFy7w008/0aNHD/78809atmzpyNOLI3TsaL7Rbv16V0ciIiIi4jbsnn3C09Mz3zaGYRAQEMD48eNvKihxoqy64jVroGdP18YiIiIi4ibsHik2DCPXh5eXF+Hh4QwZMoSdO3dyxx13OCNmuRXh4VC7tvlmO8NwdTQiIiIibsHukeLMzExnxCEFqUMHmDwZfvkF6tVzdTQiIiIiLqcVHIqjTp3MX1etcm0cIiIiIm7CbZLit956i549exIREYHJZKJ+/fq5to2JicFkMuX4OHjwYLb2iYmJPPzww1SoUIHSpUsTFRXF8uXLnXg1bq55cyhbFlaudHUkIiIiIm7B7vKJLKdOnWLmzJls3LiRhIQEAEJDQ2nVqhVDhgwhKCjIrvO9+OKLBAUFERkZyalTp/JtX758eSZPnpxte6VKlayenz59mqZNm5KcnMyIESMICwtj0aJF9OzZk/nz5zNgwAC74iwSSpY0l1AsWwZ//QU39JmIiIhIcWMyDPvvtlq3bh0PPvggqamp3Hi4yWQiMDCQRYsW0a5dO5vPefjwYapXrw6YV8QLCAggPj4+x7YxMTH88ccfNi0OMmrUKN59911WrlxJly5dAMjIyCA6OpojR45w9OhRm+ZTDgsL4/jx4zZfj9v75BN46CGYNQsefdTV0YiIiIg4jS15nN3lEwcOHKB79+6cOXOGunXrMnnyZFauXMnKlSuZMmUKd999N6dPn6Z79+4cOHDA5vNmJcT2yMzM5Ny5c9kS8+stWrSIGjVqWBJiME8rN3z4cFJSUlhbXJc87tgRPD3hq69cHYmIiIiIy9mdFE+YMIGLFy/y2muvER8fz7PPPkvnzp3p3LkzzzzzDDt37uT111/n4sWLvP32286IGYCEhAT8/Pzw9/enTJky9OrVi0OHDlm1OXHiBAkJCdx3333Zjs/aFhcX57QY3Vq5ctC0KaxbB5cuuToaEREREZeyu6Z4/fr13HHHHbz66qu5tnnllVdYtGgR33777S0Fl5tq1arRpEkT6tWrh6enJ1u2bOGDDz5gw4YN/PDDD9SsWRMw32AH5lrnG2Vty6qHLpa6doVNm8yr23Xu7OpoRERERFzG7pHiv/76iwYNGuTbrkGDBvz11183FVR+5syZw7///W/69OlDz549LSUcp0+fZvTo0ZZ2Fy9eBMDb2zvbOUqVKmXV5kaTJk0iLCzM8khLS3PClbhYVkmJSihERESkmLM7Kfb19SU5OTnfdsnJyfj6+t5UUDejffv2NGzY0KpGOOsGuvT09GztL1++bNXmRiNGjOD48eOWh5+fnxOidrHbboNatcxJsRZlERERkWLM7qS4fv36bN68mV9++SXXNrt372bTpk15zjXsDBEREVy8eNEy+hsSEgLkXCJx/TRyxVqXLnDiBOzY4epIRERERFzG7qT4scce4+rVq7Rp04YPPvjAqqwgLS2N6dOn07ZtWzIyMnj88ccdGmx+Dhw4gJ+fn2X0t3LlyoSGhrJ9+/ZsbbO2NWzYsEBjdDtdu5q/aiEPERERKcbsTor79u3LgAEDOHnyJMOHD8ff35/g4GCCg4Px9/fn2Wef5eTJkwwYMIA+ffo4POCzZ8+SkZGRbfunn37Krl27rKZeA3jwwQc5dOgQX11XN5uRkcG0adMoV64cHTp0cHiMhUp0NJQvD1984epIRERERFzmpla0mzdvHtHR0bz33nscPnyYlJQUy74aNWrw/PPPM3ToULvOuWDBAo4ePQqYE9/09HTGjx8PQHh4uGXluY0bNzJy5Ei6dOlC9erV8fDwYNu2bSxevJjQ0NBs08CNGTOGZcuW0a9fP0aMGEFoaCiLFy8mLi6OOXPmFGjds1vy9IQHHjAv4vH773D77a6OSERERKTA3dSKdtdLSEiwqs+92RrdmJgYNm3alOO+Fi1aEBsbC8D+/fsZO3YsO3bs4K+//uLatWtUrVqVf/zjH7z44osEBwfnGOPo0aNZu3YtaWlp1KlTh9GjR9OrVy+b4ytyK9pdb+1a82Ieb74J//qXq6MRERERcShb8jibkuK4uDhOnDhB7dq1ue222/Jse+DAAfbv309ISEiRqtct0knxlSsQHAw1auiGOxERESlybMnj8i2fSElJoXXr1pQpU4b4+Ph8XzQgIIAnn3ySixcvcvjwYQICAmyNV1ylZEnzDXcLFsCRI1CtmqsjEhERESlQ+d5ot3DhQtLS0nj99depUKFCviesUKEC48aNIzU1lYULFzokSCkAPXqYv37+uWvjEBEREXGBfJPi1atX4+vry8CBA20+6YABA/Dz82PVqlW3FJwUoHbtwNcXli93dSQiIiIiBS7fpHjPnj00atSIEiVK2HzSEiVKcO+99+a5wIe4mdKl4R//gG3bIIfFTkRERESKsnyT4tOnT1OpUiW7T1yxYkVOnTp1U0GJi2SVUKxY4do4RERERApYvkmxt7c3Fy5csPvEFy9exNvb+6aCEhfp1AlKlVIJhYiIiBQ7+SbFlSpVYvfu3XafePfu3Tc1wiwu5OcH7dvD5s2QlOTqaEREREQKTL5JcePGjfnjjz/YunWrzSfdsmULR44coXHjxrcUnLhAnz6QmQnLlrk6EhEREZECk29S3L9/fwzD4PHHH+fs2bP5njA1NZXHH38ck8nEgw8+6JAgpQB17Qo+PrB4sasjERERESkw+SbFbdq0oXXr1uzbt4/IyEhWrlxJTovgGYbBl19+ScOGDfn111+JiYmhXbt2TglanMjX15wYb90KR4+6OhoRERGRAmHTMs+nTp2iSZMm/P7775hMJgICAmjQoAHBwcEAJCcns3PnTlJTUzEMg5o1a7J161bKly/v9AsoKEV6mecbrVwJ998PEybA6NGujkZERETkltiSx9mUFAOcO3eOp59+msWLF5ORkWE+2GQCsIwce3h48OCDDzJt2rQit7xzsUqK09OhUiUIDwcblvYWERERcWcOTYqzHDlyhFWrVvHTTz9x8uRJwLy0c2RkJJ07d6Z69eo3H7EbKypJcWp6Bkv2J5Ga4UWAZwZ9awcT4O2ZveGQITB7NuzbB7VrF3ygIiIiIg5iSx7nZe9Jq1WrxvDhw286KHGtJfuTWL9iGbFzpxIz6BmgF8Pqh2Rv+OCD5qR48WIYN67A4xQREREpSPneaCdFS2qGF7Fzp5Jy7DCx86aRmpHDKDFATIy5hGLxYrDvjwkiIiIihY6S4mImwDODmEHPUD68BjEDhxPgmZlzQ09P6N0bDh6EHTsKNkgRERGRAmZ3+YQUbn1rBwO9iOzalwDPzP89z0W/fjB1KnzyCTRsWGAxioiIiBQ0u2+0K66Kyo12djEMuOMOSE2FhAQoUcLVEYmIiIjYzZY8TuUTkjuTCQYOhJMnYe1aV0cjIiIi4jRKiiVvAwaYk+N581wdiYiIiIjTKCmWvFWtCq1amVe5O3XK1dGIiIiIOIWSYsnfwIFw9SosWeLqSEREREScQkmx5K97d/DzUwmFiIiIFFlKiiV/vr7QqxfExZmXfRYREREpYpQUC6npGcyIT2TCjmRmxJ8gNT0je6OBA81fNVosIiIiRZCSYmHJ/iTWr1jGxO7RrF+xlCX7k7I3atYMIiJgwQK4dq3AYxQRERFxJiXFQmqGF7Fzp5Jy7DCx86aRmuGZvZGHBwweDCdOwNdfF3yQIiIiIk6kpFgI8MwgZtAzlA+vQczA4QR4ZubccPBgc3L80UcFG6CIiIiIk3m5OgBxvb61g4FeRHbtS4Bn5v+e5yA0FDp3hq++gmPHzHMYi4iIiBQBGikWArw9GVY/hDGRFRlWvzIB3jmUT2QZOhQMA2bPLrgARURERJxMSbHYp317qFLFnBTrhjsREREpIpQUi308PWHIEEhIgDVrXB2NiIiIiEMoKRb76YY7ERERKWKUFIv9wsLgH/+A1avhzz9dHY2IiIjILVNSLDdn6FDIzIQPP3R1JCIiIiK3TEmx3JwOHaB6dXMJxeXLro5GRERE5JYoKZab4+kJTz8NJ0/Cp5+6OhoRERGRW6KkWG7eI4+Ajw9Mm2aeu1hERESkkFJSLDcvIAAefhh27IBt21wdjYiIiMhNU1Ist2b4cPPXadNcG4eIiIjILVBSLLfmzjuhdWv47DNITHR1NCIiIiI3xW2S4rfeeouePXsSERGByWSifv36ebbfvn07bdq0oUyZMvj7+9OpUyd2796dY9vExEQefvhhKlSoQOnSpYmKimL58uVOuIpi6plnzEs+z5jh6khEREREborJMNzjDimTyURQUBCRkZFs3bqVGjVqEB8fn2Pb7du3ExMTQ2hoKE8//TQA06dP5+TJk2zfvp0777zT0vb06dM0bNiQ5ORkRowYQVhYGIsWLWLTpk3Mnz+fAQMG2BRfWFgYx48fv+XrLJIyMuC22+D8eTh61HzznYiIiIibsCWPc5uk+PDhw1SvXh2AiIgIAgICck2K7733Xn799Vf2799PaGgoAAkJCdSuXZumTZuyevVqS9tRo0bx7rvvsnLlSrp06QJARkYG0dHRHDlyhKNHj+JjQxKnpDgf06eb64s/+ACeeMLV0YiIiIhY2JLHuU35RFZCnJ+DBw8SFxdHr169LAkxQGhoKL169eK///0vJ0+etGxftGgRNWrUsCTEAJ6engwfPpyUlBTWrl3ruIsozh55BMqVg4kTzSPHIiIiIoWI2yTFtoqLiwMgOjo627777ruPzMxMdu7cCcCJEydISEjgvvvuy7Ht9eeTW+TrC089BYcOwYoVro5GRERExC6FLilO/N8MB9ePEme5vpTC3rY3mjRpEmFhYZZHWlrarQdfyKSmZzAjPpEJO5KZEX+C1PR8RoCffhpKlYJ339ViHiIiIlKoFLqk+OLFiwB4e3tn21eqVCmrNva0vdGIESM4fvy45eHn53frwRcyS/YnsX7FMiZ2j2b9iqUs2Z+U9wHBwTBwIPz4I3z3XcEEKSIiIuIAhS4pzropLj09Pdu+y5cvW7Wxp61kl5rhRezcqaQcO0zsvGmkZnjmf9DIkWAymUeLRURERAqJQpcUh4SEADmXPWRtyyqNsKetZBfgmUHMoGcoH16DmIHDCfDMzP+g226Dbt1g1SrYs8f5QYqIiIg4QKFLiqOiogDYtm1btn3bt2/Hw8ODBg0aAFC5cmVCQ0PZvn17jm0BGjZs6MRoC7e+tYNp3a0XI5dvoXW33vStHWzbgWPGmL/++9/OC05ERETEgQpdUlyzZk0aNmzIsmXLLDfSgfmmumXLltG2bVsqVKhg2f7ggw9y6NAhvvrqK8u2jIwMpk2bRrly5ejQoUOBxl+YBHh7Mqx+CGMiKzKsfmUCvG0onwCIioIOHeDTT+HXX50bpIiIiIgDuM3iHQsWLODo0aMATJw4kVKlSvHUU08BEB4ebrXy3NatW2nZsiVhYWEMHz4cgGnTppGcnMy2bduoU6eOpe2pU6eIjIzk1KlTjBgxgtDQUBYvXkxsbCxz5sxh0KBBNsWnxTvstG0bNG4MAwbA/PmujkZERESKsUK1ol1MTAybNm3KcV+LFi2IjY212rZ161ZefvllfvzxRzw8PGjSpAlvvfUW9evXz3Z8QkICo0ePZu3ataSlpVGnTh1Gjx5Nr169bI5PSfFNaNMGNm6E336DmjVdHY2IiIgUU4UqKXZ3SopvwubN0KIFDB4Ms2e7OhoREREppgrVMs9SBDVvbk6K58+HP/5wdTQiIiIiuVJSLM71yitw7ZpmohARERG3pqRY7GbX8s+tWplHjOfMgQMHCi5IERERETsoKRa72bX8s8lkHiXOyIBXXy24IEVERETsoKRY7Gb38s9Nm0KnTrBkCezaVTBBioiIiNhBSbHY7aaWf86qKX7pJecGJyIiInITvFwdgBQ+5uWeexHZtS8Bnpm2Lf9cvz706WNe5W7LFmjSxNlhioiIiNhM8xTbSPMUO8Dvv8Odd5oT4thYc72xiIiIiJNpnmJxL7ffbl7IY/Nm+OorV0cjIiIiYqGkWArWuHHg6wvPPw9Xrrg6GhERERFASbEUtEqV4F//Ms9ZPGOGq6MRERERAVRTbDPVFDvQpUtwxx2QlgYHD0K5cq6OSERERIow1RSLeypdGt56C86cgfHjXR2NiIiIiJJicZEHH4SoKJg+Xcs/i4iIiMspKRanSk3PYEZ8IhN2JDMj/gSp6RnmHR4eMGkSXL0Kzz4LquIRERERF1JSLE61ZH8S61csY2L3aNavWMqS/Ul/72zaFB56CNasgZUrXRekiIiIFHtKisWpUjO8iJ07lZRjh4mdN43UDE/rBu++C2XLmkeLL150TZAiIiJS7CkpFofJqVQiwDODmEHPUD68BjEDhxPgmWl9UKVK8MYbcPQovPmmawIXERGRYk9TstlIU7Llb0Z8IutXLCN27lRiBj1D62696Fu7Ikv2J5Ga4UmAZyZ9awcT4H3DaPG1axAZCb/+Cr/8Yl75TkRERMRBNCWbFKicSiUCvD0ZVj+EMZEVGVa/cvaEGMDLC/7zH/MKd089pZvuREREpMApKRaHybdUIi9Nm8Ijj8C338L8+c4LUkRERCQHKp+wkcon8peanpF/qURezpyB2rXNI8b790PFis4LVkRERIoNW/I4rwKKRYqBrFKJmxYYaF7Mo1cveOYZ+PRTxwUnIiIikgeVT4h76dEDHngAli7V3MUiIiJSYJQUi3sxmcw33fn7wxNPQGqqqyMSERGRYkBJsbifkBCYOBESE81lFCIiIiJOpqRY3NPgwfCPf8CCBbBsmaujERERkSJOSbG4J5MJZs2C8uVh2DDzqLGIiIiIkygpFvdVqRJ89BGcPm0eOdbsgSIiIuIkSorFvXXrZl7U47//hf/7P1dHIyIiIkWUFu+wkRbvcKy/F/rwIsAzI++FPs6dg7vvhqQk2LHDvMCHiIiIiI1syeM0UiwusWR/EutXLGNi92jWr1jKkv1JuTcuW9Z8w92VK+aFPS5cKLhARUREpFhQUiwukZrhRezcqaQcO0zsvGmkZuSzHHTTpjB+POzdC08/XTBBioiISLGhpFhcIsAzg5hBz1A+vAYxA4cT4JmZ/0GjRkGnTjB3LsydS2p6BjPiE5mwI5kZ8SdITc9wetwiIiJSNHm5OgApnvrWDgZ6Edm1LwGemf97ng8PD5g3D+65B558kv+WCWf97t3Ezp1KzKBngF4Mqx/i7NBFRESkCNKNdjbSjXZuZOtWaNGClCrVaXj1CkeP/0H58BqMXL6FMZEVXR2diIiIuBndaCdFU+PGMGEC5Y/8zqd+ZalQtbrtJRg3UAmGiIiIgJJicTM2J6kjRnCld18a/bqbz9t3o3W33raVYNzArlkwREREpMhSUixuxeYk1WSi5JzZ0KABTWdOZNihrbnPc5wHu2fBEBERkSJJSbG4FbuSVB8f+OILCA6Ghx+G3bvtfr2bmgVDREREipxCmRT/8ccfmEymHB9NmzbN1n716tVER0fj6+tLUFAQffr04ejRoy6IXPJjd5JapQp8/jlcvQr33w/JyXa9Xt/awbTu1ouRy7fcdAmGiIiIFH6FcvaJP/74g2rVqtGtWze6d+9utS84OJh27dpZnn/++ef07NmTu+++m8cee4yzZ88yZcoUSpQowU8//USlSpVsek3NPlEw/l7+2dMyVVuAt2f+y0LPng1DhkBUFGzcCL6+rrsIERERcSu25HGFep7ievXq8dBDD+W6/+rVqwwfPpwqVarw3Xff4efnB0DHjh2JjIxk3LhxfPDBBwUVrtggwNszx7mGs2qNc52T+NFH4cgR+Pe/oU8fc1mFV6H+8RYREZECVCjLJ653+fJlLl68mOO+TZs2kZiYyJAhQywJMUD9+vWJiYlhyZIlZGRoCq7CwKZa4zfeMNcWf/01PPkkFL4/goiIiIiLFOqkeOLEiZQuXRpfX1/Cw8N54403uHr1qmV/XFwcANHR0dmOve+++zhz5gwHDx4ssHjl5tlUa2wywcyZ0Lat+eubb1rt1pzEIiIikptC+fdlDw8PWrVqxQMPPEBERARJSUksWrSIV199lZ9++okvvvgCk8lEYmIiAKGhodnOkbUtISGBO+64I9v+SZMmMWnSJMvztLQ0J12N2MLmZaFLloTPPoMWLeDllyEoCIYNA2wowRAREZFiq1AmxVWrVmX9+vVW24YMGUK/fv1YvHgxq1atokuXLpayCm9v72znKFWqFECupRcjRoxgxIgRludhYWGOCl9uQm61xjkqWxZWr4bmzeGJJ8xTtz38cLYSjMiufZ0btIiIiBQahbp84kYvvfQSAGvWrAHAx8cHgPT09GxtL1++bNVGipjKlWH9eqhaFR55BJYt05zEIiIikqtCOVKcm4iICABSUlIACAkxjywmJCRQu3Ztq7YJCQlAzqUVUkRUrQobNkCzZtCvHw8t/Qy62VCCISIiIsVOkRopPnDgAAAVK1YEICoqCoBt27Zla7t9+3YCAgKoWbNmwQUoBa9GDfj2WwgIwO/BPgxL+JkxkRUZVr/yTS0LLSIiIkVToUyKT506lW1bRkYGr7zyCgBdunQBoEWLFlSuXJlZs2ZZ3Si3a9cuYmNj6dOnD56eSoyKvDvvNCfGZcpAt26wfLmrIxIRERE3UyhXtOvevTvnz58nOjqaKlWqkJyczNKlS9m9ezcPP/ww8+bNs7RdtmwZffr0saxod+7cOSZPnoynpyc7duygcuXKNr2mVrQrAvbuhTZt4ORJmDcP+vd3dUQiIiJSAGzJ4wplUjx79mwWLFjAr7/+yunTpylVqhR169bl0Ucf5ZFHHsFkMlm1X7VqFePHj2f37t14e3vTtm1b3n77bapVq2bzayopLiJ+/x1at4aEBPNcxo8+6uqIRERExMmKbFLsCkqKi5AjR8yJ8ZEjMGECjBplXvhDREREiiRb8rgiNfuECJhXrluyP4nUDC8CPDPoWzvY+qa6atXgu++gQwcYMwaOH4cpU0D15SIiIsVWobzRTiQvWSvXTewezfoVS1myPyl7o9BQc2IcEwPTp0OvXnDpUoHHKiIiIu5BSbEUOTeuXJeakcsIcEAArF0LffrAihXQtq35JjwREREpdpQUS5Fj18p13t6waBGMHAlbtkBUFOzeXXDBioiIiFvQjXY20o12hcffNcWelpXrbFqoY/ZseOIJKFkSFiwwz2ksIiIihZ5mn3AgJcXFxJYt0L07JCfD66/Dyy+Dh/6gIiIiUpjZksfp3V7kek2aQFwc1K8PY8dC586QkuLqqERERMTJlBSL3KhqVfOI8SOPwJo1cM895ueYSzNmxCcyYUcyM+JPkJqe4eJgRURExBGUFIvkxMcHPv4Y5s6FU6egRQt45x2W7D2R/3Rv/6MEWkREpPBQUiySl4ED4ccf4bbbYPRo2j39MPtnTcp/ujdsnC9ZRERE3IKSYpH81KljrjMeNIjq2zay/XQKQ8pXtJruLadRYZvnSxYRERGXU1IsYgs/P5gzhwtLl+NZujQzU5J484eNPFjRvFJ6TqPCds2XLCIiIi6lKdlspCnZxCI5GR5/HL78EipXhunTmVC1CRN7NCbl2GHKh9dg5PItDKtT/ubmSxYRERGHsiWP8yqgWESKjuBg87LQ8+fDP/8JPXrQt3lbjnYbwGdfLLSMCgd4ezKsfoiroxUREREbaKTYRhoplhwlJcFzz8HixVwt7cOmJ8Zw6MFB9Kkb4tRR4b9X7fMiwDNDo9AiIiJ50OIdIjfJ5unUKlaERYtg7VpKVKpIm0mvMnRIFwK2fefU+DSzhYiIiGMpKRbJgd1JZ/v2sGcP/OtfsH8/tGwJPXrA4cNOiU8zW4iIiDiWkmKRHNxU0unjA2++aU6Ke/SAzz+H2rVhzBhITb35WHIYtdbMFiIiIo6lpFgkB7eUdFavDp99Bhs3mpPit9+GatXgrbcgLc3uWHIate5bO5jW3XoxcvkWWnfrTd/awXafV0RERP6mG+1spBvtipe/b2S7xenUMjLgk0/gtdfgyBEIDubSC6NZ2OwBTnn52XST3IQdyUzsHm013duYyIo3f3EiIiLFjG60E7lJWdOpjYmsyLD6lW9+ZgdPT3j4Yfj1V/i//wMvL0q/MJJu7SI52/ZOvlu6MN96ZZVKiIiIOJ9Gim2kkWJxiEuXWP/iu9Sb+joVMjNJ8fBg3+Mv0PzN0aT6lM1xmjWHjVrnQFO7iYhIcaDFO0TcTenSHBj4GB+XLk3Yh+8wMiOD5jPehoX/4egD/dgVVJnPViwgZtAzQC+G1Q9x6iIgWfXKsXOnWr2miIhIcaORYhtppFgc5fqR33KZ6fTfuwnfie/Anj1kAF8ACyqGcN+qHYxpWMmpsbh7vbJGskVExBFUUyzihq6vV348qiq+gwbA7t2snrqAXTVr0wP4IimRx/u0MNchnz/vvFjsqFe2eUETB9IiJSIiUlA0UmwjjRSLs2WNivLHMaI/m0O9VZ9iOnsWfH2hZ0945BFo3hxMpps+963UK8+IT7QqtWjdzfmlFu4+ki0iIoWDaopFChFL7XD9EHjgPrgwyTyd28cfw7x55kf16jBoEAwcCFWr2nzu3GqH7alXvnFBk8iufc3bHVDikNs5skayY+dNsxrJVlmFiIg4msonRNyVry88/jhs3w5798ILL8DFi/DqqxAeDs2awfTp8NdflkNyK3FwxLLQuZVaOKLEIbdz5LZIicoqRETE0TRSLFIY3HknvPOOeRnptWth/nxYtQq+/x6eeQZatIA+ffji9sas37Qx+4hwLiOuOcltFNackPYismtfS6kF5D6CbI/czpHbSLYjXtMRNGItIlJ0KCkWKUy8vKBzZ/MjLQ2+/hqWLoXVqyE2loEmE3eWKEmNK+lsmfkeqV36AOSa0ObE3lILe0ocss5va5lEbnJqn3/dtOMTV01pJyJSdCgpFims/PygTx/z4/x5WLmSw3MWU/e7b7kX4MRxzt1/L/R4gIDOnRnWrBmULp3vae0dhc0t4c4pYQRyTCLtSdpze83cElRnJq7uMmItIiK3TkmxSFFQpgz0709Qz74s2HWMsnE/ctf367hz2waYNs388PaGJk2gdWto0wYiI83LUN/A7lFbu0ocTHaVSdjzmrneCOjExNXevpLsVIIikjf9jhQcJcUiRUiAtyeP31sN7q0GT/UBwzDfpLd6NaxfD999Bxs2wEsvgb8/xMRAq1bQtCnUqwdeXnaP2uYaSy4Jo7OSyNxez5kzWDiqr4qzJfuT+HbFMja5aQmKK8pynKmwxl2cOeJ3RN9322ieYhtpnmIpEtLTYds2c4L87bcQFwcZ/1uEw9cXGjUyjyY3aQL33WdOnG9STnMgAzbPi+yI18trLmZnzrvszGnq3IWj4stpLuphdcq7zbXn9nPi7j8/uXHFfONizd7vryPma9f3XfMUi8iNvL3No8MxMfDGG3DunHkGi61bYcsWc8K8YYO5rclknvUiMvLvx913m2uZbZBbSYSz/iPO9UZAO2ewcERC4og65tzO4S7JsqNqtXMayXenGxgdUZZj7/dMdfBFm73fX0eUabni++4u/1fZQ/MUixRnZctCp04wfjxs3Ahnz5pHj6dMMa+il5Zmnv7t2WfNJRZly5oT5QEDYPJk82jzX3+ZyzQKGXvmXbZ3iWt75oW2d25pd5mj2RFzX0POc1E76tyOkNvPiT1LpNv7PXPm9dsTtyO4Ynl4d2fv9ze3+drtUdDfd3Cf/6vsoZFiEflbiRLQsKH58eyz5m0pKbBzp/mxY4f5sXCh+ZElKAjuugvq1LH+GhTkmuuwgT3zLjtqZCenkZNcp8DL7RxOHOHOTY7ndtBNhjmN5DuzDtzec+T2c5LT9lzrj+0cpbNnykF7FXQdvL2/O+5SeuTM3ydH3cxsD0d83+3tk8L4VwklxSKSt/LloV078yPL6dMQHw979pgfe/ean2/ebH1suXJw2205P26hXtkR7Jl32ZnT1OV27tzOkdsbak7n7lu7okPe2HM7tz1vsva8odrTf/aWlNj9AceOspwb6zbz/YBjx0I5DitXcUCCZQ97f3dcUXpkz4dVR3DFDbr2fN9z6ydHDA64e0mFkmIRsV+5cuZZK1q1+nubYUBCwt9J8t69cOCA+fHDD9nPUaEC1KgBVaual60OD7f+t4uS5pwTkmSnTVOX66wZuZzDmSPcuckx7tyu0QFvqPbWgdtzbmeOXtn7AceehXLs/QuBPcmHK0ZFHTWqnuP12PlzYs+HVbtHS3Np7y43udnzgcARgwPudL9ATpQUi4hjmEwQFmZ+dOhgve/cOTh48O8kOetx5Ahs357z+cqW/TtBDgmBypX//pr1qFjRvMqfA+X0huXMaersPbczR7hzewO358+9jnpDzfHa7SwpseccjmDvBxxHxO2IRWscVeKQ03a7PxA4cYVMe26atLe/HfFh0BEJd259kht7PhDY+wHHng937qJYJMWZmZm8//77fPjhhxw5coTg4GD69u3L66+/jo+Pj6vDEyn6ypaFBg3Mjxtdvgx//gnHjsHRo38/sp7/979w9WrO5zWZIDjYOkkuX948Cl2+fPZHQAB42H9/saNGdnJKEJx57txGuO19A7cncbf3DfVWr9HeczvzT9d2f8BxQNwOmR3DQSUOuW235wOBM1fItGcuc3v72xEfBu39cGJPn+TGng8E9n7AyYm7L3hULJLi5557jqlTp9KtWzdGjhzJ/v37mTJlCvHx8axbtw6TyeTqEEWKr1Kl/q4zzklmpvlmvxMncn4kJpq/7t9vnoc5Lx4e5pv/spLmwEBzohwQYC7XyOvf/v63PCrtzD+b2jPCbe8buD1x2/uGeqvXaO+5C/p7kBdHxG3vojU5ntvORMURibhjRtXtWyHTnpsm7e1vR3wYtPsvO3b0SW7s+UDgiL94uKKe2h5FPineu3cv06ZNo3v37ixfvtyyvVq1ajzzzDMsW7aM3r17uzBCEcmTh4d5NDg42DxPcm4MwzyF3MmT5iQ6p8f1+/buhdTUvxcvsYWvr3nU28/P/PD1zfnfuT339YXSpc0fBK7/Wrp0jktu3yp738ScOprrgmTUXepq7Y3bHvYkevaew95yGmeO2DtihUx75zK3J25HfBi0e1YKB/SJI/56ZdcHMDeqp85JkV/R7uWXX+bf//43mzdvplmzZpbtly9fJigoiNatW7Ny5cp8z6MV7USKIMOACxfMyfHZs+av1//7xm1nzpgT7xsfFy/eeixeXjknzDl99faGkiXNjxIl8v/3Dc+/OnqOuO1b+PG/n3N3575EtutE77ohnMs08dUfqaQaJShT0oP7a1XE39fbHJun599fPT3NpStuzp5VvLTiV3a59Ym9q0c6QkGvkOmI+G5+GjjbzuEufeLM77sj2ZLHFfmkuH379nz77bdcvHgRb29vq31NmjTh8OHDnDhxIt/zKCkWkVxlZpoT46wk+cKF7Ilz1rbLl82PS5dy/prXvkuXzK/lDjw8sifL9n41mcznufHhoO0/p1zm53VfcDHtHN5l/KnfuTdRlfxyPGZL0iW2LZvDxXOplPYPJLr3YJqGljFfq8n098PRz51xTlue5+SGfV8cPsuq917m7KlkypavSOfn36Bb9YA8j8l3u44puNd3Z4GB5vnwC5CSYqBu3bokJyeTlJR9JZXevXuzbNkyrl27hmc+f7pUUiwiLmcY5psOr1wxP67/943P89qXU9v0dHMpSUYGXLvmnK9Z/752zZzcZ2aarynr3zk9ctovIoVbixYQG1ugL2lLHlfka4pzGiHOUqpUKQAuXbqEn5+f1b5JkyYxadIky/O0tDTnBSkiYguT6e9yiOIsK1HOK6E2DM5eusqKX5M4d81EgOka99coh38JU47Hnrt0hdWHTnE+w0RZj0w6VgukbElPc7usR9Zr3/jvW33uyHPZcu7c+vQGF65msuX4GS5keuDrYdAk1B/fEh55HpPndh1TcK/v7ipVcnUEOdJIsUaKRURERIo0W/I4+yfsLGRCQkJISUkhPYepmhISEqhUqVK+CbGIiIiIFG1FPimOiooiMzOTH3/80Wr75cuXiY+Pp2EBF3qLiIiIiPsp8klxnz59MJlMTJkyxWr7zJkzuXjxIv3793dNYCIiIiLiNor8jXZ169blqaeeYvr06XTv3p1OnTqxf/9+pk6dSqtWrejTp4+rQxQRERERFyvySTHAlClTiIiI4KOPPuLrr7+mQoUKPPvss7z++uta4llEREREiv7sE46i2SdERERECifNPiEiIiIiYgMlxSIiIiJS7CkpFhEREZFiT0mxiIiIiBR7SopFREREpNhTUiwiIiIixZ6SYhEREREp9pQUi4iIiEixp6RYRERERIo9JcUiIiIiUuxpmWcbeXt7U6FChQJ5rbS0NPz8/ArktQoj9U/e1D/5Ux/lTf2TN/VP/tRHeVP/5M0Z/XPy5EnS09PzbKOk2A3Zsj53cab+yZv6J3/qo7ypf/Km/smf+ihv6p+8uap/VD4hIiIiIsWekmIRERERKfaUFLuhESNGuDoEt6b+yZv6J3/qo7ypf/Km/smf+ihv6p+8uap/VFMsIiIiIsWeRopFREREpNhTUiwiIiIixZ6SYhEREREp9pQUu4HMzEwmT55MrVq18Pb2pkqVKrzwwgtcvHjR1aE5xc6dOxk5ciT33HMPAQEBBAUFER0dzcKFC7mxxD0iIgKTyZTj49q1a9nO/dtvv/HAAw8QGBiIn58fLVq0IDY2toCuzHH++OOPXK+7adOm2dqvXr2a6OhofH19CQoKok+fPhw9ejTHcxeFPnrttddy7R+TycRtt91maRsTE5Nru4MHD2Y7d2JiIg8//DAVKlSgdOnSREVFsXz58oK8PLu89dZb9OzZ0/K7Ur9+/Tzbb9++nTZt2lCmTBn8/f3p1KkTu3fvzrGtPX2Rnp7OK6+8QrVq1ShVqhQ1a9bkrbfeyvH3tKDZ2kdnzpxhypQptG3bltDQUHx8fKhduzbPPfccKSkp2drn9XM4a9asbO3dtY/s+Rly5u9TYe+fvP7fznps2bLF0n7u3Lm5tnv55Zeznd9dcwV73tPBee9XZ8+eZfjw4YSEhFCqVCnq1KnDhx9+aNe1eNnVWpziueeeY+rUqXTr1o2RI0eyf/9+pkyZQnx8POvWrcNkMrk6RId65513WL9+PT169GDYsGFcvnyZpUuXMmDAADZu3Mjs2bOt2teqVYuXXnop23k8PT2tnh86dIjGjRvj5eXFqFGj8Pf3Z+bMmbRt25Z169bRsmVLp16XM3Tr1o3u3btbbQsODrZ6/vnnn9OzZ0/uvvtu3n33Xc6ePcuUKVNo0qQJP/30E5UqVbK0LSp91L17d2rWrJlt+3fffcdHH31E586drbaXL1+eyZMnZ2t/fd8AnD59mqZNm5KcnMyIESMICwtj0aJF9OzZk/nz5zNgwADHXogDvPjiiwQFBREZGcmpU6fybLt9+3ZiYmIIDQ1l3LhxAEyfPp2mTZuyfft27rzzTktbe/uiT58+fPnllwwePJjo6Gi2bdvGiy++yKFDh3JMEAuSrX30ww8/8Pzzz9O+fXv++c9/EhAQwE8//cT06dNZtmwZcXFxVK5cOdtxkydPpnz58lbboqOjs7Vz1z6y52cInPf7VNj7p0KFCixYsCDb9mvXrvH4448TEBDAvffem+P5a9eubbWtbt262dq5a65gz3u6s96vrly5Qtu2bfn5558ZPnw4tWvXZs2aNQwbNoyTJ0/m+CEjR4a41J49ewyTyWR0797davvUqVMNwPj0009dFJnzbNmyxbh8+bLVtoyMDKNFixYGYPzyyy+W7eHh4UaLFi1sOm+vXr0MDw8P4+eff7ZsO3/+vFG1alXjzjvvdEToBebIkSMGYIwdOzbPdleuXDFCQkKMqlWrGufPn7ds//nnnw0PDw/jiSeesGpflPooJ/fff78BGLt377Zsa9GihREeHm7T8S+88IIBGCtXrrRsu3btmhEVFWWUL1/euHDhgqNDvmWHDh2y/Ds8PNy4++67c20bFRVllClTxjh+/Lhl2/Hjx40yZcoYHTt2tGprT198/fXXBmCMGDHC6hwjRowwAOOHH3642ctzCFv76I8//rBqm2X27NkGYIwcOdJq+9ixYw3AOHLkSL4xuHMf2fMz5Kzfp6LSPzlZsWJFjtc2Z84cAzA2btyY7zncOVew9T3dme9X//nPfwzAmDp1qtX27t27GyVLljSOHTtm07UoKXaxl156yQCMzZs3W22/dOmS4ePjY3Tp0sVFkRW8rF/uxYsXW7ZlJcVXr141zp07l+uxaWlphre3t9GqVats+8aNG2cAxo4dO5wStzNcnxRfunQp12Tsm2++MQBj3Lhx2fa1atXKCAwMNK5du2YYRtHroxslJSUZXl5eRlRUlNX2rDfxjIwM4+zZs0ZmZmau5wgNDTVq1KiRbfv8+fMNwFi+fLnD43akvN6wDxw4YADG4MGDs+0bPHiw4eHhYSQnJ1u22dMX/fv3N4BsbzzHjh0zAGP48OE3eUWOdzNJzblz5wzAaN++vdX265Pis2fPWn7XclJY+sjWpNjRv09FpX9y0rVrVwMw9u7da7X9+qT43LlzxpUrV3I9R2HMFW58T3fm+1WTJk0MHx8f49KlS1ZtN2/ebADGxIkTbYpZNcUuFhcXh4eHR7Y/qZQqVYr69esTFxfnosgKXtY65xUqVLDa/sMPP+Dj40PZsmUJDAzk0UcfJTk52arN7t27SU9Pz/FPlvfddx9AoezLiRMnUrp0aXx9fQkPD+eNN97g6tWrlv1Z15TbdZ85c8ZS51dU+yjLggULuHbtGoMHD862LyEhAT8/P/z9/SlTpgy9evXi0KFDVm1OnDhBQkKCpS+uVxT6J7+flczMTHbu3AnY3xdxcXGEhoZSpUoVq7ZVqlQhJCSkUPcb5P5/U5Z69erh7++Pt7c3zZo1Y/369dnaFKU+csbvU1Hqn+slJSWxevVqGjVqZFWedL2uXbtStmxZvL29adCgAUuXLs3WpjDmCjf+3jjr/Srr/6577rmHUqVKWbW99957MZlMNvePaopdLDExkfLly+Pt7Z1tX2hoKFu3biUjIyNb/WxRc+LECT766CPCw8Np1qyZZftdd93FkCFDqF27Nunp6axfv545c+awceNG4uLiCAoKAsz9COY+u1HWtoSEhAK4Esfw8PCgVatWPPDAA0RERJCUlMSiRYt49dVX+emnn/jiiy8wmUw2X/cdd9xR5ProRnPmzKF06dI8+OCDVturVatGkyZNqFevHp6enmzZsoUPPviADRs28MMPP1hqk4t6/9hzffb2RWJiYq5v+KGhoYW638B8Qx3AQw89ZLU9ICCAxx9/nMaNGxMYGMi+ffuYPHky7dq149NPP6Vnz56WtkWlj5z1+1RU+udGeX1Y9/HxoV+/frRu3ZoKFSpw+PBhpk6dSp8+fTh+/LjVqm6FLVfI6T3dWe9XZ86c4dKlSzm29fb2pnz58jb//CgpdrGLFy/m+EMOWD7xXLp0CT8/v4IMq0Clp6fTq1cvzp07x2effUbJkiUt+77++murtv369aNRo0YMHTqUN998k4kTJwJY7r7NqS+z+tHVd+jao2rVqtlGm4YMGUK/fv1YvHgxq1atokuXLnZdd1Hro+v9+OOP7N27l4ceegh/f3+rfXPmzLF63rNnTzp06ECHDh0YPXq05U74otw/YN/12dsX+f0/Vpj7bfr06SxdupSBAwfSvn17q33//Oc/rZ537dqVgQMHUqdOHYYPH879999PiRIlgKLTR876fSoq/XOjOXPm4OPjQ9++fbPt6927N71797baNmTIEOrXr89LL73EgAEDLKOshSlXyO093Vn/B+XVNqu9rT8/Kp9wMR8fH9LT03Pcd/nyZQBKly5dkCEVqGvXrtG7d2+2bt3Khx9+SOvWrfM95vHHH6dChQqsWbPGss3Hxwcgx77M6sesNoVZ1iwcWdduz3UX5T76+OOPAXIcjclJ+/btadiwIWvXrrVsK8r9A879Wcnv/7HC2m9Llizh2WefpXXr1jZP7VS5cmUGDx7MX3/9xc8//2zZXlT7CBzz+1QU+2f79u3s27ePnj17UrZsWZuO8fX15Z///CeXL19m48aNlu2FJVfI6z3dWf8H5dU2q72tPz9Kil0sJCSElJSUHL+ZCQkJVKpUyW3+HOJoGRkZ9OvXj5UrV/L+++8zZMgQm48NDw+3mjc0JCQEyPnP21nbcvrTSmETEREBYLl2e667qPbRpUuXWLJkCdWrVycmJsbm4yIiIrh48aJlBKGo9k8WZ/6shISE5PrnyYSEhELZb59//jkDBgygSZMmrFy5MtdRqJzc+HsKRbOPrnerv09FsX+yRtUfffRRu47L7efH3XOF/N7TnfV/UGBgIKVLl86xbXp6OikpKTb//CgpdrGoqCgyMzP58ccfrbZfvnyZ+Ph4GjZs6KLInCszM5MBAwawbNky3nvvPYYPH27XsYcPH6ZixYqWbXXr1sXb25tt27Zla799+3aAItGXBw4cALBce1RUFECu1x0QEGCp8SuqffT5559z9uxZHnnkEbvm6Txw4AB+fn6WEYTKlSsTGhpq6YvrFeb+yZLfz4qHhwcNGjQA7O+LqKgoEhIS+PPPP63a/vnnnyQmJha6flu5ciV9+/YlKiqK1atX2z1KeePvKRS9PrrRrf4+FbX+yfqwXrNmTZo3b27Xsbn9/LhzrmDLe7qz3q+y/u/6+eefs31o+PHHHzEMw/b+sXVqDXGO3bt35zn34PXTkxUVGRkZxsMPP2wAxptvvplru1OnTuW4fcKECQZg/Otf/7La3rNnT8PDw8OIj4+3bMua07BWrVqOCb6ApKSkZNt27do1o3PnzgZg/Pe//zUMwzzvY+XKlbPN+xgfH294eHgYQ4cOtTpHUeqjLK1btzY8PDyMP//8M9u+1NTUHKfJWrJkiQEYDz74oNX2559/Ptd5VcuVK2ekpaU5/gIcKL/poho2bGiUKVPGSEhIsGxLSEgwypQpk226MXv6YtWqVXnOMbtt27ZbvDLHya+Pvv76a6NkyZJGVFSUcfbs2VzbXb161UhNTc22/cCBA0aZMmWMKlWqWP3sFZY+yqt/nPn7VBT653oLFizI9z0up//nU1JSjLCwMMPX19fqPdCdcwVb39Od+X41ffr0POcpPnr0qE3XYjKMHNbgkwI1fPhwpk+fTrdu3ejUqRP79+9n6tSpNG/enG+//bbIrWg3cuRIJk2aRFRUFM8880y2/fXq1aNevXpMmTKF2bNn07FjRyIiIkhPT2fDhg2sWrWKOnXq8P3331vdVHXw4EHuvfdeSpQowXPPPUfZsmWZOXMme/bsYc2aNbRp06YgL/OWdO/enfPnzxMdHU2VKlVITk5m6dKl7N69m4cffph58+ZZ2i5btow+ffpw991389hjj3Hu3DkmT56Mp6cnO3bssFqBqyj1EcDRo0epVq0a7du3t6oxz/LFF18wcuRIunTpQvXq1fHw8GDbtm0sXryYkJAQtm3bZjUF1KlTpyyrVo0YMYLQ0FAWL15MbGwsc+bMYdCgQQV4dbZZsGCBZYnUiRMnUqpUKZ566inAXGZ0/aphW7dupWXLloSFhVlGcqZNm0ZycjLbtm2jTp06lrb29kWXLl1YtWoVjz76qGU1stmzZzNo0KBsN2cVNFv7KC4ujmbNmuHh4cHbb79NYGCg1Xn8/Px44IEHAEhNTaVatWo88MAD1K5dm4CAAPbv38+sWbO4cuUKX375JR06dLA63l37yNb+cfbvU2Hvn+u1atWKzZs3c+zYMUspwI1CQ0Np3rw5devWJTg4mMOHDzNr1ixSUlKYOXNmtrILd80VbH1PB+e9X125coXGjRuza9cunnnmGWrXrs3q1atZsWIFr732GmPHjrXtYmxKncWprl27Zrz33nvG7bffbpQsWdIIDQ01Ro4c6fajUjcra5Wb3B5Zq7h9//33RpcuXYwqVaoYpUqVMkqVKmXcddddxiuvvGL1KfN6+/btM7p27Wr4+/sbPj4+RtOmTY0NGzYU4NU5xqxZs4wWLVoYFStWNEqUKGGUKVPGaNy4sTF79uwcJ8v/6quvjEaNGhmlS5c2AgICjF69ehmHDx/O8dxFpY8MwzBee+01AzCWLl2a4/59+/YZvXr1MqpXr274+PgYJUuWNGrWrGk8++yzRlJSUo7HHD9+3Ojfv78RFBRkeHt7G5GRkbme3x3k9fuU02qQW7ZsMVq2bGn4+voaZcqUMTp06GC1YtT17OmLS5cuGS+++KJRtWpVo2TJkkb16tWN8ePH57kgQUGxtY+yFlPI7XH9Sm6XL182Hn30UaNOnTqGv7+/4eXlZVSuXNno27dvrv3prn1ka/84+/epsPdPliNHjhgmk8no1KlTnucdMWKE0aBBA6NcuXKGl5eXUaFCBaNLly5GbGxsju3dNVew9T09i7Per86cOWM8+eSTRqVKlYySJUsad955p/HBBx/YdS0aKRYRERGRYk832omIiIhIsaekWERERESKPSXFIiIiIlLsKSkWERERkWJPSbGIiIiIFHtKikVERESk2FNSLCIiIiLFnpJiERERESn2lBSLSLEUERGByWRi7ty5NrV/7bXXMJlMvPbaa9n2paen8+KLL3Lbbbfh7e2NyWQiIiLCofHmxGQyFepl4AcNGmS5BpPJhJeXl8tiKVWqlFUs7rikt4g4l+v+BxIRKSJeeeUV3n33XSpWrMj999+Pj48P5cuXv6VzxsTEsGnTJjZu3EhMTIxjAnVTTZo0oWbNmnh6eroshgEDBnD16lUOHjzIli1bXBaHiLiOkmIRERs8/fTT9O3bN8dkd+nSpQB899133HbbbQUW0/79+wvstZxpyJAhLh+ZnTlzJgBz585VUixSTCkpFhGxQfny5XMd/T127BhAgSbEALVq1SrQ1xMRKcpUUywiYoOcaoqz6pINwwCwqkm9sVZ5x44d9O/fn6pVq+Lt7U25cuVo3749q1evtmoXGxuLyWRi06ZNALRs2TLX8+ZWU5wV1x9//MGaNWuIiYnB39+fwMBAOnfuzC+//GJpu2jRIqKjoylTpgwBAQF0796dQ4cO5doPiYmJjBgxgtq1a+Pj40OZMmWIiopi+vTpXLt2zdbutNn117Jx40batWtHYGAgpUuXpkGDBsyfPz/H486ePcvLL79M3bp18fX1xdvbm5CQEJo0acKrr77K1atXHR6riBRuGikWEblJPXv2JCUlhXnz5gEwcOBAy76aNWta/v3+++8zYsQIMjMzqV+/Po0aNeKvv/4iNjaWdevW8frrr/Pqq68CUKlSJQYOHMjatWtJSkqiffv2VKpUKcfz5ufDDz/k7bffpnHjxnTo0IH4+Hi+/vprtmzZwk8//cSHH37I5MmTad68OR06dOCHH35gxYoV/PDDD+zZs4fAwECr823evJkHHniAM2fOEBERQdu2bUlPT+fHH39k+PDhfPXVV6xatYoSJUrcVH/m5eOPP2b8+PE0aNCADh068Mcff7B9+3YGDhzI6dOn+ec//2lpe/HiRZo2bcqePXuoUKECrVu3xtfXl7/++otff/2VrVu3MmLECAICAhwep4gUYoaISDEUHh5uAMacOXNsaj927FgDMMaOHZttH2Dk9t/p2rVrDZPJZJQvX97YtGmT1b7du3cbYWFhBmDExsZa7WvRooUBGBs3bsw1ptxeN+vavL29jW+//day/dq1a0avXr0MwKhTp44RFBRkxMfHW/ZfuHDBaNy4sQEY48ePtzrniRMnjKCgIMNkMhkffPCBkZGRYdmXkpJitGrVygCM119/Pdd4bzRw4MB8vwdZ11KiRAnjq6++sto3Z84cAzD8/f2NixcvWrbPmzfPAIyOHTsaV65csTomIyPDiI2NNdLT03N8vaxzDhw40ObrEJGiQeUTIiJONHbsWAzDYMaMGTRv3txqX926dZk0aRIA06ZNc/hrP/PMM7Ru3dry3NPTk3/9618A7Nmzh3HjxnH33Xdb9vv4+DBy5EgA1q9fb3WuKVOmcOrUKZ566imeeOIJPDz+fvsICgpi/vz5lChRgunTp1vKSRxp+PDhdO7c2WrboEGDqFWrFmfPnuWnn36ybE9KSgKgbdu22UatPTw8aNGiBSVLlnR4jCJSuCkpFhFxkpSUFH788UdKly5Nly5dcmyTNd3a1q1bHf76nTp1yrbt+psB89qfmJhotf3rr78GoE+fPjm+VmhoKLfddhsnT57kwIEDNx1zbnLrv9q1awOQkJBg2RYVFQXAO++8w/z58zl9+rTD4xGRokdJsYiIkxw5cgTDMLh06ZJlUY8bH8HBwQCcPHnS4a9ftWrVbNv8/Pzy3F+mTBkALl++bLX98OHDADRr1izH6zCZTOzbtw8ouGsBKFu2bLZ4Y2JiGD16NMnJyQwcOJDy5ctzxx13MHjwYL788ksyMzMdHp+IFH660U5ExEmyki8/Pz969OhR4K9/fYnDzey/Xta19OzZE19f3zzbBgUF2XxeW9kTK8CECRMYNmwYX331Fd9//z1btmxhzpw5zJkzh6ioKDZu3JjvdYhI8aKkWETESapUqQKYp077+OOP7U7s3EmVKlU4cOAAo0ePpmHDhq4OxyYREREMHz6c4cOHAxAXF8dDDz1EXFwc77zzDq+//rqLIxQRd1J4/4cWEXFzISEh1KtXj/Pnz7N27Vq7js26EcwZc//ejI4dOwJ/r95XGEVFRfHkk08CEB8f79pgRMTtKCkWEXGi8ePHA/DII4/w1VdfZdtvGAY//PAD69ats9oeFhYGwN69e50fpA1eeOEFAgICmDRpEhMnTuTKlSvZ2hw5coSFCxe6IDprK1asYPPmzdlqh69evWr5cBIeHu6K0ETEjal8QkSKtTfeeIMZM2bkuv+DDz6gQYMGN33+Ll268P777zNy5Ei6du1KzZo1ueOOO/D39+fkyZPs2rWL5ORkRo8eTbt27SzH9ejRgzlz5jBq1Ci+/fZbgoODMZlMDB48mMaNG990PDcrLCyML7/8kh49evD888/zzjvvUKdOHSpXrszZs2fZv38/hw4dolGjRjz00EMFHt/1Nm3axPvvv0/58uW55557CA4O5vz582zfvp3k5GRCQ0MZNWqUS2MUEfejpFhEirXDhw9bZlbIyblz5275NZ555hlatWrFtGnT2LhxI+vXr8fDw4NKlSpxzz338I9//CPbjXj/+Mc/mDlzJv/3f//Hhg0buHjxIgBNmzZ1SVIM0Lx5c/bu3cv06dP5+uuviYuLIz09neDgYKpWrcpDDz3kkhsKbzRo0CBKly7N999/z759+9i0aRP+/v5UrVqVf/7znzz++ONOuRlQRAo3k+GMWdZFRETyMWjQIObNm8ecOXMYNGiQq8MBYO7cuTzyyCMMHDiQuXPnujocESlAGikWERGXmjVrFrGxsXh6ejJ79myXxPDYY49x9epVDh486JLXFxHXU1IsIiIutWXLFrZs2eLSpHjBggWkp6e75LVFxD2ofEJEREREij1NySYiIiIixZ6SYhEREREp9pQUi4iIiEixp6RYRERERIo9JcUiIiIiUuwpKRYRERGRYk9JsYiIiIgUe/8PJ9VBMjU3rbsAAAAASUVORK5CYII=",
>>>>>>> d420e1074d930a2cefa9d9bf7c85b8bae0902891
      "text/plain": [
       "<Figure size 720x480 with 1 Axes>"
      ]
     },
     "metadata": {},
     "output_type": "display_data"
    },
    {
     "name": "stdout",
     "output_type": "stream",
     "text": [
      "\\begin{figure}[ht] \n",
      " \t\\centering \n",
      " \t\\includegraphics[width= 0.65 \\textwidth]{Fits/m12n4_Fit.pdf} \n",
      "\t\\caption{m12n4, Fit} \n",
      " \t\\label{fig:m12n4, Fit} \n",
      "\\end{figure}\n"
     ]
    }
   ],
   "source": [
    "weights = 1/np.sqrt(Daten.get_y().shape[0])\n",
    "#weights[weights == np.inf] = 0\n",
    "Daten.set_yerr(weights)\n",
    "\n",
    "result = mod.fit(Daten.get_y(), pars, x=Daten.get_x(), weights = weights)\n",
    "finish(Daten.get_x(),Daten.get_y(),result, Daten.get_FileName(), Daten.get_yerr(), Daten.get_YName(), Daten.get_XName())"
   ]
  },
  {
   "cell_type": "code",
   "execution_count": 14,
   "metadata": {},
   "outputs": [
    {
     "data": {
      "text/html": [
<<<<<<< HEAD
       "<h2>Fit Result</h2> <p>Model: Model(exponential)</p> <table class=\"jp-toc-ignore\"><caption class=\"jp-toc-ignore\">Fit Statistics</caption><tr><td style='text-align:left'>fitting method</td><td style='text-align:right'>leastsq</td></tr><tr><td style='text-align:left'># function evals</td><td style='text-align:right'>42</td></tr><tr><td style='text-align:left'># data points</td><td style='text-align:right'>100</td></tr><tr><td style='text-align:left'># variables</td><td style='text-align:right'>2</td></tr><tr><td style='text-align:left'>chi-square</td><td style='text-align:right'> 400.477538</td></tr><tr><td style='text-align:left'>reduced chi-square</td><td style='text-align:right'> 4.08650549</td></tr><tr><td style='text-align:left'>Akaike info crit.</td><td style='text-align:right'> 142.748749</td></tr><tr><td style='text-align:left'>Bayesian info crit.</td><td style='text-align:right'> 147.959090</td></tr><tr><td style='text-align:left'>R-squared</td><td style='text-align:right'> 0.85216479</td></tr></table><table class=\"jp-toc-ignore\"><caption>Parameters</caption><tr><th style='text-align:left'>name</th><th style='text-align:left'>value</th><th style='text-align:left'>standard error</th><th style='text-align:left'>relative error</th><th style='text-align:left'>initial value</th><th style='text-align:left'>min</th><th style='text-align:left'>max</th><th style='text-align:right'>vary</th></tr><tr><td style='text-align:left'>amplitude</td><td style='text-align:left'> 261.405693</td><td style='text-align:left'> 13.1920846</td><td style='text-align:left'>(5.05%)</td><td style='text-align:left'>1</td><td style='text-align:left'>       -inf</td><td style='text-align:left'>        inf</td><td style='text-align:right'>True</td></tr><tr><td style='text-align:left'>decay</td><td style='text-align:left'> 1.71804246</td><td style='text-align:left'> 0.12532010</td><td style='text-align:left'>(7.29%)</td><td style='text-align:left'>1</td><td style='text-align:left'>       -inf</td><td style='text-align:left'>        inf</td><td style='text-align:right'>True</td></tr></table><table class=\"jp-toc-ignore\"><caption>Correlations (unreported values are < 0.100)</caption><tr><th style='text-align:left'>Parameter1</th><th style='text-align:left'>Parameter 2</th><th style='text-align:right'>Correlation</th></tr><tr><td style='text-align:left'>amplitude</td><td style='text-align:left'>decay</td><td style='text-align:right'>-0.6928</td></tr></table>"
      ],
      "text/plain": [
       "<lmfit.model.ModelResult at 0x19c332f4ca0>"
=======
       "<h2>Fit Result</h2> <p>Model: Model(exponential)</p> <table class=\"jp-toc-ignore\"><caption class=\"jp-toc-ignore\">Fit Statistics</caption><tr><td style='text-align:left'>fitting method</td><td style='text-align:right'>leastsq</td></tr><tr><td style='text-align:left'># function evals</td><td style='text-align:right'>40</td></tr><tr><td style='text-align:left'># data points</td><td style='text-align:right'>100</td></tr><tr><td style='text-align:left'># variables</td><td style='text-align:right'>2</td></tr><tr><td style='text-align:left'>chi-square</td><td style='text-align:right'> 400.477538</td></tr><tr><td style='text-align:left'>reduced chi-square</td><td style='text-align:right'> 4.08650549</td></tr><tr><td style='text-align:left'>Akaike info crit.</td><td style='text-align:right'> 142.748749</td></tr><tr><td style='text-align:left'>Bayesian info crit.</td><td style='text-align:right'> 147.959090</td></tr><tr><td style='text-align:left'>R-squared</td><td style='text-align:right'> 0.85216479</td></tr></table><table class=\"jp-toc-ignore\"><caption>Parameters</caption><tr><th style='text-align:left'>name</th><th style='text-align:left'>value</th><th style='text-align:left'>standard error</th><th style='text-align:left'>relative error</th><th style='text-align:left'>initial value</th><th style='text-align:left'>min</th><th style='text-align:left'>max</th><th style='text-align:right'>vary</th></tr><tr><td style='text-align:left'>amplitude</td><td style='text-align:left'> 261.406556</td><td style='text-align:left'> 13.1924506</td><td style='text-align:left'>(5.05%)</td><td style='text-align:left'>1</td><td style='text-align:left'>       -inf</td><td style='text-align:left'>        inf</td><td style='text-align:right'>True</td></tr><tr><td style='text-align:left'>decay</td><td style='text-align:left'> 171.803061</td><td style='text-align:left'> 12.5312644</td><td style='text-align:left'>(7.29%)</td><td style='text-align:left'>1</td><td style='text-align:left'>       -inf</td><td style='text-align:left'>        inf</td><td style='text-align:right'>True</td></tr></table><table class=\"jp-toc-ignore\"><caption>Correlations (unreported values are < 0.100)</caption><tr><th style='text-align:left'>Parameter1</th><th style='text-align:left'>Parameter 2</th><th style='text-align:right'>Correlation</th></tr><tr><td style='text-align:left'>amplitude</td><td style='text-align:left'>decay</td><td style='text-align:right'>-0.6928</td></tr></table>"
      ],
      "text/plain": [
       "<lmfit.model.ModelResult at 0x24d2abaa550>"
>>>>>>> d420e1074d930a2cefa9d9bf7c85b8bae0902891
      ]
     },
     "execution_count": 14,
     "metadata": {},
     "output_type": "execute_result"
    }
   ],
   "source": [
    "result"
   ]
  },
  {
   "cell_type": "code",
   "execution_count": 15,
   "metadata": {},
   "outputs": [
    {
     "name": "stdout",
     "output_type": "stream",
     "text": [
      "p value is 2.7070590318633403e-47\n",
      "Dependent (reject H0)\n"
     ]
    }
   ],
   "source": [
    "from scipy.stats import chi2_contingency\n",
    "\n",
    "# defining the table\n",
    "data = [Daten.get_y(), result.eval(x=Daten.get_x())]\n",
    "stat, p, dof, expected = chi2_contingency(data)\n",
    "\n",
    "# interpret p-value\n",
    "alpha = 0.05\n",
    "print(\"p value is \" + str(p))\n",
    "if p <= alpha:\n",
    "    print('Dependent (reject H0)')\n",
    "else:\n",
    "    print('Independent (H0 holds true)')"
   ]
  }
 ],
 "metadata": {
  "kernelspec": {
   "display_name": "base",
   "language": "python",
   "name": "python3"
  },
  "language_info": {
   "codemirror_mode": {
    "name": "ipython",
    "version": 3
   },
   "file_extension": ".py",
   "mimetype": "text/x-python",
   "name": "python",
   "nbconvert_exporter": "python",
   "pygments_lexer": "ipython3",
   "version": "3.9.7"
  }
 },
 "nbformat": 4,
 "nbformat_minor": 2
}
