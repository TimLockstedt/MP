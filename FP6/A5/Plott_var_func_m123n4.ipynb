{
 "cells": [
  {
   "cell_type": "code",
<<<<<<< HEAD
   "execution_count": 15,
=======
   "execution_count": 1,
>>>>>>> d420e1074d930a2cefa9d9bf7c85b8bae0902891
   "metadata": {},
   "outputs": [],
   "source": [
    "# <examples/doc_model_two_components.py>\n",
    "import json\n",
    "import pickle\n",
    "import numpy as np\n",
    "import matplotlib.pyplot as plt\n",
    "from numpy import exp, loadtxt, pi, sqrt\n",
    "from lmfit import Model\n",
    "from lmfit.models import PowerLawModel, ExponentialModel, GaussianModel\n",
    "from lib.to_precision import to_precision\n",
    "import lmfit\n",
    "from sympy import *\n",
    "import sympy\n",
    "from sympy.solvers import solve\n",
    "from sympy import Symbol\n",
    "import math\n",
    "import datetime\n",
    "from ipywidgets import interact, FloatText, IntText, fixed, Text\n",
    "now = lambda: str(datetime.datetime.now()).replace(\"-\", \"\").replace(\":\", \"\").replace(\" \", \"_\").split(\".\")[0]\n",
    "import inspect"
   ]
  },
  {
   "cell_type": "code",
<<<<<<< HEAD
   "execution_count": 16,
=======
   "execution_count": 2,
>>>>>>> d420e1074d930a2cefa9d9bf7c85b8bae0902891
   "metadata": {
    "notebookRunGroups": {
     "groupValue": "2"
    }
   },
   "outputs": [],
   "source": [
    "# def get_Latex_Func(func):\n",
    "#     # Get the source code of the function\n",
    "#     source_lines = inspect.getsource(func).split('\\n')\n",
    "\n",
    "#     # Find the return statement\n",
    "#     return_line = [line for line in source_lines if 'return' in line][0]\n",
    "\n",
    "#     # Extract the expression after 'return'\n",
    "#     expr = return_line.split('return')[1].strip()\n",
    "    \n",
    "#     tatex_func = sympy.latex(sympy.sympify(expr))\n",
    "#     strg = (\n",
    "#         \"\\\\begin{align} \\n \\t f(x) = \" + tatex_func + \"\\n\" + \"\\end{align} \\n\"\n",
    "#     )\n",
    "#     return strg\n",
    "\n",
    "\n",
    "def get_Latex_Func(func):\n",
    "    # Get the source code of the function\n",
    "    source_lines = inspect.getsource(func).split('\\n')\n",
    "    \n",
    "    # Find the return statement\n",
    "    return_line = [line for line in source_lines if 'return' in line][0].strip()\n",
    "    \n",
    "    # Extract the expression after 'return'\n",
    "    expr = return_line.split('return')[1].strip()\n",
    "    \n",
    "    # Extract variable names from the function's signature\n",
    "    \n",
    "    sig = inspect.signature(func)\n",
    "    param_names = list(sig.parameters.keys())\n",
    "    \n",
    "    # Create sympy symbols for all parameters\n",
    "    symbols = sympy.symbols(' '.join(param_names))\n",
    "    \n",
    "    # Create a local dictionary of symbols\n",
    "    local_dict = dict(zip(param_names, symbols))\n",
    "    \n",
    "    # Add numpy and math functions to the local dictionary\n",
    "    local_dict.update({\n",
    "        'sqrt': sympy.sqrt,\n",
    "        'exp': sympy.exp,\n",
    "        'pi': sympy.pi\n",
    "    })\n",
    "    \n",
    "    # Convert the expression to a SymPy expression\n",
    "    sympy_expr = sympy.parsing.sympy_parser.parse_expr(\n",
    "        expr.replace('np.', '').replace('math.', ''), \n",
    "        local_dict=local_dict\n",
    "    )\n",
    "    \n",
    "    # Convert to LaTeX\n",
    "    tatex_func = sympy.latex(sympy_expr)\n",
    "    \n",
    "    strg = (\n",
    "        \"\\\\begin{align} \\n \\t f(\" + \", \".join(param_names) + \") = \" + tatex_func + \"\\n\" + \"\\\\end{align} \\n\"\n",
    "    )\n",
    "    return strg\n",
    "\n",
    "\n",
    "\n",
    "\n",
    "def save_data_to_file(filename='data.pkl'):\n",
    "    # Dictionary für Parameter-Werte erstellen\n",
    "    data_dict = {\"x\":Daten.get_x(),\"xerr\":Daten.get_xerr(),\"y\":Daten.get_y(),\"yerr\":Daten.get_yerr(),\"XName\":Daten.get_XName(),\"YName\":Daten.get_YName()}\n",
    "    # Konvertiere alle Numpy-Arrays im Dictionary in Listen\n",
    "    # dict_serializable = {key: value.tolist() if isinstance(value, np.ndarray) else value \n",
    "    #                      for key, value in data_dict.items()}\n",
    "    # __x = []\n",
    "    # __y = []\n",
    "    # __xerr = 0\n",
    "    # __yerr = 0\n",
    "    # __XName = \"x\"\n",
    "    # __YName = \"y\"\n",
    "    # __FileName = \"dataset_1\"\n",
    "\n",
    "    # Parameter als JSON-Datei speichern\n",
    "    with open(filename, 'wb') as f:\n",
    "        pickle.dump(data_dict, f)\n",
    "    print(f\"Daten wurden in {filename} gespeichert.\")\n",
    "\n",
    "# Funktion zum Einlesen der Parameter aus einer JSON-Datei\n",
    "def load_data_from_file(filename='params.pkl'):\n",
    "    # JSON-Datei öffnen und die Werte lesen\n",
    "    with open(filename, 'rb') as f:\n",
    "        data_dict = pickle.load(f)\n",
    "    \n",
    "    # # Konvertiere Listen zurück in Numpy-Arrays\n",
    "    # data_dict= {key: np.array(value) if isinstance(value, list) else value\n",
    "    #                     for key, value in dict_with_arrays.items()}\n",
    "\n",
    "    # Geladene Werte in die Parameter setzen\n",
    "    Daten.set_x(data_dict.get(\"x\"))\n",
    "    Daten.set_xerr(data_dict.get(\"xerr\"))\n",
    "    Daten.set_y(data_dict.get(\"y\"))\n",
    "    Daten.set_yerr(data_dict.get(\"yerr\"))\n",
    "    Daten.set_XName(data_dict.get(\"XName\"))\n",
    "    Daten.set_YName(data_dict.get(\"YName\"))\n",
    "\n",
    "    print(f\"Daten wurden aus {filename} geladen.\")\n",
    "\n",
    "def finish(x,y,result, string, y_err, yLabel, xLabel, var_func_bool= False):\n",
    "    fig = plt.figure(figsize=(9,6), dpi=80)\n",
    "    dynamic_resolution_array = np.arange(min(x),max(x), 0.001*abs(max(x)-min(x)))\n",
    "    #plt.plot(x, y, 'skyblue')\n",
    "    plt.plot(dynamic_resolution_array, result.eval(x = dynamic_resolution_array), 'r-', label = r'Fit: reduced $\\chi^2$ =  '+str(to_precision(result.result.redchi,3)))\n",
    "    plt.errorbar(\n",
    "        y = y, \n",
    "        x = x, \n",
    "        yerr = y_err,\n",
    "        fmt = 'o', markersize = 3.5, alpha = 1, mfc = 'black', c = 'skyblue', zorder = 0, label = r'Werte'\n",
    "        ) #xerr = x_err, yerr = y_err, \n",
    "    plt.legend(loc='best')\n",
    "\n",
    "    plt.ylabel(yLabel, fontsize=20)\n",
    "    plt.xlabel(xLabel, fontsize=20)\n",
    "\n",
    "    plt.legend(fontsize=12)\n",
    "    plt.xticks(fontsize=16)\n",
    "    plt.yticks(fontsize=16)\n",
    "    plt.tight_layout()\n",
    "    string += Daten.get_Version()\n",
    "    fig.savefig(string + \"_Fit.pdf\")\n",
    "    plt.show()\n",
    "\n",
    "    string_fig = \"\\\\begin{figure}[ht] \\n \\t\\\\centering \\n \\t\\\\includegraphics[width= 0.65 \\\\textwidth]{Fits/\" + string + \"_Fit.pdf} \\n\" \\\n",
    "        + \"\\t\\\\caption{\"+str(string)+\", Fit} \\n \\t\\\\label{fig:\"+str(string)+\", Fit} \\n\\end{figure}\"\n",
    "    print(string_fig)\n",
    "\n",
    "    text_file = open(string+\"_params\"+\".tex\", \"w+\", encoding=\"utf-8\")\n",
    "    string_fig += \"\\n \\\\\\\\ \\n\" \n",
    "    string_fig += get_Latex_Func(Daten.get_func()) if var_func_bool else \"\"\n",
    "    string_fig += table_of_params(result)\n",
    "    text_file.write(string_fig)\n",
    "    text_file.close()\n",
    "\n",
    "def table_of_params(result_of_fit):\n",
    "    sig_num = 3\n",
    "    string = \"\" + (\n",
    "        \"\\\\begin{table}[ht] \\n\"\n",
    "        \"\\centering \\n\") +\"\\caption{\" + str(Daten.get_FileName()) +\", Fit Parameter Tabelle} \\n\"  + (\n",
    "        \"\\label{tab:my-table}\\n\"\n",
    "        \"\\\\begin{tabular}{|l|c|}\\n\" \n",
    "        \"\\hline\\n\"\n",
    "        \"Parameter Name\\t&\\tWert \\\\\\\\ \\hline\\n\"\n",
    "    )\n",
    "    for i in result_of_fit.params:\n",
    "        str_param_val = f\"{float(result_of_fit.params[i].value): .{(len(str(math.floor(result_of_fit.params[i].value))) if math.floor(result_of_fit.params[i].value) != 0 else 0) +sig_num}}\" \n",
    "        str_param_std = f\"{float(result_of_fit.params[i].stderr): .{(len(str(math.floor(result_of_fit.params[i].stderr))) if math.floor(result_of_fit.params[i].stderr) != 0 else 0) +sig_num}}\" \n",
    "        string += (\n",
    "            str(i) + \"\\t&\\t\" +\n",
    "            str_param_val +\n",
    "            (\"\" if \".\" in str_param_val  else \".\")+\n",
    "            (\"0\"*((len(str(math.floor(result_of_fit.params[i].value))) if math.floor(result_of_fit.params[i].value) != 0 else 0) +sig_num+2 -len(f\"{float(result_of_fit.params[i].value): .{(len(str(math.floor(result_of_fit.params[i].value))) if math.floor(result_of_fit.params[i].value) != 0 else 0) +sig_num}}\"))) +\n",
    "            \" \\\\pm \"+ \n",
    "            str_param_std +\n",
    "            (\"\" if \".\" in str_param_std else \".\")+\n",
    "            (\"0\"*((len(str(math.floor(result_of_fit.params[i].stderr))) if math.floor(result_of_fit.params[i].stderr) != 0 else 0) +sig_num+2-len(f\"{float(result_of_fit.params[i].stderr): .{(len(str(math.floor(result_of_fit.params[i].stderr))) if math.floor(result_of_fit.params[i].stderr) != 0 else 0) +sig_num}}\"))) +\n",
    "            \"\\\\\\\\ \\hline\\n\"\n",
    "        )\n",
    "    string += (\n",
    "        \"\\end{tabular} \\n\"\n",
    "        \"\\end{table}\"\n",
    "    )\n",
    "    return string\n",
    "\n",
    "\n",
    "class Data:\n",
    "    __x = []\n",
    "    __y = []\n",
    "    __xerr = 0\n",
    "    __yerr = 0\n",
    "    __XName = \"x\"\n",
    "    __YName = \"y\"\n",
    "    __FileName = \"dataset_1\",\n",
    "    __Version = \"\"\n",
    "    __pars = None\n",
    "    __func = None\n",
    "    \n",
    "    def set_func(self, x):\n",
    "        self.__func = x\n",
    "        return\n",
    "    def get_func(self):\n",
    "        return self.__func\n",
    "\n",
    "    def set_x(self, x):\n",
    "        self.__x = x\n",
    "        return  \n",
    "    def set_y(self, x):\n",
    "        self.__y = x\n",
    "        return  \n",
    "    def set_yerr(self, x):\n",
    "        self.__yerr = x\n",
    "        return  \n",
    "    def set_xerr(self, x):\n",
    "        self.__xerr = x\n",
    "        return  \n",
    "    \n",
    "    def get_x(self):\n",
    "        return self.__x\n",
    "    def get_y(self):\n",
    "        return self.__y\n",
    "    def get_xerr(self):\n",
    "        return self.__xerr\n",
    "    def get_yerr(self):\n",
    "        return self.__yerr\n",
    "    \n",
    "    def set_XName(self, x):\n",
    "        self.__XName = rf\"{x}\"\n",
    "        return\n",
    "    def set_YName(self, x):\n",
    "        self.__YName = rf\"{x}\"\n",
    "        return\n",
    "    def get_XName(self):\n",
    "        return self.__XName\n",
    "    def get_YName(self):\n",
    "        return self.__YName\n",
    "    \n",
    "    def get_FileName(self):\n",
    "        return self.__FileName\n",
    "    \n",
    "    def set_FileName(self, x):\n",
    "        self.__FileName = f\"{x}\"\n",
    "        return\n",
    "    def set_Version(self, x):\n",
    "        self.__Version = f\"{x}\"\n",
    "        return\n",
    "    def get_Version(self):\n",
    "        return self.__Version\n",
    "    \n",
    "    def get_pars(self):\n",
    "        return self.__pars\n",
    "    def set_pars(self,x):\n",
    "        self.__pars = x\n",
    "        return\n",
    "\n",
    "def import_Data(Datei:str=\"dataset_1\", x_err_bool = False, y_err_bool = False, Daten=Data(), skip_lower:str=\"0\", skip_upper:str=\"0\", x_name:str=\"x\", y_name:str=\"y\", save_bool=False,Save:int=0,Load:int=0,switch_axes:bool=False,show_plot:bool=True):\n",
    "    data = np.genfromtxt(Datei+\".txt\", skip_header = int(skip_upper), skip_footer = int(skip_lower))\n",
    "    #data = np.genfromtxt(string+\".txt\", skip_header = 1, skip_footer = 18)\n",
    "\n",
    "    if x_err_bool and y_err_bool:\n",
    "        Daten.set_x(data[:,0])\n",
    "        Daten.set_xerr(data[:, 1])\n",
    "        Daten.set_y(data[:, 2])\n",
    "        Daten.set_yerr(data[:, 3])\n",
    "    elif x_err_bool and not y_err_bool:\n",
    "        Daten.set_x(data[:,0])\n",
    "        Daten.set_xerr(data[:, 1])\n",
    "        Daten.set_y(data[:, 2])\n",
    "        Daten.set_yerr(0)\n",
    "    elif not x_err_bool and y_err_bool:\n",
    "        Daten.set_x(data[:,0])\n",
    "        Daten.set_xerr(0)\n",
    "        Daten.set_y(data[:, 1])\n",
    "        Daten.set_yerr(data[:, 2])\n",
    "    elif not x_err_bool and not y_err_bool:\n",
    "        Daten.set_x(data[:,0])\n",
    "        Daten.set_xerr(0)\n",
    "        Daten.set_y(data[:, 1])\n",
    "        Daten.set_yerr(0)\n",
    "    \n",
    "    Daten.set_XName(x_name)\n",
    "    Daten.set_YName(y_name)\n",
    "    Daten.set_FileName(Datei)\n",
    "\n",
    "    if switch_axes:\n",
    "        temp = [Daten.get_x(), Daten.get_xerr()]\n",
    "        Daten.set_x(Daten.get_y())\n",
    "        Daten.set_xerr(Daten.get_yerr())\n",
    "        Daten.set_y(temp[0])\n",
    "        Daten.set_yerr(temp[1])\n",
    "        \n",
    "    if Save != 0:\n",
    "        # Aufruf der Funktion zum Speichern\n",
    "        save_data_to_file(f'{Daten.get_FileName()}_daten_{Save}.pkl')\n",
    "    if Load != 0:\n",
    "        # Aufruf der Funktion zum Laden\n",
    "        load_data_from_file(f'{Daten.get_FileName()}_daten_{Load}.pkl')\n",
    "\n",
    "    if show_plot:\n",
    "        plt.errorbar(y = Daten.get_y(), yerr = Daten.get_yerr(), x = Daten.get_x(), xerr = Daten.get_xerr(), \\\n",
    "            fmt = 'o', markersize = 3.5, alpha = 1, mfc = 'black', c = 'skyblue', zorder = 0, \\\n",
    "            label = r'Werte')\n",
    "        plt.legend(loc='best')\n",
    "        plt.ylabel(Daten.get_YName(), fontsize=20)\n",
    "        plt.xlabel(Daten.get_XName(), fontsize=20)\n",
    "        plt.xticks(fontsize=13)\n",
    "        plt.yticks(fontsize=13)\n",
    "        plt.tight_layout()\n",
    "        if save_bool:\n",
    "            plt.savefig(Datei + f\"_{Load}_Plot.pdf\")\n",
    "            string_fig = \"\\\\begin{figure}[ht] \\n \\t\\\\centering \\n \\t\\\\includegraphics[width= 0.65 \\\\textwidth]{bilder/\" + Datei + \"_Plot.pdf} \\n\" \\\n",
    "                + \"\\t\\\\caption{\"+str(Datei)+\", Plot_log} \\n \\t\\\\label{fig:\"+str(Datei)+\", Plot_log} \\n\\end{figure}\"\n",
    "            print(string_fig)\n",
    "\n",
    "        plt.show()\n",
    "\n",
    "\n",
    "\n",
    "# Funktion zum Speichern der Parameter in einer JSON-Datei\n",
    "def save_params_to_file(params, filename='params.json'):\n",
    "    # Dictionary für Parameter-Werte erstellen\n",
    "    params_dict = {name: param.value for name, param in params.items()}\n",
    "    \n",
    "    # Parameter als JSON-Datei speichern\n",
    "    with open(filename, 'w') as f:\n",
    "        json.dump(params_dict, f)\n",
    "    print(f\"Parameter wurden in {filename} gespeichert.\")\n",
    "\n",
    "# Funktion zum Einlesen der Parameter aus einer JSON-Datei\n",
    "def load_params_from_file(params, filename='params.json'):\n",
    "    # JSON-Datei öffnen und die Werte lesen\n",
    "    with open(filename, 'r') as f:\n",
    "        params_dict = json.load(f)\n",
    "\n",
    "    # Geladene Werte in die Parameter setzen\n",
    "    for name, value in params_dict.items():\n",
    "        if name in params:\n",
    "            params[name].value = value\n",
    "        else:\n",
    "            print(f\"Warnung: Parameter {name} existiert nicht im aktuellen Modell.\")\n",
    "\n",
    "    print(f\"Parameter wurden aus {filename} geladen.\")\n",
    "\n",
    "def update_model(Save:int=0, Load:int=0, **params):\n",
    "    # Setze die Werte der Parameter\n",
    "    for name, value in params.items():\n",
    "        pars[name].value = value\n",
    "    if Save != 0:\n",
    "        # Aufruf der Funktion zum Speichern\n",
    "        save_params_to_file(pars, f'{Daten.get_FileName()}_params_{Save}.json')\n",
    "        Daten.set_Version(Save)\n",
    "    if Load != 0:\n",
    "        load_params_from_file(pars, f'{Daten.get_FileName()}_params_{Load}.json')\n",
    "        Daten.set_Version(Load)\n",
    "\n",
    "    # Berechne Modell mit aktuellen Parametern\n",
    "    x = Daten.get_x()\n",
    "    x_fit = np.arange(x.min(), x.max(), (x.max() - x.min())/10000)\n",
    "    y_fit = mod.eval(pars, x=x_fit)\n",
    "\n",
    "    # Plotten der Daten und des Modells\n",
    "    plt.figure(figsize=(8, 6))\n",
    "    plt.errorbar(y = Daten.get_y(), yerr = Daten.get_yerr(), x = Daten.get_x(), xerr = Daten.get_xerr(), \\\n",
    "        fmt = 'o', markersize = 3.5, alpha = 1, mfc = 'black', c = 'skyblue', zorder = 0, \\\n",
    "        label = r'Werte')\n",
    "    \n",
    "    plt.plot(x_fit, y_fit, label=\"Modell\", color='red')\n",
    "    plt.legend()\n",
    "    plt.ylabel(Daten.get_YName(), fontsize=20)\n",
    "    plt.xlabel(Daten.get_XName(), fontsize=20)\n",
    "    plt.title('Models')\n",
    "    result = mod.fit(Daten.get_y(), pars, x=Daten.get_x())\n",
    "    Daten.set_pars(result)\n",
    "    dynamic_resolution_array = np.arange(min(Daten.get_x()),max(Daten.get_x()), 0.001*abs(max(Daten.get_x())-min(Daten.get_x())))\n",
    "    plt.plot(dynamic_resolution_array, result.eval(x = dynamic_resolution_array), 'b-', label = r'Fit: reduced $\\chi^2$ =  '+str(to_precision(result.result.redchi,3)))\n",
    "    plt.tight_layout()\n",
    "    plt.show()\n",
    "    "
   ]
  },
  {
   "cell_type": "markdown",
   "metadata": {},
   "source": [
    "## Interactive"
   ]
  },
  {
   "cell_type": "code",
<<<<<<< HEAD
   "execution_count": 17,
=======
   "execution_count": 3,
>>>>>>> d420e1074d930a2cefa9d9bf7c85b8bae0902891
   "metadata": {},
   "outputs": [],
   "source": [
    "import pandas as pd\n",
    "\n",
    "\n",
    "# Einlesen mit pandas\n",
    "df = pd.read_csv('m_123n4.csv', sep=';', header=None)\n",
    "\n",
    "# Umwandlung in numpy arrays\n",
    "spalte1 = df[0].to_numpy()\n",
    "spalte2 = df[1].to_numpy()\n"
   ]
  },
  {
   "cell_type": "code",
<<<<<<< HEAD
   "execution_count": 19,
=======
   "execution_count": 4,
>>>>>>> d420e1074d930a2cefa9d9bf7c85b8bae0902891
   "metadata": {},
   "outputs": [
    {
     "data": {
      "text/plain": [
       "655"
      ]
     },
<<<<<<< HEAD
     "execution_count": 19,
=======
     "execution_count": 4,
>>>>>>> d420e1074d930a2cefa9d9bf7c85b8bae0902891
     "metadata": {},
     "output_type": "execute_result"
    },
    {
     "data": {
      "image/png": "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",
      "text/plain": [
       "<Figure size 640x480 with 1 Axes>"
      ]
     },
     "metadata": {},
     "output_type": "display_data"
    }
   ],
   "source": [
    "limit = 10\n",
    "times = []\n",
    "for i, spalt1 in enumerate(spalte1):\n",
    "    if spalt1 == 2 and spalte2[i] > limit:\n",
    "        if np.absolute(spalte2[i-1]-spalte2[i]) <= 10 and spalte1[i-1] == 1: \n",
    "            times.append(spalte2[i])\n",
    "        elif np.absolute(spalte2[i+1]-spalte2[i]) <= 10 and spalte1[i+1] == 1:\n",
    "            times.append(spalte2[i])\n",
    "plt.hist(times, 100)\n",
    "len(times)"
   ]
  },
  {
   "cell_type": "code",
<<<<<<< HEAD
   "execution_count": 20,
=======
   "execution_count": 5,
>>>>>>> d420e1074d930a2cefa9d9bf7c85b8bae0902891
   "metadata": {},
   "outputs": [
    {
     "data": {
      "text/plain": [
       "(array([ 0.11 ,  0.304,  0.498,  0.692,  0.886,  1.08 ,  1.274,  1.468,\n",
       "         1.662,  1.856,  2.05 ,  2.244,  2.438,  2.632,  2.826,  3.02 ,\n",
       "         3.214,  3.408,  3.602,  3.796,  3.99 ,  4.184,  4.378,  4.572,\n",
       "         4.766,  4.96 ,  5.154,  5.348,  5.542,  5.736,  5.93 ,  6.124,\n",
       "         6.318,  6.512,  6.706,  6.9  ,  7.094,  7.288,  7.482,  7.676,\n",
       "         7.87 ,  8.064,  8.258,  8.452,  8.646,  8.84 ,  9.034,  9.228,\n",
       "         9.422,  9.616,  9.81 , 10.004, 10.198, 10.392, 10.586, 10.78 ,\n",
       "        10.974, 11.168, 11.362, 11.556, 11.75 , 11.944, 12.138, 12.332,\n",
       "        12.526, 12.72 , 12.914, 13.108, 13.302, 13.496, 13.69 , 13.884,\n",
       "        14.078, 14.272, 14.466, 14.66 , 14.854, 15.048, 15.242, 15.436,\n",
       "        15.63 , 15.824, 16.018, 16.212, 16.406, 16.6  , 16.794, 16.988,\n",
       "        17.182, 17.376, 17.57 , 17.764, 17.958, 18.152, 18.346, 18.54 ,\n",
       "        18.734, 18.928, 19.122, 19.316, 19.51 ]),\n",
       " array([66, 35, 49, 28, 49, 33, 27, 25, 23, 26, 19, 24, 14, 24, 17, 13, 12,\n",
       "        15, 10,  6,  8,  8,  9,  3,  3,  2,  5,  7,  7,  2,  3,  4,  3,  3,\n",
       "         0,  2,  3,  1,  4,  3,  3,  3,  3,  1,  3,  1,  2,  1,  1,  3,  0,\n",
       "         1,  0,  2,  2,  1,  0,  3,  2,  1,  1,  2,  1,  0,  0,  0,  0,  1,\n",
       "         0,  0,  0,  1,  1,  0,  0,  1,  0,  1,  1,  1,  1,  0,  4,  0,  0,\n",
       "         0,  0,  1,  0,  1,  0,  3,  0,  0,  0,  1,  0,  1,  1,  3],\n",
       "       dtype=int64))"
      ]
     },
<<<<<<< HEAD
     "execution_count": 20,
=======
     "execution_count": 5,
>>>>>>> d420e1074d930a2cefa9d9bf7c85b8bae0902891
     "metadata": {},
     "output_type": "execute_result"
    }
   ],
   "source": [
    "data_hist = np.histogram(np.array(times)/100, 100)\n",
    "x_hist = data_hist[1]\n",
    "y_hist = data_hist[0]\n",
    "x_hist, y_hist"
   ]
  },
  {
   "cell_type": "code",
<<<<<<< HEAD
   "execution_count": 21,
=======
   "execution_count": 6,
>>>>>>> d420e1074d930a2cefa9d9bf7c85b8bae0902891
   "metadata": {},
   "outputs": [],
   "source": [
    "Daten = Data()\n",
    "Daten.set_FileName(f\"m123n4_min_{limit}\")\n",
    "Daten.set_x(x_hist[:-1])\n",
    "Daten.set_xerr(0)\n",
    "Daten.set_y(y_hist)\n",
    "Daten.set_yerr(0)\n",
    "Daten.set_XName(r\"Lifetime [$\\mu$s]\")\n",
    "Daten.set_YName(\"Counts\")"
   ]
  },
  {
   "cell_type": "markdown",
   "metadata": {},
   "source": [
    "## Fit-Funktionen festlegen"
   ]
  },
  {
   "cell_type": "code",
<<<<<<< HEAD
   "execution_count": 22,
=======
   "execution_count": 7,
>>>>>>> d420e1074d930a2cefa9d9bf7c85b8bae0902891
   "metadata": {},
   "outputs": [
    {
     "data": {
      "text/html": [
       "<table class=\"jp-toc-ignore\"><caption>Parameters</caption><tr><th style='text-align:left'>name</th><th style='text-align:left'>value</th><th style='text-align:left'>initial value</th><th style='text-align:left'>min</th><th style='text-align:left'>max</th><th style='text-align:right'>vary</th></tr><tr><td style='text-align:left'>amplitude</td><td style='text-align:left'> 1.00000000</td><td style='text-align:left'>None</td><td style='text-align:left'>       -inf</td><td style='text-align:left'>        inf</td><td style='text-align:right'>True</td></tr><tr><td style='text-align:left'>decay</td><td style='text-align:left'> 1.00000000</td><td style='text-align:left'>None</td><td style='text-align:left'>       -inf</td><td style='text-align:left'>        inf</td><td style='text-align:right'>True</td></tr></table>"
      ],
      "text/plain": [
       "Parameters([('amplitude', <Parameter 'amplitude', value=1, bounds=[-inf:inf]>), ('decay', <Parameter 'decay', value=1, bounds=[-inf:inf]>)])"
      ]
     },
<<<<<<< HEAD
     "execution_count": 22,
=======
     "execution_count": 7,
>>>>>>> d420e1074d930a2cefa9d9bf7c85b8bae0902891
     "metadata": {},
     "output_type": "execute_result"
    }
   ],
   "source": [
    "from lmfit.models import PowerLawModel, ExponentialModel, GaussianModel, Model\n",
    "\n",
    "# import pylandau\n",
    "\n",
    "# def plot_func(x, mpv=1, eta=1, sigma=1, A=1):\n",
    "#     return pylandau.langau(x, mpv, eta, sigma, A)\n",
    "\n",
    "def plot_func(x, sigma = 1, nu = 1, amplitude=1):\n",
    "    return amplitude/(sigma*np.sqrt(2*math.pi))*np.exp(-1/2*((x-nu)/sigma)**2)\n",
    "\n",
    "Daten.set_func(plot_func)\n",
    "mod = ExponentialModel()\n",
    "\n",
    "pars = mod.make_params()\n",
    "pars"
   ]
  },
  {
   "cell_type": "markdown",
   "metadata": {},
   "source": [
    "## Parameter Festlegen"
   ]
  },
  {
   "cell_type": "code",
<<<<<<< HEAD
   "execution_count": 23,
=======
   "execution_count": 8,
>>>>>>> d420e1074d930a2cefa9d9bf7c85b8bae0902891
   "metadata": {},
   "outputs": [],
   "source": [
    "# Funktion zum Speichern der Parameter in einer JSON-Datei\n",
    "def save_params_to_file(params, filename='params.json'):\n",
    "    # Dictionary für Parameter-Werte erstellen\n",
    "    params_dict = {name: param.value for name, param in params.items()}\n",
    "    \n",
    "    # Parameter als JSON-Datei speichern\n",
    "    with open(filename, 'w') as f:\n",
    "        json.dump(params_dict, f)\n",
    "    print(f\"Parameter wurden in {filename} gespeichert.\")\n",
    "\n",
    "# Funktion zum Einlesen der Parameter aus einer JSON-Datei\n",
    "def load_params_from_file(params, filename='params.json'):\n",
    "    # JSON-Datei öffnen und die Werte lesen\n",
    "    with open(filename, 'r') as f:\n",
    "        params_dict = json.load(f)\n",
    "\n",
    "    # Geladene Werte in die Parameter setzen\n",
    "    for name, value in params_dict.items():\n",
    "        if name in params:\n",
    "            params[name].value = value\n",
    "        else:\n",
    "            print(f\"Warnung: Parameter {name} existiert nicht im aktuellen Modell.\")\n",
    "\n",
    "    print(f\"Parameter wurden aus {filename} geladen.\")\n",
    "\n",
    "def update_model(Save:int=0, Load:int=0, **params):\n",
    "    # Setze die Werte der Parameter\n",
    "    for name, value in params.items():\n",
    "        pars[name].value = value\n",
    "    if Save != 0:\n",
    "        # Aufruf der Funktion zum Speichern\n",
    "        save_params_to_file(pars, f'{Daten.get_FileName()}_params_{Save}.json')\n",
    "        Daten.set_Version(Save)\n",
    "    if Load != 0:\n",
    "        load_params_from_file(pars, f'{Daten.get_FileName()}_params_{Load}.json')\n",
    "        Daten.set_Version(Load)\n",
    "\n",
    "    # Berechne Modell mit aktuellen Parametern\n",
    "    x = Daten.get_x()\n",
    "    x_fit = np.arange(x.min(), x.max(), (x.max() - x.min())/10000)\n",
    "    y_fit = mod.eval(pars, x=x_fit)\n",
    "\n",
    "    # Plotten der Daten und des Modells\n",
    "    plt.figure(figsize=(8, 6))\n",
    "    plt.errorbar(y = Daten.get_y(), yerr = Daten.get_yerr(), x = Daten.get_x(), xerr = Daten.get_xerr(), \\\n",
    "        fmt = 'o', markersize = 3.5, alpha = 1, mfc = 'black', c = 'skyblue', zorder = 0, \\\n",
    "        label = r'Werte')\n",
    "    \n",
    "    plt.plot(x_fit, y_fit, label=\"Modell\", color='red')\n",
    "    plt.legend()\n",
    "    plt.ylabel(Daten.get_YName(), fontsize=20)\n",
    "    plt.xlabel(Daten.get_XName(), fontsize=20)\n",
    "    plt.title('Models')\n",
    "    result = mod.fit(Daten.get_y(), pars, x=Daten.get_x())\n",
    "    Daten.set_pars(result)\n",
    "    dynamic_resolution_array = np.arange(min(Daten.get_x()),max(Daten.get_x()), 0.001*abs(max(Daten.get_x())-min(Daten.get_x())))\n",
    "    plt.plot(dynamic_resolution_array, result.eval(x = dynamic_resolution_array), 'b-', label = r'Fit: reduced $\\chi^2$ =  '+str(to_precision(result.result.redchi,3)))\n",
    "    plt.tight_layout()\n",
    "    plt.show()\n",
    "    "
   ]
  },
  {
   "cell_type": "code",
<<<<<<< HEAD
   "execution_count": 24,
=======
   "execution_count": 9,
>>>>>>> d420e1074d930a2cefa9d9bf7c85b8bae0902891
   "metadata": {},
   "outputs": [
    {
     "data": {
      "text/plain": [
       "((101,), (100,))"
      ]
     },
<<<<<<< HEAD
     "execution_count": 24,
=======
     "execution_count": 9,
>>>>>>> d420e1074d930a2cefa9d9bf7c85b8bae0902891
     "metadata": {},
     "output_type": "execute_result"
    }
   ],
   "source": [
    "x_hist.shape, y_hist.shape"
   ]
  },
  {
   "cell_type": "code",
<<<<<<< HEAD
   "execution_count": 25,
=======
   "execution_count": 10,
>>>>>>> d420e1074d930a2cefa9d9bf7c85b8bae0902891
   "metadata": {},
   "outputs": [
    {
     "data": {
      "application/vnd.jupyter.widget-view+json": {
<<<<<<< HEAD
       "model_id": "69e9d26bb2d94f34902b9561f802c1ab",
=======
       "model_id": "0e171eb687054abb96e0ca84475a1012",
>>>>>>> d420e1074d930a2cefa9d9bf7c85b8bae0902891
       "version_major": 2,
       "version_minor": 0
      },
      "text/plain": [
       "interactive(children=(IntText(value=0, description='Save'), IntText(value=0, description='Load'), IntText(valu…"
      ]
     },
     "metadata": {},
     "output_type": "display_data"
    },
    {
     "name": "stdout",
     "output_type": "stream",
     "text": [
      "\n"
     ]
    }
   ],
   "source": [
    "param_widgets = {}\n",
    "for param_name, param in pars.items():\n",
    "    param_widgets[param_name] = IntText(value=param.value,\n",
    "                                            step=0.1,\n",
    "                                            description=param_name)\n",
    "\n",
    "# Interaktive Anzeige mit automatisch generierten Slidern\n",
    "interact(update_model, Save=IntText(value=0), Load=IntText(value=0), **param_widgets)\n",
    "print()"
   ]
  },
  {
   "cell_type": "code",
<<<<<<< HEAD
   "execution_count": 26,
=======
   "execution_count": 11,
>>>>>>> d420e1074d930a2cefa9d9bf7c85b8bae0902891
   "metadata": {},
   "outputs": [
    {
     "data": {
      "image/png": "iVBORw0KGgoAAAANSUhEUgAAAsQAAAI1CAYAAADRm+w/AAAAOXRFWHRTb2Z0d2FyZQBNYXRwbG90bGliIHZlcnNpb24zLjkuMiwgaHR0cHM6Ly9tYXRwbG90bGliLm9yZy8hTgPZAAAACXBIWXMAAA9hAAAPYQGoP6dpAABw6ElEQVR4nO3deXhTddrG8Ttd0r0FSmlBKJtlKZssAkUFQQRUFBRBcAOGGR0ElcWZkXlV3GZw1HFFQR2lMzq4wIiIyCLIIsgiBRRkXwtCSym0pWtKe94/YiOBlm5JkzTfz3XlSnryyzlPTtNyc/o7zzEZhmEIAAAA8FI+ri4AAAAAcCUCMQAAALwagRgAAABejUAMAAAAr0YgBgAAgFcjEAMAAMCrEYgBAADg1QjEAAAA8GoEYgAAAHg1AjEAeCGTyaSnn3660q87cuSITCaTEhMTHV4TALgKgRgAXCgxMVEmk0kmk0nr1q275HnDMNSkSROZTCYNHjzYBRUCQO1HIAYANxAYGKi5c+desnzNmjU6fvy4AgICXFAVAHgHAjEAuIGbb75Z8+bN0/nz5+2Wz507V127dlVMTIyLKgOA2o9ADABuYNSoUUpPT9c333xjW2axWDR//nzdfffdl4zPycnR1KlT1aRJEwUEBKh169Z6+eWXZRiG3biCggJNnjxZUVFRCgsL02233abjx4+XWsMvv/yi3/3ud4qOjlZAQIDatWunDz74oNzaU1JSNHbsWDVu3FgBAQFq2LChhgwZoiNHjlRuJwCAi/i5ugAAgNSsWTMlJCTo448/1k033SRJWrJkiTIzMzVy5Ei98cYbtrGGYei2227TqlWrNG7cOF111VVatmyZ/vSnP+mXX37Rq6++ahv7+9//Xh999JHuvvtu9erVS99++61uueWWS7afmpqqnj17ymQyaeLEiYqKitKSJUs0btw4ZWVladKkSWXWPmzYMP388896+OGH1axZM506dUrffPONkpOT1axZM4ftIwBwGgMA4DJz5swxJBk//PCDMXPmTCMsLMzIzc01DMMwhg8fbvTt29cwDMNo2rSpccsttxiGYRhffPGFIcl4/vnn7dZ15513GiaTyThw4IBhGIaxfft2Q5Lx0EMP2Y27++67DUnG9OnTbcvGjRtnNGzY0Dh9+rTd2JEjRxoRERG2mg4fPmxIMubMmWMYhmGcPXvWkGS89NJLjtkhAOACTJkAADcxYsQI5eXl6auvvtK5c+f01VdflTpd4uuvv5avr68eeeQRu+VTp06VYRhasmSJbZykS8ZdfLTXMAz973//06233irDMHT69GnbbeDAgcrMzNTWrVtLrTkoKEhms1mrV6/W2bNnq/rWAcClmDIBAG4iKipK/fv319y5c5Wbm6uioiLdeeedl4w7evSoGjVqpLCwMLvlbdu2tT1fcu/j46OWLVvajWvdurXd12lpacrIyNC7776rd999t9TaTp06VerygIAA/eMf/9DUqVMVHR2tnj17avDgwbr//vs5ERCAxyAQA4Abufvuu/WHP/xBKSkpuummm1SnTh2nb7O4uFiSdO+992r06NGljunYsWOZr580aZJuvfVWffHFF1q2bJmefPJJzZgxQ99++606d+7slJoBwJGYMgEAbuT222+Xj4+PNm7cWOp0CUlq2rSpTpw4oXPnztkt37Nnj+35kvvi4mIdPHjQbtzevXvtvi7pQFFUVKT+/fuXemvQoMFl627ZsqWmTp2q5cuXa+fOnbJYLPrnP/9ZqfcOAK5CIAYANxIaGqpZs2bp6aef1q233lrqmJtvvllFRUWaOXOm3fJXX31VJpPJ1qWi5P7CDhWS9Nprr9l97evrq2HDhul///ufdu7cecn20tLSyqw3NzdX+fn5dstatmypsLAwFRQUlPk6AHAnTJkAADdT1rSFErfeeqv69u2r//u//9ORI0fUqVMnLV++XAsXLtSkSZNsc4avuuoqjRo1Sm+//bYyMzPVq1cvrVy5UgcOHLhknS+88IJWrVqlHj166A9/+IPi4+N15swZbd26VStWrNCZM2dKrWXfvn264YYbNGLECMXHx8vPz08LFixQamqqRo4cWf2dAQA1gEAMAB7Gx8dHX375pZ566il9+umnmjNnjpo1a6aXXnpJU6dOtRv7wQcfKCoqSv/973/1xRdfqF+/flq8eLGaNGliNy46OlqbN2/Ws88+q88//1xvv/22IiMj1a5dO/3jH/8os5YmTZpo1KhRWrlypT788EP5+fmpTZs2+uyzzzRs2DCnvH8AcDSTYVx0WSMAAADAizCHGAAAAF6NQAwAAACvRiAGAACAVyMQAwAAwKsRiAEAAODVCMQAAADwavQhLkNxcbFOnDihsLAwmUwmV5cDAACAixiGoXPnzqlRo0by8an6cV4CcRlOnDhxSeN6AAAAuJ9jx46pcePGVX49gbgMYWFhkqw7ODw83MXVAAAA4GJZWVlq0qSJLbdVFYG4DCXTJMLDwwnEAAAAbqy601s5qQ4AAABejUAMAAAAr0YgBgAAgFdjDjEAAEAVFRUVqbCw0NVl1Fq+vr7y8/NzegtcAjEAAEAVZGdn6/jx4zIMw9Wl1GrBwcFq2LChzGaz07ZBIAYAAKikoqIiHT9+XMHBwYqKiuIiXk5gGIYsFovS0tJ0+PBhxcXFVeviG5dDIAYAAKikwsJCGYahqKgoBQUFubqcWisoKEj+/v46evSoLBaLAgMDnbIdTqoDAACoIo4MO5+zjgpfiCPEAAAALmIpMvTKT+mSpCkdI2X2JWC7AkeIAQAA4NUIxAAAAPBqBGIAAAAvMXv2bIWFhen8+fO2ZdnZ2fL399f1119vN3b16tUymUw6ePBglbb19NNP66qrrqpGtTWHQAwAAOAilqLfehhvPpVn97Uz9O3bV9nZ2dqyZYtt2XfffaeYmBht2rRJ+fn5tuWrVq1SbGysWrZsWaltGIZhF7g9AYEYAACgBliKDLtbtqVYH+1N13lLgU7u36U1yWc1Z9dpZVuK7cY5UuvWrdWwYUOtXr3atmz16tUaMmSImjdvro0bN9ot79u3r4qLizVjxgw1b95cQUFB6tSpk+bPn283zmQyacmSJeratasCAgL00Ucf6ZlnntGPP/4ok8kkk8mkxMRESVJGRoZ+//vfKyoqSuHh4erXr59+/PFHh77PyqLLBAAAQA0o6SZxofMWi966b4BS9u9STFy8Jny4XDN/PmM35vHO9R1aR9++fbVq1So9/vjjkqxHgv/85z+rqKhIq1at0vXXX6+8vDxt2rRJv/vd7zRjxgx99NFHmj17tuLi4rR27Vrde++9ioqKUp8+fX6r8/HH9fLLL6tFixYKDAzU1KlTtXTpUq1YsUKSFBERIUkaPny4goKCtGTJEkVEROidd97RDTfcoH379qlevXoOfa8VRSB2A5YiQ0lpecq0FCvC7KOuUUG0XQEAwAukHT2olP27JEkp+3fp9NGDiomLd+o2+/btq0mTJun8+fPKy8vTtm3b1KdPHxUWFmr27NmSpA0bNqigoEDXX3+94uPjtWLFCiUkJEiSWrRooXXr1umdd96xC8TPPvusbrzxRtvXoaGh8vPzU0xMjG3ZunXrtHnzZp06dUoBAQGSpJdffllffPGF5s+frwceeMCp770sBGIXsxQZStx9Wmk5FqUnH1RkbEvtOJ2jMW3rE4oBAKhFpnSMtPt686k8rbG0VExcvO0IcVTTlro2JljdGzjv6nfXX3+9cnJy9MMPP+js2bNq1aqV7Wjv2LFjlZ+fr9WrV6tFixbKzs5Wbm6uXdCVJIvFos6dO9st69atW7nb/vHHH5Wdna3ISPt9kZeXV+WT9xyBQOxiSWl5SsuxaOYFfy6Z+OFyJaXlKSEm2NXlAQAAB7n4QFf3BkH6+XSOJny4XKePHlRU05aKCjGrewPn/qX4yiuvVOPGjbVq1SqdPXvWdpS3UaNGatKkib7//nutWrVK/fr1U3Z2tiRp8eLFuuKKK+zWU3KEt0RISEi5287Ozr5kDnOJOnXqVO0NOQCB2MUyLcVKT7b/c0l68iFlNuxczisBAIAnM/uadE/rSM38+Yxi4uJtR4Zr4i/Effv21erVq3X27Fn96U9/si3v3bu3lixZos2bN2v8+PGKj49XQECAkpOT7aZHVITZbFZRUZHdsi5duiglJUV+fn5q1qyZI96KQxCIXSzC7KPIWPs/l0TGtlCEmQYgAADUdheG35oKw5I1EE+YMEGFhYV2QbdPnz6aOHGiLBaL+vbtq7CwMD322GOaPHmyiouLde211yozM1Pr169XeHi4Ro8eXeY2mjVrpsOHD2v79u1q3LixwsLC1L9/fyUkJGjo0KF68cUX1apVK504cUKLFy/W7bffXqFpF85AIHaxrlFB2nE6RxM/XK705EOKjG2hqBCzukY5b+4QAADwbn379lVeXp7atGmj6Oho2/I+ffro3LlztvZskvTcc88pKipKM2bM0KFDh1SnTh116dJFf/3rXy+7jWHDhunzzz9X3759lZGRoTlz5mjMmDH6+uuv9X//938aO3as0tLSFBMTo969e9vVUdNMhmE4twO0h8rKylJERIQyMzMVHh7u1G3RZQIAAM+Sn5+vw4cPq3nz5goMDKzyeixFhq0d25SOkfz7X4rL7WtH5TWOELsBs6+JE+gAAPBCZl+Tw/sMo/KYqAoAAACvRiAGAACAVyMQAwAAwKsRiAEAAKqI3gTOVxP7mEAMAABQSb6+vpKslzCGc+Xm5kqS/P39nbYNukwAAABUkp+fn4KDg5WWliZ/f3/5+HCM0dEMw1Bubq5OnTqlOnXq2P4T4gwEYgAAgEoymUxq2LChDh8+rKNHj7q6nFqtTp06iomJceo2CMQAAABVYDabFRcXx7QJJ/L393fqkeESBGIAAIAq8vHxqdaV6uAemPACAAAAr0YgBgAAgFcjEAMAAMCrEYgBAADg1QjEAAAA8GoEYgAAAHg1AjEAAAC8GoEYAAAAXo1ADAAAAK9GIAYAAIBXIxADAADAqxGIAQAA4NUIxAAAAPBqBGIAAAB4NQIxAAAAvBqBGAAAAF6NQAwAAACvRiAGAACAVyMQAwAAwKsRiAEAAODVPDYQ//LLL7r33nsVGRmpoKAgdejQQVu2bLE9bxiGnnrqKTVs2FBBQUHq37+/9u/f78KKAQAA4I48MhCfPXtW11xzjfz9/bVkyRLt2rVL//znP1W3bl3bmBdffFFvvPGGZs+erU2bNikkJEQDBw5Ufn6+CysHAACAuzEZhmG4uojKevzxx7V+/Xp99913pT5vGIYaNWqkqVOn6rHHHpMkZWZmKjo6WomJiRo5cmS528jKylJERIQyMzMVHh7u0PoBAABQfY7Kax55hPjLL79Ut27dNHz4cDVo0ECdO3fWe++9Z3v+8OHDSklJUf/+/W3LIiIi1KNHD23YsKHUdRYUFCgrK8vuBgAAgNrPIwPxoUOHNGvWLMXFxWnZsmUaP368HnnkEf373/+WJKWkpEiSoqOj7V4XHR1te+5iM2bMUEREhO3WpEkT574JAAAAuAWPDMTFxcXq0qWL/v73v6tz58564IEH9Ic//EGzZ8+u8jqnTZumzMxM2+3YsWMOrBgAAADuyiMDccOGDRUfH2+3rG3btkpOTpYkxcTESJJSU1PtxqSmptqeu1hAQIDCw8PtbgAAAKj9PDIQX3PNNdq7d6/dsn379qlp06aSpObNmysmJkYrV660PZ+VlaVNmzYpISGhRmsFAACAe/NzdQFVMXnyZPXq1Ut///vfNWLECG3evFnvvvuu3n33XUmSyWTSpEmT9PzzzysuLk7NmzfXk08+qUaNGmno0KGuLR4AAABuxSMD8dVXX60FCxZo2rRpevbZZ9W8eXO99tpruueee2xj/vznPysnJ0cPPPCAMjIydO2112rp0qUKDAx0YeUAAABwNx7Zh7gm0IcYAADAvXl1H2IAAADAUQjEAAAA8GoEYgAAAHg1AjEAAAC8GoEYAAAAXo1ADAAAAK9GIAYAAIBXIxADAADAqxGIAQAA4NUIxAAAAPBqBGIAAAB4NQIxAAAAvBqBGAAAAF6NQAwAAACvRiAGAACAVyMQAwAAwKsRiAEAAODVCMQAAADwagRiAAAAeDUCMQAAALwagRgAAABejUAMAAAAr0YgBgAAgFcjEAMAAMCrEYgBAADg1QjEAAAA8GoEYgAAAHg1AjEAAAC8GoEYAAAAXo1ADAAAAK9GIAYAAIBXIxADAADAqxGIAQAA4NUIxAAAAPBqBGJ3kJ8vJSZKf/qTZBiurgYAAMCr+Lm6AEjy8ZEefFCyWKSHHpKaN3d1RQAAAF6DI8TuwGyW2rWzPt62zbW1AAAAeBkCsbvo3Nl6TyAGAACoUQRid1ESiLdvd2kZAAAA3oZA7C6uusp6zxFiAACAGkUgdhedOkkmk/TLL1JamqurAQAA8BoEYncRFiZdeaX1MdMmAAAAagyB2J1wYh0AAECNIxC7E+YRAwAA1DgCsTuh0wQAAECNIxC7k5JAvHevlJPj2loAAAC8BIHYnURHSzExkmFIP/3k6moAAAC8AoHY3TBtAgAAoEYRiN0NnSYAAABqFIHY3dBpAgAAoEYRiN1NyRHiHTuk8+ddWwsAAIAXIBC7mxYtrFetKyiQ9uxxdTUAAAC1HoHY3fj4SJ06WR8zbQIAAMDpPDIQP/300zKZTHa3Nm3a2J7Pz8/XhAkTFBkZqdDQUA0bNkypqakurLiS6DQBAABQYzwyEEtSu3btdPLkSdtt3bp1tucmT56sRYsWad68eVqzZo1OnDihO+64w4XVVhKdJgAAAGqMn6sLqCo/Pz/FxMRcsjwzM1Pvv/++5s6dq379+kmS5syZo7Zt22rjxo3q2bNnTZdaeRcGYsOQTCbX1gMAAFCLeewR4v3796tRo0Zq0aKF7rnnHiUnJ0uSkpKSVFhYqP79+9vGtmnTRrGxsdqwYUOZ6ysoKFBWVpbdzWXi4yV/fykjQzpyxHV1AAAAeAGPDMQ9evRQYmKili5dqlmzZunw4cO67rrrdO7cOaWkpMhsNqtOnTp2r4mOjlZKSkqZ65wxY4YiIiJstyZNmjj5XVyG2Sx17Gh9nJTkujoAAAC8gEcG4ptuuknDhw9Xx44dNXDgQH399dfKyMjQZ599VuV1Tps2TZmZmbbbsWPHHFhxFXTrZr3fssW1dQAAANRyHhmIL1anTh21atVKBw4cUExMjCwWizIyMuzGpKamljrnuERAQIDCw8Ptbi5FIAYAAKgRtSIQZ2dn6+DBg2rYsKG6du0qf39/rVy50vb83r17lZycrISEBBdWWUkXBmLDsC22FBnakJKrpcnZ2pCSK0uRUcYKqjYeAADA23hkl4nHHntMt956q5o2baoTJ05o+vTp8vX11ahRoxQREaFx48ZpypQpqlevnsLDw/Xwww8rISHBMzpMlGjXTgoIkDIzpYMHpSuvlKXIUOLu00rLsSg9+aAiY1tqx+kcjWlbX2bfSztRVHY8AACAN/LIQHz8+HGNGjVK6enpioqK0rXXXquNGzcqKipKkvTqq6/Kx8dHw4YNU0FBgQYOHKi3337bxVVXkr+/dNVV0qZN1qPEV16ppLQ8peVYNPO+AUrZv0sxcfGa+OFyJaXlKSEm+JJVVHY8AACAN/LIQPzJJ59c9vnAwEC99dZbeuutt2qoIifp1u23QDxypDItxUpPPqiU/bskSSn7dyk9+ZAyG3Yu9eWVHQ8AAOCNasUc4lrrohPrIsw+ioxtqZi4eElSTFy8ImNbKMJc+rexsuMBAAC8kUceIfYaJYE4KUkqLlbXqCDtOJ2jiR8uV3ryIUXGtlBUiFldo4JKfXllxwMAAHgjk2EYtB0oRVZWliIiIpSZmem6Fmznz0vh4VJenrR7t9SmjSxFhpLS8pRpKVaE2Uddo4Iue4JcZccDAAB4CkflNY4QuzM/P6lzZ+n7761Hidu0kdnXVKkT4io7HgAAwNswmdTdcYEOAAAApyIQuzsCMQAAgFMRiN1dSSDeulUqKnJtLQAAALUQgdjdtWolhYZKubnSnj2urgYAAKDWIRC7O19fqUsX62OmTQAAADgcgdgTMI8YAADAaQjEnoBADAAA4DQEYk9QEoi3b5cKC11aCgAAQG1DIPYELVtKdepI+fnSjh2urgYAAKBWIRB7Ah8fqXt36+NNm1xbCwAAQC1DIPYUPXpY7wnEAAAADkUg9hQlgXjjRtfWAQAAUMsQiD1FSSDeu1c6e9a1tQAAANQiBGJPUb++9eQ6SfrhB9fWAgAAUIsQiD0J84gBAAAcjkDsSZhHDAAA4HAEYk9y4RFiw3BtLQAAALUEgdiTXHWVZDZL6enSoUOurgYAAKBWIBB7koAAqXNn62PmEQMAADgEgdjTMI8YAADAoQjEnoZOEwAAAA5FIPY0JYF4+3apoMClpQAAANQGBGJP06KF9SIdFos1FAMAAKBaCMSexmRi2gQAAIADEYg9ESfWAQAAOAyB2BNxhBgAAMBhCMSeqHt369SJQ4ek1FRXVwMAAODRCMSeqE4dqV076+Pvv3dpKQAAAJ6OQOyprrnGer9+vWvrAAAA8HAEYk9FIAYAAHAIArGn6tXLep+UJOXlubYWAAAAD0Yg9lQtWkjR0VJhobRli6urAQAA8FgEYk9lMjFtAgAAwAEIxJ6sJBDTaQIAAKDKCMSe7MJAbBiurQUAAMBDEYg9WefOUmCglJ4u7d3r6moAAAA8EoHYk5nN1qvWScwjBgAAqCICsafjxDoAAIBqIRB7upJ+xARiAACAKiEQe7qSQLxvn3T6tGtrAQAA8EAEYk9Xr57Utq31Me3XAAAAKo1AXBswjxgAAKDKCMS1AYEYAACgygjEtcG111rvf/hBystzbS0AAAAehkBcG7RsKTVsKFks0ubNrq4GAADAoxCIawOTSerd2/p4zRrX1gIAAOBhCMS1RZ8+1nsCMQAAQKUQiGuLkkC8YYN16gQAAAAqxOMD8QsvvCCTyaRJkybZluXn52vChAmKjIxUaGiohg0bptTUVNcVWRPatpXq17eeVLdli6urAQAA8BgeHYh/+OEHvfPOO+rYsaPd8smTJ2vRokWaN2+e1qxZoxMnTuiOO+5wUZU1hHnEAAAAVeKxgTg7O1v33HOP3nvvPdWtW9e2PDMzU++//75eeeUV9evXT127dtWcOXP0/fffa+PGjS6suAaUTJtYu9a1dQAAAHgQjw3EEyZM0C233KL+/fvbLU9KSlJhYaHd8jZt2ig2NlYbNmwoc30FBQXKysqyu3mckiPE69ZJ58+7thYAAAAP4ZGB+JNPPtHWrVs1Y8aMS55LSUmR2WxWnTp17JZHR0crJSWlzHXOmDFDERERtluTJk0cXbbzdegg1akjZWdL27a5uhoAAACPUGOBODU1Ve+//77+8Y9/6LPPPlNubm6V1nPs2DE9+uij+u9//6vAwECH1Tdt2jRlZmbabseOHXPYumuMr6903XXWx0ybAAAAqBCHBOLdu3drxIgRuuuuu5SRkXHJ819++aVatmypBx54QH/96181atQotW3bVtu3b6/0tpKSknTq1Cl16dJFfn5+8vPz05o1a/TGG2/Iz89P0dHRslgsl9SRmpqqmJiYMtcbEBCg8PBwu5tH4sQ6AACASnFIIP7iiy80f/58nThx4pKpCqdOndK9996r3NxcGYZhux07dky33nqrsrOzK7WtG264QTt27ND27dttt27duumee+6xPfb399fKlSttr9m7d6+Sk5OVkJDgiLfr3kpOrPvuO6moyLW1AAAAeACHBOKVK1fKZDJp8ODBlzz39ttvKzs7W35+fnrllVf0448/6sUXX5SPj49OnDih9957r1LbCgsLU/v27e1uISEhioyMVPv27RUREaFx48ZpypQpWrVqlZKSkjR27FglJCSoZ8+ejni77q1zZyk0VMrIkHbscHU1AAAAbs8hgTg5OVmS1Llz50ue+9///ieTyaT7779fkyZNUocOHfTYY49p3LhxMgxDX375pSNKsPPqq69q8ODBGjZsmHr37q2YmBh9/vnnDt+OW/Lzk665xvqYecQAAADlckggPnXqlCSpQYMGdstPnz6tn3/+WZJ099132z132223SZJ27dpV7e2vXr1ar732mu3rwMBAvfXWWzpz5oxycnL0+eefX3b+cK1TMm2CecQAAADlckggzsvLk2S9ZPKF1q1bJ0kym8269tpr7Z5r2LChJJV6Eh6q6cJAXFzs2loAAADcnEMCcb169ST9NnWiRMmJbd26dZPZbLZ77vyvF44IDQ11RAm40NVXW+cRp6dLP/3k6moAAADcmkMCcadOnSRJc+fOtS3Ly8vTvHnzZDKZ1K9fv0tec/ToUUnWC2bAwfz9f2u/dkG3DQAAAFzKIYF45MiRMgxDixYt0siRIzVz5kwNGDBAp06dkslk0qhRoy55zaZNmyRJTZs2dUQJuNgNN1jvCcQAAACX5ZBAfP/99+vaa6+VYRiaN2+eHn30UX3//feSpLFjx6pNmzaXvObzzz+XyWRSr169HFECLlZyVH7tWqmw0LW1AAAAuDGHBGIfHx8tWbJEU6ZMUePGjeXn56cmTZroySef1KxZsy4Z/9VXX+nIkSOSpJtvvtkRJeBiHTtK9etLOTnS5s2urgYAAMBtmQzDMGp6o2fPnlVWVpYk950ykZWVpYiICGVmZnruZZxHjJDmzZOeeUZ66ilXVwMAAOBQjsprDjlCXFl169ZV06ZN3TYM1xrMIwYAACiXQwJxv379dMMNN9g6R1TEiRMnbK+Dk5Ts2w0bpNxc19YCAADgpvwcsZLVq1fLZDIpJyenwq/Jy8uzvQ5O0rKl1KSJdOyYtG6dNGCAqysCAABwOy6ZMoEaYjIxbQIAAKAcLgvEJUeTAwMDXVWCdyAQAwAAXJbLAvGSJUskSY0bN3ZVCd6hpB/x1q3S2bOurQUAAMANVWkO8e9+97tSlz/xxBOqU6fOZV9bUFCggwcP6ocffpDJZFKfPn2qUgIqqlEjqU0bac8eafVq6fbbXV0RAACAW6lSIE5MTLzkZDjDMLRw4cIKvb6k9XG9evU0bdq0qpSAyrjhBmsgXrmSQAwAAHCRKgXi2NhYu0B89OhRmUwmNWzYUP7+/mW+zmQyKTAwUA0bNlSvXr00fvx4NWrUqColoDJuuEF66y1pxQpXVwIAAOB2qhSISy67XMLHxzoVefny5YqPj692UXCwfv0kX19p717p6FGJC6IAAADYOOSkut69e6t3794KCQlxxOrgaBERUs+e1sfLlrm2FgAAADfjkEC8evVqrVq1iksxu7OBA633BGIAAAA7XJjDW5QE4hUrpMJC19YCAADgRhxy6ebSZGVl6dy5cyoqKip3bGxsrLPKQImuXaXISCk9Xdq0Sbr2WldXBAAA4BYcGoi/+eYbvf3221q3bp3OnDlTodeYTCadP3/ekWWgNL6+0o03Sp98Yp02QSAGAACQ5MApE4888ogGDRqkL7/8Uunp6TIMo8I3lM5SZGhDSq6WJmdrQ0quLEXV3FfMIwYAALiEQ44Qz507VzNnzpQkBQYGaujQoeratavq1atna8mGyrEUGUrcfVppORalJx9UZGxL7TidozFt68vsayp/BaUZMMB6v2WLdPq0VL++4woGAADwUA4JxO+8844kqUmTJvr222/VsmVLR6zWqyWl5Sktx6KZ9w1Qyv5diomL18QPlyspLU8JMcFVW2mjRlKHDtKOHdaT60aOdGzRAAAAHsghh29/+uknmUwmTZ8+nTDsIJmWYqUnH1TK/l2SpJT9u5SefEiZluLqrZhpEwAAAHYcEogLf23j1blzZ0esDpIizD6KjG2pmDjrlf9i4uIVGdtCEeZqfssGDbLeL18uMX8bAADAMVMmmjVrpt27dys7O9sRq4OkrlFB2nE6RxM/XK705EOKjG2hqBCzukYFVW/F114rBQdLJ05IO3dap1AAAAB4MYccIb7jjjskSStXrnTE6iDJ7GvSmLb11a9pXQ3o0Vn9mtat3gl1JQICpOuvtz5eurTadQIAAHg6hwTiqVOnKjY2Vq+99pr27NnjiFVC1lCcEBOsQbGhSogJrn4YLlEyj5hADAAA4JhAHBERoWXLlik6Olq9evXS22+/rbNnzzpi1XCGm2+23q9dK2VlubYWAAAAFzMZDrgyRosWLSRJubm5OnXqlEwmk0wmk+rXr6/g4Mu3CDOZTDp48GB1S3C4rKwsRUREKDMzU+Hh4a4ux/HatJH27pXmz5eGDXN1NQAAAJXmqLzmkJPqjhw5Yvd1yRXoTp06Ve5rTSYHTQNA5dxyizUQf/UVgRgAAHg1hwTi0aNHO2I1qEmDB0uvvCItXiwVF0tcURAAAHgph0yZqI1q/ZSJwkLrpZuzsqSNG6UePVxdEQAAQKU4Kq9xWNBLWXz8dLpPf0nS8U8WyFLE/4sAAIB3IhB7IUuRocTdp/V9596SJL+vFytx92lCMQAA8EoEYi+UlJantByL/vrh2yqWFLNvp/IPH1VSWp6rSwMAAKhxDjmp7j//+U+1Xn///fc7ogxUUKalWOnJB/Xz4X3aKKmXpJivPlVmp+muLg0AAKDGOSQQjxkzpsrt00wmE4G4hkWYfRQZ21IxcfFavH+Xekm6atePSjfzBwMAAOB9HJaASnoPV+WGmtU1KkhRIWZN/HC56r74gSSpedJ6dQ11cWEAAAAu4JAjxIcPHy53TE5Ojvbt26e5c+dq/vz5uuaaa/Tuu++WeyU7OJ7Z16QxbesrKS1PmSPuVMFrTyrgxC/Sd2ukm25ydXkAAAA1yiV9iD/77DPdfffduv766/XNN9+45dXqan0f4guNHy/Nnm29f/ttV1cDAABQIR7dh3jEiBEaPXq0Vq1apXfeeccVJeBCt95qvf/yS+tV6wAAALyIy86iGjFihAzDUGJioqtKQIl+/aTQUOmXX6QtW1xdDQAAQI1yWSCOjo6WJO3du9dVJaBEYOBvc4e/+MKlpQAAANQ0lwXi5ORkSVJhYaGrSsCFbr/der9ggWvrAAAAqGEuCcSFhYV68cUXJUlXXnmlK0rAxW6+WfL3l/bssd4AAAC8hEParpUc7b2c4uJinT17Vlu2bNHMmTO1c+dOmUwmjRw50hEloLoiIqxziZcts06bePxxV1cEAABQIxwSiJs3b17p1xiGoYSEBE2ePNkRJcARbr/dGogXLCAQAwAAr+GQKROVvTJd3bp1NW3aNK1YsUIBAQGOKAGOMGSIZDJJmzdbO04AAAB4AYccIZ4zZ065Y3x8fBQWFqbmzZurffv28vX1dcSm4UgxMVLPntKGDdZpExMmuLoiAAAAp3NIIB49erQjVgN3cPvtBGIAAOBVXNZ2rTpmzZqljh07Kjw8XOHh4UpISNCSJUtsz+fn52vChAmKjIxUaGiohg0bptTUVBdW7EGGDrXer14tnT3rykoAAABqhEcG4saNG+uFF15QUlKStmzZon79+mnIkCH6+eefJUmTJ0/WokWLNG/ePK1Zs0YnTpzQHXfc4eKqPURcnNSunXT+vPTVV66uBgAAwOlMhmEYjl5pUlKSVqxYoZ07d+rMmTOSpHr16ql9+/bq37+/unbt6uhNql69enrppZd05513KioqSnPnztWdd94pSdqzZ4/atm2rDRs2qGfPnhVaX1ZWliIiIpSZmanw8HCH1+vWnnxSev5560l2XLkOAAC4KUflNYfMIS6xY8cOPfDAA9q8eXOZY/7617+qR48eeuedd9ShQ4dqb7OoqEjz5s1TTk6OEhISlJSUpMLCQvXv3982pk2bNoqNjb1sIC4oKFBBQYHt66ysrGrX5rHuvNMaiJculbKyJG/7DwEAAPAqDpsysWLFCnXv3l2bN2+2tVfz8/NTdHS0oqOj5efnZ1u+ceNGde/eXStXrqzy9nbs2KHQ0FAFBAToj3/8oxYsWKD4+HilpKTIbDarTp06duOjo6OVkpJS5vpmzJihiIgI261JkyZVrs3jdewotWolFRRIixa5uhoAAACnckggPn36tIYPH66CggKZTCb9/ve/16ZNm5STk6MTJ07oxIkTys3N1ebNm/WHP/xBvr6+Kigo0PDhw5Wenl6lbbZu3Vrbt2/Xpk2bNH78eI0ePVq7du2q8nuYNm2aMjMzbbdjx45VeV0ez2SSRoywPp43z7W1AAAAOJlDAvHrr7+uzMxMmc1mLV68WO+++66uvvpq+fn9NiPD19dX3bp10zvvvKPFixfL399fmZmZev3116u0TbPZrCuvvFJdu3bVjBkz1KlTJ73++uuKiYmRxWJRRkaG3fjU1FTFxMSUub6AgABb14qSm1crCcRLllinTQAAANRSDgnEixcvlslk0sSJEzVw4MByxw8YMEAPP/ywDMPQ4sWLHVGCiouLVVBQoK5du8rf399uOsbevXuVnJyshIQEh2zLK7RvL7VpI1ks0pdfuroaAAAAp3FIID58+LAk6bbbbqvwa0rGHjp0qNLbmzZtmtauXasjR45ox44dmjZtmlavXq177rlHERERGjdunKZMmaJVq1YpKSlJY8eOVUJCQoU7TED20yY++8y1tQAAADiRQ7pM5OfnS5JCQkIq/JqSsRd2dqioU6dO6f7779fJkycVERGhjh07atmyZbrxxhslSa+++qp8fHw0bNgwFRQUaODAgXr77bcrvR2vN2KE9Oyz0rJlUkaGdNGJigAAALWBQwJxTEyMkpOTtW3btgr3GN62bZska/eHynr//fcv+3xgYKDeeustvfXWW5VeNy7Qrp0UHy/t2mWdNnH//a6uCAAAwOEcMmXiuuuuk2EYeuGFFyrUv/fcuXP6xz/+IZPJpOuuu84RJcBZmDYBAABqOYcE4gcffFCSdS5x7969tWXLljLHbtmyRX369NHBgwftXgs3NXy49X75cunsWdfWAgAA4AQOu3TzxIkT9fbbb8tkMkmS2rVrpx49eqhBgwYymUxKTU3Vpk2b9PPPP0uSDMPQhAkT9Oabbzpi8w7n1ZduvliHDtLOndIHH0hjx7q6GgAAAElueOnmN998U8HBwXrllVdUXFysnTt32sJviZLs7ePjo8cee0wvvPCCozbv9SxFhpLS8pRpKVaE2Uddo4Jk9jU5ZuUjRlgD8SefEIgBAECt47AjxCV27typWbNmacWKFdq/f7/dc3Fxcerfv7/Gjx+v9u3bO3KzDudJR4gtRYYSd59WWo5F6ckHFRnbUlEhZo1pW98xofjAASkuTvLxkX75RbrMBU4AAABqiqPymsMD8YUsFovO/jrvtG7dujKbzc7alMN5UiDekJKrb4+e1cz7Bihl/y7FxMVr4ofL1a9pXSXEBDtmIwkJ0saN0quvSpMmOWadAAAA1eCovOaQk+rKYjabFR0drejoaI8Kw54m01Ks9OSDStm/S5KUsn+X0pMPKdNS7LiN3Huv9f6//3XcOgEAANxAlQLxkiVL1KVLF3Xp0kVz586t1Gvnzp1re+2KFSuqsnlcJMLso8jYloqJi5ckxcTFKzK2hSLMDvz/zogRkq+vtGWLtHev49YLAADgYpVOTIZhaPLkyfrxxx8VFRWlu+++u1KvHzVqlOrXr6/t27dr6tSpld08StE1KkhRIWZN/HC5Jn+2VhM/XK6oELO6RgU5biNRUdKgQdbHHCUGAAC1SKXnEK9cuVI33nijfH199eOPPyo+Pr7SG921a5c6deqk4uJiffvtt+rTp0+l1+FsnjSHWHJMl4ly1/Hxx9Ldd0stWlhPtDM5qIsFAABAFbhsDvH//vc/SdKNN95YpTAsSfHx8Ro4cKAkaf78+VVaB+yZfU1KiAnWoNhQJcQEVykMJ+4+rW+PntXyTVv17dGzStx9WpaiC/6/NGSIFBoqHTpkPcEOAACgFqh0IN68ebNMJpNuvfXWam148ODBMgxDGwlWbiEpLU9pORbNvG+AXh3RRzPvG6C0HIuS0vJ+GxQcLN1+u/XxRx+5plAAAAAHq3QgPnr0qCSpdevW1dpwq1atJElHjhyp1nrgGBXuVFHSbeLTT6XCwhquEgAAwPEqHYgzMzMlSfXq1avWhkten5WVVa31wDEq3KmiXz/rhTnS06Vly1xQKQAAgGNVOhCXTFjOyMio1oZLXh8WFlat9cAxKtypws9PGjXK+vjf/675QgEAABys0oE4KipKkrVTRHXs3r1bktSgQYNqrQeOYfY1aUzb+urXtK4G9Oisfk3rln3p59GjrfcLF0qnT9s9ZSkytCElV0uTs7UhJdf+pDwAAAA3VOlA3L17dxmGoUWLFlVrwwsXLpTJZNLVV19drfXAcSrcqaJTJ6lLF+sc4gsuzFKhThUAAABuptKB+KabbpIkLV++XOvWravSRteuXavly5fbrQ8e5ne/s97PmWNbVKFOFQAAAG6m0oF42LBhatasmQzD0PDhw7V///5KvX7fvn0aMWKETCaTmjVrpjvvvLOyJcAdjBolmc3S9u3Stm2SKtGpAgAAwI1UOhD7+/vr5ZdfliSdOnVKXbt21euvv66cnJzLvi47O1uvvfaaunXrplOnTkmS/vnPf8rPz68KZcPl6tWThg61Pv71KHGFO1UAAAC4kUpfurnEc889p+nTp8v06+V7Q0JCdN1116lr165q0KCBQkJClJOTo9TUVG3dulXfffedcnJyVLK5Z599Vk888YTj3omDedqlm11i2TJp0CBrOD5xQhY/sxJ3n1ZajkXpyYcUGdtCUSHmsk/OAwAAqAZH5bUqB2JJmjNnjh5++GHl5uZaV2YqO/SUbCY4OFgzZ87UmDFjqrrZGkEgroCiIqlZM+n4cemzz6Thw2UpMpSUlqdMS7EizD7qGhVEGAYAAE7hqLxWrb9ljx07Vvv27dOUKVNUv359GYZR5q1+/fqaOnWq9u3b5/ZhGPbKbKXm6/tbC7YPPpBUiU4VAAAAbqJaR4gv9vPPP+vHH39Uenq6zp07p7CwMEVGRqpTp05q166dozZTIzhCbFXSSs06DeKgImNb2k+DOHBAiouTfHyko0elxo1dXTIAAPASjsprDj2jrV27dh4XfHF5F7ZSS9m/SzFx8Zr44XIlpeUpISZYuvJKqXdvae1aKTFRcuN54QAAAKXh9H9cVoVaqf3+99b7996zzisGAADwIARiXFaFWqndeae100RysrXzBAAAgAchEOOyukYFKSrErIkfLtfkz9Zq4ofLFRViVteooN8GBQVJJSdKzp7tkjoBAACqyqEn1dUmnFT3mwq1Utu7V2rTxnpy3eHDUmys49ZdhbEAAKD2c8uT6lA7lbRSu6zWraV+/aRvv5X+9S/p2WfLXW9pHSx2nM4p9UIelRkLAABQGUyZgOM8+KD1/l//kgoLyx1+YQeLV0f00cz7Bigtx6KktLxqjQUAAKgMAjEcZ+hQqUED6eRJadGicodXqINFFcYCAABUBoEYjmM2S+PGWR9X4OS6CnWwqMJYAACAyuCkujJwUl0VHT4stWwpGYa0f7/1wh1lsJ8XfEiRsS3sr4JXxbEAAMA7OCqvEYjLQCAuX5ldH26+WVqyRJoyRfrnP6u2jmqOBQAAtR+B2MkIxJdXWtcH2xHbZUukW26RIiKk48el0FBXlwsAAGohR+U1JmCiSi7b9WHQICkuTsrMlP7zH1eXCgAAcFkEYlTJZbs++PhIDz9sHfjGG1IxnSAAAID7IhCjSsrt+jBmjBQebr2C3fLlrisUAACgHARiVEnXqCBFhZg18cPlmvzZWk38cLmiQszqGhVkHRAWJv3ud9bHb7zhukIBAADKwUl1ZeCkuvKV2/Xh4EHrXGLDkPbssV7eGQAAwEE4qQ4uZ/Y1KSEmWINiQ5UQE3xpC7SWLaXBg62P33yz5gsEAACoAAIxnOvRR633iYnWrhMAAABuhkAM5+rXT2rfXsrJkd57z9XVAAAAXIJADOcymaTJk62PX3tNslhcWg4AAMDFCMRwvnvukRo2lH75Rfr4Y1dXAwAAYIdADOcLCJAmTbI+fuklLtQBAADcCoEYNePBB629iX/+WVqyxNXVAAAA2BCIUTMiIqyhWLIeJQYAAHATBGLUnEcflfz9pTVrpE2bXF0NAACAJAIxalLjxtYT7CSOEgMAALdBIEbNeuwx6/3nn0v79rm2FgAAABGIUdPatZNuuUUyDOmFF1xdDQAAgGcG4hkzZujqq69WWFiYGjRooKFDh2rv3r12Y/Lz8zVhwgRFRkYqNDRUw4YNU2pqqosqhp0nnrDe/+c/0uHDrq0FAAB4PY8MxGvWrNGECRO0ceNGffPNNyosLNSAAQOUk5NjGzN58mQtWrRI8+bN05o1a3TixAndcccdLqwaNj17SjfeKBUVcZQYAAC4nMkwDMPVRVRXWlqaGjRooDVr1qh3797KzMxUVFSU5s6dqzvvvFOStGfPHrVt21YbNmxQz549L1lHQUGBCgoKbF9nZWWpSZMmyszMVHh4eI29F6+xbp103XXWrhMHDkixsa6uCAAAeJisrCxFRERUO6955BHii2VmZkqS6tWrJ0lKSkpSYWGh+vfvbxvTpk0bxcbGasOGDaWuY8aMGYqIiLDdmjRp4vzCvdm110rXXy8VFkovvujqagAAgBfz+EBcXFysSZMm6ZprrlH79u0lSSkpKTKbzapTp47d2OjoaKWkpJS6nmnTpikzM9N2O3bsmLNLx1NPWe//9S/pxAnX1gIAALyWxwfiCRMmaOfOnfrkk0+qtZ6AgACFh4fb3eBk119vPVJcUEBfYgAA4DIeHYgnTpyor776SqtWrVLjxo1ty2NiYmSxWJSRkWE3PjU1VTExMTVcJcpkMklPPml9PHu2VMbRewAAAGfyyEBsGIYmTpyoBQsW6Ntvv1Xz5s3tnu/atav8/f21cuVK27K9e/cqOTlZCQkJNV0uJFmKDG1IydXS5GxtSMmVpejXczlvvFHq0UPKz5dmzHBtkQAAwCt5ZJeJhx56SHPnztXChQvVunVr2/KIiAgFBQVJksaPH6+vv/5aiYmJCg8P18MPPyxJ+v777yu0DUedtQhrGE7cfVppORalJx9UZGxLRYWYNaZtfZl9TdKKFdZgbDZL+/fTcQIAAFSIV3eZmDVrljIzM3X99derYcOGttunn35qG/Pqq69q8ODBGjZsmHr37q2YmBh9/vnnLqzaeyWl5Sktx6KZ9w3QqyP6aOZ9A5SWY1FSWp51wA03SH37ShaL9Oyzri0WAAB4HY88QlwTOELsOEuTs7V801a9OqKPbdnkz9ZqQI/OGhQbal2wYYPUq5fk6yvt2iW1auWiagEAgKfw6iPE8CwRZh9FxrZUTFy8JCkmLl6RsS0UYb7g45eQIN16q/XqddOnu6hSAADgjThCXAaOEDuO/RziQ4qMbWE/h7jEjz9KV11lfbx9u9SpkyvKBQAAHsJReY1AXAYCsWNZigwlpeUp01KsCLOPukYF2YfhEqNGSZ98Ig0eLC1aVPOFAgAAj0EgdjICsYvs2yfFx1unTnz3nfXCHQAAAKVgDjFqp1atpHHjrI+nTpX4/xoAAHAyAjHczzPPSKGh0ubN0gWt9AAAAJyBQAz3ExMj/eUv1sePP269ih0AAICTEIjhnqZMkRo1ko4elWbOdHU1AACgFiMQwz0FB0t/+5v18fPPS6dPu7YeAABQaxGI4b7uu8/alzgzU3ruuTKHWYoMbUjJ1dLkbG1IyZWliBPxAABAxRGI4b58faWXX7Y+fvttac+eS4aUXPTj26NntXzTVn179KwSd58mFAMAgAojEMO93XCD9SId589LjzxySRu2pLQ8peVYNPO+AXp1RB/NvG+A0nIsSkrLc1HBAADA0xCI4f5ee00ym6VvvpG++MLuqUxLsdKTDypl/y5JUsr+XUpPPqRMS3HN1wkAADwSgRjur2VL6U9/sj6ePFnKzbU9FWH2UWRsS8XExUuSYuLiFRnbQhFmPtoAAKBiuHRzGbh0s5vJyZHatpWOHZOmT5eeflrSb3OI03IsSk8+pMjYFooKMWtM2/oy+5pcWzMAAHAqR+U1AnEZCMRuaN48acQIKSBA2rVLatFCkjUUJ6XlKdNSrAizj7pGBRGGAQDwAo7Ka/xdGZ7jzjulfv2kggLrhTt+ZfY1KSEmWINiQ5UQE0wYBgAAlUIghucwmaQ335T8/KSFC6Uvv3R1RQAAoBYgEMOzxMf/dnR4wgTp3DnX1gMAADwegRieZ/p0qXlz6fhx6cknXV0NAADwcARieJ7gYGn2bOvjN96QfvjBtfUAAACPRiCGZxowQLrnHuuV6x54wHolu2qwFBnakJKrpcnZ2pCSy6WfAQDwIgRieK5XXpHq1ZO2b7deza6KSnoZf3v0rJZv2qpvj55V4u7ThGIAALwEgRieq0ED6eWXrY+fekrav79Kq0lKy1NajkUz7xugV0f00cz7Bigtx6KktDwHFgsAANwVgRiebcwY6YYbpLw8aexYqaio0qvItBQrPfmgUvbvkiSl7N+l9ORDyrQUO7hYAADgjgjE8Gwmk/T++1JoqLR+vfT665VeRYTZR5GxLRUTFy9JiomLV2RsC0WY+fEAAMAbcOnmMnDpZg/z3nvWk+sCA6Vt26Q2bSr80pI5xGk5FqUnH1JkbAtFhZg1pm19rnoHAIAbc1ReIxCXgUDsYQxDGjRIWr5c6tHDerTY17fCL7cUGUpKy1OmpVgRZh91jQoiDAMA4OYcldf8HFgT4BBVCqcmk/Svf0nt20ubNllPtvvLXyq8TbOvSQkxwdWsHAAAeCImScKtVKsFWpMmv7Vfe+opazs2AACAchCI4Vaq3QJtzBjpttski0W6+24pN9ep9QIAAM9HIIZbqXYLtJKpEzEx0u7d0mOPObFaAABQGxCI4VYc0gItKkr6z3+sj2fNkhYudEKlAACgtqDLRBnoMuEaDm2B9thj0j//KUVGSj/9JDVq5JyiAQCAS9B2zckIxK7jiBZoliJDW49nKP7m6xW+6ycV97tBPsuXVaoVGwAAcG+OymtMmYDbKWmBNig2VAkxwVUKw4m7T2tlSq7e/sNjsgQGyefblTr/7HNOqhgAAHgy+hCj1rmwU0XK/l36JbqR3szPk+9zz0rXXiPdeKOrSwQAAG6EI8SodS7uVDEz9YQ23HCrTIZhbcV2/LiLKwQAAO6EQIxap7ROFWueelU57TtKp09Ld90lFRa6uEoAAOAuOKmuDJxU57nK7FRhzpS5ezcpM1OaMsXagQIAAHgsukw4GYHYs5XVqaLwf5/L/85hkqT9b/5LTcf/rvLt3AAAgFugywRwGaV1qrAUGZrT+jqtH/2wJKn51AlaPO8bWYr4PyEAAN6MQAyvUdJ9Yvj6FfpSkp+lQP0fuV8/7Tzk6tIAAIALEYjhNUq6T5w8sFv3StolKSwtVS1/d7dUUODq8gAAgIsQiOE1Luw+cU7S75u2VF5YhOpu3SyNHy8xnR4AAK/EhTngNbpGBWnH6RxN/HC5rfvEtz+u183jR8k0Z47Utq30pz+5ukwAAFDDCMTwGmZfk8a0rW/tPtGws7X7RLfhMuWdlCZNkv78Zyk21tqnGAAAeA0CMbxKSfcJO48+Kh0+LL3+unT//VLDhlLv3q4pEAAA1DjmEAOS9SIdt98uWSzSkCHS7t2urggAANQQAjEgSb6+0n//K/XsKWVkSDfdJKWkuLoqAABQAwjEQImgIOnLL6Urr5SOHpVuvtl6mWcAAFCrEYiBC0VFSUuWWO+3bZMGD5Zyc11dFQAAcCKPDMRr167VrbfeqkaNGslkMumLL76we94wDD311FNq2LChgoKC1L9/f+3fv981xcLzXHmltHy5FBEhrVsn3XEHF+4AAKAW88hAnJOTo06dOumtt94q9fkXX3xRb7zxhmbPnq1NmzYpJCREAwcOVH5+fg1XCo911VXS11/LCA6Wli1Tyu13acPxLFmKuHgHAAC1jckwPPvyXCaTSQsWLNDQoUMlWY8ON2rUSFOnTtVjjz0mScrMzFR0dLQSExM1cuTICq03KytLERERyszMVHh4uLPKhxuzFBn65oP/aeCEe+RXaNGPt4zQpr+/oTHtGsjsa3J1eQAAeD1H5TWPPEJ8OYcPH1ZKSor69+9vWxYREaEePXpow4YNZb6uoKBAWVlZdjd4t6S0PG3vmKA/1G+g85I6Lf5MVz81RUmpOa4uDQAAOFCtC8Qpv7bKio6OtlseHR1te640M2bMUEREhO3WpEkTp9YJ95dpKVZ68kElnjyu0ZKKJHVeOFeNp0yQiotdXR4AAHCQWheIq2ratGnKzMy03Y4dO+bqkuBiEWYfRca2VExcvOZKejj6ChX7+KjJp/+Rxo2TiopcXSIAAHCAWnfp5piYGElSamqqGjZsaFuempqqq666qszXBQQEKCAgwNnlwYN0jQrSjtM5mvjhcqUnH1JkbAutWrtY/aY9JFNiojUQz5ljvagHAADwWLXuCHHz5s0VExOjlStX2pZlZWVp06ZNSkhIcGFl8DRmX5PGtK2vfk3rakCPzurXtK6um/IHmT7+2BqCP/xQuvdeqbCw0uu2FBnakJKrpcnZ2pCSS/cKAABcyCOPEGdnZ+vAgQO2rw8fPqzt27erXr16io2N1aRJk/T8888rLi5OzZs315NPPqlGjRrZOlEAFWX2NSkhJth+4fDh1kB8113SJ59Yr2Y3b54UElKhdVqKDCXuPq20HIvSkw8qMraldpzO0Zi29eleAQCAC3hkIN6yZYv69u1r+3rKlCmSpNGjRysxMVF//vOflZOTowceeEAZGRm69tprtXTpUgUGBrqqZNQ2d9whLVwo3Xmn9cp2N94offWVVK9euS9NSstTWo5FM+8boJT9uxQTF6+JHy5XUlrepeEbAAA4ncf3IXYW+hCjQtavt17eOSNDatdOWrZMuuKKy75kaXK2lm/aqldH9LEtm/zZWg3o0VmDYkOdXDAAALUHfYgBd3DNNdLatVLDhtLPP1u/3rv3si+5sHuFJMXExSsytoUizPw4AgDgChwhLgNHiFEphw9LAwZIBw5IdetKn38uXX99qUPt5xBbu1dEhZiZQwwAQCU5Kq8RiMtAIEalnTolDRkibdwo+ftL774rjRlT6lBLkaGktDxlWooVYfZR16ggwjAAAJXkqLzmkSfVAe7IEhmlbXO/UuwjD6jhV59LY8dK+/fL8vSzSkovuCT8cgIdAADugUmLgAOUTINYcSpfL9/7sNaPftj6xN//rmOD79B3e37R8k1b9e3Rs0rcfZq+wwAAuBECMeAAF7ZSe2VkX935/UoteuIVFfn7q+XyLzV4YActHNFHM+8boLQci5LS8lxdMgAA+BWBGHCATEux0pMPKmX/LklSyv5dWtWxmxa/v1BZEfUUbynQFkmd9u9SevIhZVqKXVswAACwIRADDlBWK7W8hF5K/HCZtgQGqa6kryXdtvIrRTB7HwAAt0GXiTLQZQKVUVYrtbtbRWruvnSdOXtOvZ+drF4rvpQkFd90s3z+nShFRbm2cAAAPBht15yMQIzKKquV2oXL4+b9Ry3+b4pMBQVSo0bSf/9bZr/imqhPEu3fAAAei0DsZARiOM1PP0l33SXt2SP5+EhPPmm9+fo6bZP2R7APKjK2peoHmyVJp3N/W8YFQgAAnoRLNwOeqmNHacsWa5/i4mLpmWekfv2kY8ectskLu2C8+mu3i/T8Ip3OtV9GBwwAgDciEAOuEBIiffCB9NFHUmiotHat1L699O9/S074o01pXTAKcs4p7aj9MjpgAAC8EYEYcKV77pG2bpV69pSysqyXeh4yREpJcehmSuuCERASpqiml3bGiDDzawEA4F2YQ1wG5hCjRp0/L738svTUU1JhoVSvnjRrljRihENWX1oXDPs5xL91xmAOMQDAU3BSnZMRiOESO3ZI998vbd9u/fr226U335SuuKLaq6bLBACgtiEQOxmBGGUpq72a4zZgkZ5/Xvr736WiIiksTPrb36SHHnJqJwoAADwNXSYAFyiZevDt0bNavmmrvj16Vom7T8tS5MD/V5rN0rPP/ja3+Nw56ZFHpISE344cAwAAhyEQA5VQWvsyp7Uq69hRWr9eevttKTxc+uEHqVs36dFHpbNnHb89AAC8FIEYqITS2pc5tVWZj480frz1Ih4jRlinULzxhhQXJ82ebf0aAABUC4EYqITS2pfVSKuyhg2lTz+Vli+X4uOl9HRrUO7SRVq1yrnbBgCgluOkujJwUh1KU1r7shpvVXb+vPXo8FNP/TZ1YsgQ64l37drVTA0AALgBukw4GYEYZXF6l4mKSk+Xnn7a2q+4qEgymaT77pPlqaeVFBLt+voAAHAyArGTEYjhMfbskZ58Upo/X5JU5Oevrbffq0U33qaAjldzsQ0AQK1F2zUAVm3aSPPmSZs3K6N3X/meL9TV8+bozw/crrqDOik3+bhzumAAAFBLEIiB2uLqq7Xxwy8168lXtFlSqKSHMtI1YWhPNZo2VTp2zNUVAgDglgjEQC0SYfbRmVtGaMiVbXWzpC2BQfIvtKhp4mypZUvpgQekgwddXSYAAG6FQAzUIl2jghQVYtbEj75Rm8/WatmqffrqX/9T8fV9pcJC6b33rD2M77hD+u47iVMIAADgpLqycFIdPFWZXTDWr7e2Zluy5LfBXbtKkydbL/rh7+/4bboBd64NgOPws+6d6DLhZARi1Fq7dkmvvy795z9Sfr512RVXSA8+KI0bJzVqVKnV2fdmPqjI2JZu09nCnWsD4Dj8rHsvukwAqJr4eOmdd6wn2T33nBQTI/3yi/VCH7Gx0u23S0uXSsUVuxx1Ulqe0nIsmnnfAL06oo9m3jdAaTkWt+hs4c61AXAcftZRXQRiwFvVry898YR05Ij00UfSdddZL/DxxRfSTTdZT8L7+9+lkycvu5pMS7HSkw8qZf8uSVLK/l1KTz6kTEvFArUzuXNtAByHn3VUF4EY8HYBAdI990hr10o7d0qPPCLVqWMNyv/3f1LjxtKgQdJ//yvl5Fzy8gizjyJjWyomLl6SFBMXr8jYFoowu/7XizvXBsBx+FlHdTGHuAzMIYZXy821Xuzj3Xel77//bXloqDRsmHTffdL110u+vhfN3TukyNgWbjN3z51rA+A4/Kx7L06qczICMfCrAwesUyo+/FA6dOi35Y0aWdu3DR8uS89eSjpjccuzuznzHPAO/Kx7JwKxkxGI4Qpl/UJ3i1/0hqHC79Yr/V+Jilz4P/lnZfz2XHS0LRzruuskPz+nvhdnrqMyyyVVqo6a/j66xeemCjy1bsBRPPVnwBV1E4idjECMmlZW26C7W0Vq7r50l7cTurC+jIO71S3lhK5au0St1iyVKSPjt4FRUSoaPFgrO16nHzv20sn0VIe+F0e0V6rsvi5tef1gsyTpdG7F6qjptlCe2obKU+sGHMVTfwZcVbfD8pqBUmVmZhqSjMzMTFeXAi/x/ckc4/mNx42YuHhDkhETF288v/G48cn+jFKXf38yxy3q23D0rGEsWWIY48YZRr16hmG9/p1hSEaBZCyXjCfqRxtvzfvOIe+lrDocsY6y6itt+d82n6xUHY6ouzJqenuO4ql1A47iqT8DrqrbUXmN0y8BN1FW26AsN2knVFZ9GfKzdqH417+klBRpxQodGTdBaTFXyCzpRknPnU7VQ8Ov08Abu6n304+o+/5dCq/ie3FEe6XK7uvSlhfknFPa0YrXUdNtoTy1DZWn1g04iqf+DHhq3SUIxICbKKttULibtBOqUFsjf3/phht08vkX9e4Xm3RN05aaIum7oGAV+fqpzpEDum7p51oo6YykLYFBuuPr+Wryw3dSQYHj6qjiOsra16UtDwgJU1TTitdR022hPLUNlafWDTiKp/4MeGrdJZhDXAbmEKOmldU2yH7+quvaCVWmrVFpYxsV52tk8lYdWvC1YjasVWTyIfsNBAVJCQnStddabz17SmFh1aqjsu+lrH1d2nL7OcTl11HTbaE8tQ2Vp9YNOIqn/gy4qm5OqnMyAjFcwZkdDpxVR1nbLG8dBYePqvGmNWr+wzr5rlwhpabar8DHR8VXXaXUzj2U2qWnzve6Rh07tHB6pwp36TLhLt04KrtuZ9UtVf/z7qln7sP7eOpnlS4TtRCBGO7MmWfzuuRMYcOQdu2SvvtOWr9eWrfOeqW8i2THXKHgnt3lc3U36eqrpa5dpXr1nFOTC7n7WeY13RHFmZ1F3GWfAqgaR+U1PwfWBKCGJKXlKS3Hopn3DVDK/l2KiYvXxA+XKyktTwkxwW677jKZTFK7dtbbH/9orWPrfh39eoXOvPyEumSeUSdJoSm/SF8ssN5KtGwpdbsgIHfoIEVGOqfOGuKS74ED6lucfM4pdTtif7j7PgXgWgRiwAOVeTZvw85uve7KSKvfUOtat9OrmWckSaGSZjz9hvoXnlObgzukH36QDh787fbpp7+9+IorrMG4Y8ff7tu0kczmGn0PVeUu34OylFVfg7D2TqnbEfvD3fcpANciEAMe6MKzeUuOdjnqbF5nrrs6dYTGxStz0B0627SuVHJE78wZKSlJ2rLFGpC3bbNOtfjlF+tt6dLfVujnZw3F7dtb71u3tt63aiUFu9cRQnf5HpSlrPrCnVS3I/aHu+9TAK7FHOIyMIcY7syZZ/O6yxnOVa4jK0vauVPasUP66SfrbccOKTOz7NfExloDcsmtTRvpyiulxo2tQbqGucv3oLL1OasjijM7i7jLPgVQNZxU52QEYrg7V3QQqGmVraPM8YYhHTtmDcY//yzt3Svt2WO9T08vuwA/P2tYbtFCat7cen/h43r1rPOfq1G3K7pdOHNf13R9jqjDFZ93Z22zprt/OPNz7arvTUU57PdTDXPm99EVCMRORiAGPEuVuwicPm0NxiW3kqB8+LBksVx+o2FhUrNm1iPJjRtLTZrofKMrtKw4XMfCo3TEkqewVh0q2K+5/JpLG2/fD9n9OjC4Yt2V6Xbhiu4TztqmM7t/VKbmytZR2eXucFTfET+7rv/Lm2O/j676vjgsr1Xrws+1mKOujQ2gZnx/Msd4fuNxIyYu3pBkxMTFG89vPG58fzKnaissKjKMY8cMY80aw0hMNIynnjKMe+81jGuuMYyGDQ3Dety53NtZHx8jtWVr40zfGw3j9783jP/7P8N44w3D+OwzY8fny4y3P1trxLVoXaGaS3uPf9t8strv2+H7zsXr/mR/RoW36cz6Klt3dbfpiP3hiJorW0dllzvze1NRlf0euuJzVt06nPl5ciRH5TVOqgNQKzi8i4CPz29Hfnv3vvT5vDzrUeRjx6Tjx233aQeO6vyhgwo+dlgRkuoUF0sH91pvq+xX0f7X23hJ+b/WbLr3RgU2by41u0KKjpbq17e2kYuMlAqDpKMnlXfBeyzIOafMUyfdtgODK9ZdmW4Xrug+4axtOrP7R2VqrmwdlV3uDp1BKvs9dJcuJ878PrrD96U6CMQAaoUa7yIQFCTFx1tvFziQkqtvj57VzPsGKGf/Ll3VtKX+OOU5dS/K0JU56dYr8qWkSKmpyvvlpEypqQrMOadASc0k6cBu660UCb/e/k/SeUkZvr7S2JuVG1FPg0LC9EvOOeXXjVT8qq/V9NBWqUmUFBFx6S0szBr4f+WpXUsc0e3CFd0nnLVNZ3b/qEzNla2jssvdoTNIZb+H7tLlxJnfR3f4vlQHc4jLwBxiwLO4SxeBytRRMvZseqYsO7eqcWCQGuWc1Q3mPPmdSrWG59OnrSf+pafLSE/X+dPp8s/LrV6RJpMUHm4LyMXhETrmG6RzgSHKlOQTFSP/iHBd1byB/MJCpdBfbyEhvz2+8OvAwFJPLqzs/qgsR3S7cMXnxlnbdGb3j6p8ritaR2WXu98c4vJr8+TfT+7+feGkugp466239NJLLyklJUWdOnXSm2++qe7du1fotQRiwPO4y5nPjjiL+3Lr3nrsrPJOnVa97LOKL86RzqQr+UiKik6fVmjWWUXnn5NvVqa11dyFt4wMqbDQ8W/Yx8c+LIeEWI+gBwZKQUEqDgxSuslf+f4B8gsJVoO6ofINCbYbY7td/HVQkBQQYL2ZzfY3Hx+HnAVPlwnH10yXieqPdxa6TJSu1gbiTz/9VPfff79mz56tHj166LXXXtO8efO0d+9eNWjQoNzXE4iBmuVOv2BrLcOQ8vNlOZOhnw+nKv9MhiLyzinOlC//CwN0To71lp2t4nPZysrIks5ly5yXo6D8XJl+fU55ea59P35+9gH54tBc3tclNz8/+5u/v+Tnp/M+vjqebyhXvgoM9FdsnSDJz0+H8wzlyFdBgf5qUS9Y/mZ/FZp8tT+nSNmGr4ID/dU6KlT+AdblP587r3PFPgoJMqt9g1CZ/X0lX1/rfyQuuLcYJm07a1HmeSk80F9dokNkNvvJUuy8dnGOaJNX0z+7jgiiUuX2qbP+g+VO7Q499XcwgbgcPXr00NVXX62ZM2dKkoqLi9WkSRM9/PDDevzxx8t9PYEYqDnu0pLIGzii7ZJtbFGRlJtrDcfZ2bYQrZwca1guueXnX/J1UW6uDpzM0PmcXBVnnFGwr6+CCwsU7XNePhe/pqDA2gLv/HkX7TXXK/b1VbFMMvx8JR9f+fn5yiKTikw+KjYMyd8sk6+PggP8ZbooaJd1X2zy0amCIhUaJhVa8uUXGCw/Xx8ZPj4qLDZkKciXX1CIzH4+ahQaIB8fk/W1JpPtVmzyUXK2RQXFhgry8uQfEqoAP181jQiUr6/9WLvX+lTtuSJD2plRoNzzxco7l6nAiHoKMvupY/1g6/ak36bvmEwqKja0PT1PuYVFyss8q6A69RTs5yvDZFJuYZFyszIUHFFXwWY/dagfrJ9+HZuTeVbBEfUUYvZVx6gQ/XQ6V9mFxcrNSFdw3foKMfuqS4MQ+fmY7LZ3vtjQlrRc5ViKlJuRrqC69RVq9lW36NBSx24+latsS5FyMtIVUjdSIQH+6hF96Xol6bwhbUzJVralWNln0xRSr4FCA3x1dXSofjiVo3OWYuWcSVNIvSiFBlhPETtnKbIui2yg0AA/XdMorMx1rzuRrXMF55V95pRC6zVQWICfrr3i1/EXKm161MXLbr7ZeiJwDXBUXquVJ9VZLBYlJSVp2rRptmU+Pj7q37+/NmzYUOprCgoKVFBQYPs6KyvL6XUCsEpKy1NajkUz7xtgO0lj4ofLlZSWp4QY97qssqerzL4ud6yvr/UEvbCwStex+YKTDy9cd7+mdcv+nhcXW4PxhbeSsHy5ZeV9XVRknUpy/rztlnouXykZuTr43TIVnstSaEiY4rr2ks/5Qh3fvklFuTkKCQxW47i2CjIZKsy36MyR/ZKlQAH+ZkXWj5bZKFZxYaEKMtLlU1Qkf5OPAv395WMUy6e42LrdCvIpKpKPJBX99p+CgErv9YvWKSnGAetoVs11VIavpE6VHN+1EuOvruTyi/lJ6lmJsb0qOLZk/LVlPHddJdZT1rqvr+Y67GzZUmOB2FFqZSA+ffq0ioqKFB0dbbc8Ojpae/bsKfU1M2bM0DPPPFMT5QG4iLu0JPIGjmi75LJ2bD4+1jnGgYHV3n55tiVna/mmrXr163nWBTnn9NQzbyrz1Em9flcf67L8XE1+8lW1bddeu3/eoVdH/Lq80KLJr//30uVGsSZ/9I0G9OisQbGhvy4zpKIiLTuSpW83JWnmvQPkK2vQnPjBV2od10r7d/+sfz1wu3xkDXh/mPmJ4lpcqUP79ug/k+61Lb//xffVKz5OvRoEWv/zUFR02fuklGz9uOeAFr38hHwkmSQNn/668jLPaOlrz8j067JbJj6hDi1j1bFegLXe4mJbp+2dp/O069ARrXz3nzL9WvcNv5uktk0bK76u2W7sxa+tynOHMgt05JcUJX35sa2+bjcPV9OYKDUL87eOLdmvko5mWZScekrbly5QyTHM7kPuVkFernYs/0L6dR0dbxyienXr6uyZM9qx4kvb8g433Ko6desq80y6dny72LaODn1v1hVRkWoc4me3vV+yLfol7Yx2rVlqGxvfe6Aa1a+nK4J97caeyC7UyfQz2rtuhW17rXvdoIb166phkP1YGYZO5p5XavoZ7d+4xrbuVt17Kyw8XOeyMnVg83e29bS5tr/O5+fr4JZ1trEtu/ZSg7oRahB46bpP5Z3X6YwsHd620fYz0KJzD9WPiFBUSS0XvuZCpS3zwL+s18pAXBXTpk3TlClTbF9nZWWpSZMmLqwI8B7u0pLIGzii7ZK7t2NzhNLqCwgJU1TTYMe2DTOZJD8/hYcGKvzKeIVfMDYo/iqZI0MV4B8sIy5ev/y63NTtWikyVMX1YpRxwfiC3gNlalpXquBfVSwpuTrZ/qw2LpxrW0eXW0bIKC7SmsXzbMva3ftHtShjvedScrX/6Fl9uWqJbfwVDzymRpWoozJSU3K14ehZzdz9429/WXjqVZmb1lWzUrZ3IiVXa4+e1cyDe23jH/6/f8ooLtLMw/t+W8dzb+nKyFAdSM/WzKMHflv+t1m/Lb/wrxkz3lW/pnXV+KJtJpf2l48X31e/pnV1xUVjj5Y29pV/q1/TumpYyns5Utr4N+aWWt/Dr3xofY8Xjn3rM/VrWlcNSln3wdLWPet/6te0rqK85K90tXIOscViUXBwsObPn6+hQ4falo8ePVoZGRlauHBhuetgDjFQc9ylJZE3cETbJWe2THOX73lp9dlfJtuxbcMc1aqsuq3UynqP7tJOzBHtzlzxfXTEz1dlPiPu/n10JE6qK0ePHj3UvXt3vfnmm5KsJ9XFxsZq4sSJnFQHuCFPPcPZE7lLSzJ3/567S3eCmm6lVtZ7rMw66DJBl4maQiAux6effqrRo0frnXfeUffu3fXaa6/ps88+0549ey6ZW1waAjEAAIB7o8tEOe666y6lpaXpqaeeUkpKiq666iotXbq0QmEYAAAA3qPWHiGuLo4QAwAAuDdH5TX3OJ0XAAAAcBECMQAAALwagRgAAABejUAMAAAAr0YgBgAAgFcjEAMAAMCrEYgBAADg1QjEAAAA8GoEYgAAAHg1AjEAAAC8GoEYAAAAXo1ADAAAAK9GIAYAAIBX83N1Ae7KMAxJUlZWlosrAQAAQGlKclpJbqsqAnEZzp07J0lq0qSJiysBAADA5Zw7d04RERFVfr3JqG6krqWKi4t14sQJhYWFyWQyOWUbWVlZatKkiY4dO6bw8HCnbMPTsY8qhv1UPvZR+dhHFcN+Kh/7qHzso4opbz8ZhqFz586pUaNG8vGp+kxgjhCXwcfHR40bN66RbYWHh/PDUA72UcWwn8rHPiof+6hi2E/lYx+Vj31UMZfbT9U5MlyCk+oAAADg1QjEAAAA8GoEYhcKCAjQ9OnTFRAQ4OpS3Bb7qGLYT+VjH5WPfVQx7KfysY/Kxz6qmJraT5xUBwAAAK/GEWIAAAB4NQIxAAAAvBqBGAAAAF6NQAwAAACvRiB2srfeekvNmjVTYGCgevTooc2bN192/Lx589SmTRsFBgaqQ4cO+vrrr2uo0po3Y8YMXX311QoLC1ODBg00dOhQ7d2797KvSUxMlMlksrsFBgbWUMWu8fTTT1/yntu0aXPZ13jT50iSmjVrdsk+MplMmjBhQqnjveVztHbtWt16661q1KiRTCaTvvjiC7vnDcPQU089pYYNGyooKEj9+/fX/v37y11vZX+vubPL7aPCwkL95S9/UYcOHRQSEqJGjRrp/vvv14kTJy67zqr8zLqz8j5HY8aMueT9Dho0qNz11qbPkVT+firtd5TJZNJLL71U5jpr02epIv/m5+fna8KECYqMjFRoaKiGDRum1NTUy663qr/HLkYgdqJPP/1UU6ZM0fTp07V161Z16tRJAwcO1KlTp0od//3332vUqFEaN26ctm3bpqFDh2ro0KHauXNnDVdeM9asWaMJEyZo48aN+uabb1RYWKgBAwYoJyfnsq8LDw/XyZMnbbejR4/WUMWu065dO7v3vG7dujLHetvnSJJ++OEHu/3zzTffSJKGDx9e5mu84XOUk5OjTp066a233ir1+RdffFFvvPGGZs+erU2bNikkJEQDBw5Ufn5+meus7O81d3e5fZSbm6utW7fqySef1NatW/X5559r7969uu2228pdb2V+Zt1deZ8jSRo0aJDd+/34448vu87a9jmSyt9PF+6fkydP6oMPPpDJZNKwYcMuu97a8lmqyL/5kydP1qJFizRv3jytWbNGJ06c0B133HHZ9Vbl91ipDDhN9+7djQkTJti+LioqMho1amTMmDGj1PEjRowwbrnlFrtlPXr0MB588EGn1ukuTp06ZUgy1qxZU+aYOXPmGBERETVXlBuYPn260alTpwqP9/bPkWEYxqOPPmq0bNnSKC4uLvV5b/wcSTIWLFhg+7q4uNiIiYkxXnrpJduyjIwMIyAgwPj444/LXE9lf695kov3UWk2b95sSDKOHj1a5pjK/sx6ktL20ejRo40hQ4ZUaj21+XNkGBX7LA0ZMsTo16/fZcfU5s/Sxf/mZ2RkGP7+/sa8efNsY3bv3m1IMjZs2FDqOqr6e6w0HCF2EovFoqSkJPXv39+2zMfHR/3799eGDRtKfc2GDRvsxkvSwIEDyxxf22RmZkqS6tWrd9lx2dnZatq0qZo0aaIhQ4bo559/ronyXGr//v1q1KiRWrRooXvuuUfJyclljvX2z5HFYtFHH32k3/3udzKZTGWO88bP0YUOHz6slJQUu89KRESEevToUeZnpSq/12qbzMxMmUwm1alT57LjKvMzWxusXr1aDRo0UOvWrTV+/Hilp6eXOZbPkZSamqrFixdr3Lhx5Y6trZ+li//NT0pKUmFhod3nok2bNoqNjS3zc1GV32NlIRA7yenTp1VUVKTo6Gi75dHR0UpJSSn1NSkpKZUaX5sUFxdr0qRJuuaaa9S+ffsyx7Vu3VoffPCBFi5cqI8++kjFxcXq1auXjh8/XoPV1qwePXooMTFRS5cu1axZs3T48GFdd911OnfuXKnjvflzJElffPGFMjIyNGbMmDLHeOPn6GIln4fKfFaq8nutNsnPz9df/vIXjRo1SuHh4WWOq+zPrKcbNGiQ/vOf/2jlypX6xz/+oTVr1uimm25SUVFRqeO9/XMkSf/+978VFhZW7nSA2vpZKu3f/JSUFJnN5kv+s1lebioZU9HXlMWvUqMBJ5kwYYJ27txZ7tyohIQEJSQk2L7u1auX2rZtq3feeUfPPfecs8t0iZtuusn2uGPHjurRo4eaNm2qzz77rEJHF7zN+++/r5tuukmNGjUqc4w3fo5QPYWFhRoxYoQMw9CsWbMuO9bbfmZHjhxpe9yhQwd17NhRLVu21OrVq3XDDTe4sDL39cEHH+iee+4p92Te2vpZqui/+TWJI8ROUr9+ffn6+l5ydmRqaqpiYmJKfU1MTEylxtcWEydO1FdffaVVq1apcePGlXqtv7+/OnfurAMHDjipOvdTp04dtWrVqsz37K2fI0k6evSoVqxYod///veVep03fo5KPg+V+axU5fdabVASho8ePapvvvnmskeHS1Pez2xt06JFC9WvX7/M9+utn6MS3333nfbu3Vvp31NS7fgslfVvfkxMjCwWizIyMuzGl5ebSsZU9DVlIRA7idlsVteuXbVy5UrbsuLiYq1cudLuyNSFEhIS7MZL0jfffFPmeE9nGIYmTpyoBQsW6Ntvv1Xz5s0rvY6ioiLt2LFDDRs2dEKF7ik7O1sHDx4s8z172+foQnPmzFGDBg10yy23VOp13vg5at68uWJiYuw+K1lZWdq0aVOZn5Wq/F7zdCVheP/+/VqxYoUiIyMrvY7yfmZrm+PHjys9Pb3M9+uNn6MLvf/+++ratas6depU6dd68mepvH/zu3btKn9/f7vPxd69e5WcnFzm56Iqv8cuVyCc5JNPPjECAgKMxMREY9euXcYDDzxg1KlTx0hJSTEMwzDuu+8+4/HHH7eNX79+veHn52e8/PLLxu7du43p06cb/v7+xo4dO1z1Fpxq/PjxRkREhLF69Wrj5MmTtltubq5tzMX76JlnnjGWLVtmHDx40EhKSjJGjhxpBAYGGj///LMr3kKNmDp1qrF69Wrj8OHDxvr1643+/fsb9evXN06dOmUYBp+jEkVFRUZsbKzxl7/85ZLnvPVzdO7cOWPbtm3Gtm3bDEnGK6+8Ymzbts3WIeGFF14w6tSpYyxcuND46aefjCFDhhjNmzc38vLybOvo16+f8eabb9q+Lu/3mqe53D6yWCzGbbfdZjRu3NjYvn273e+pgoIC2zou3kfl/cx6msvto3PnzhmPPfaYsWHDBuPw4cPGihUrjC5duhhxcXFGfn6+bR21/XNkGOX/vBmGYWRmZhrBwcHGrFmzSl1Hbf4sVeTf/D/+8Y9GbGys8e233xpbtmwxEhISjISEBLv1tG7d2vj8889tX1fk91hFEIid7M033zRiY2MNs9lsdO/e3di4caPtuT59+hijR4+2G//ZZ58ZrVq1Msxms9GuXTtj8eLFNVxxzZFU6m3OnDm2MRfvo0mTJtn2Z3R0tHHzzTcbW7durfnia9Bdd91lNGzY0DCbzcYVV1xh3HXXXcaBAwdsz3v756jEsmXLDEnG3r17L3nOWz9Hq1atKvVnrGRfFBcXG08++aQRHR1tBAQEGDfccMMl+69p06bG9OnT7ZZd7veap7ncPjp8+HCZv6dWrVplW8fF+6i8n1lPc7l9lJubawwYMMCIiooy/P39jaZNmxp/+MMfLgm2tf1zZBjl/7wZhmG88847RlBQkJGRkVHqOmrzZ6ki/+bn5eUZDz30kFG3bl0jODjYuP32242TJ09esp4LX1OR32MVYfp15QAAAIBXYg4xAAAAvBqBGAAAAF6NQAwAAACvRiAGAACAVyMQAwAAwKsRiAEAAODVCMQAAADwagRiAAAAeDUCMQAAALwagRgAAABejUAMoFZKTEyUyWSSyWTSkSNHyhyXnJysBx98UC1btlRgYKDtNV988UWN1VqiojXXJmPGjLG95wtv7vj+V69eXWqtTz/9tKtLA1BNBGIAbuvCAOKM0JGcnKyuXbvq3Xff1aFDh1RQUODwbQAA3J+fqwsAAFd5/vnndfr0afn5+elvf/ubevfurdDQUElS06ZNHbadxMREjR07VpJ0+PBhNWvWzGHrri0aNWqkZcuW2b6+4oorXFhN6a6++mrt2LHD9nWHDh1cWA0ARyIQA6iVxowZozFjxlx2zIoVKyRJQ4cO1Z///OcaqOryKlJzbeXv76/27du7uozLCgkJcfsaAVQNUyYAeK1ffvlFktSqVSsXVwIAcCUCMQCvZbFYJFmPTgIAvBeBGECtVFbHhguXl3jmmWfsugaUNm1h1apVGj16tFq0aKHg4GCFh4erQ4cO+tOf/qQTJ06UWkPJSYEl84clqXnz5pd0KVi9evVlay7x9NNP29WelZWlp59+Wh06dFBoaKgaNGigm2++Wd9//73d606dOqUnnnhC7dq1U0hIiCIjIzVkyBBt27atQvuyKu/dWS7cR0ePHi1z3J49e2zj5s+ff8nzJ06c0OOPP64uXbooIiJC/v7+io6OVocOHTRq1CglJiYqKyvLmW8FgBthDjEAXEZ+fr7Gjh2rTz755JLndu7cqZ07d2rWrFn6+OOPdeutt9ZYXceOHVP//v21b98+27KcnBwtWbJEy5cv18cff6zhw4frp59+0s0332ybHiJJubm5+vLLL7Vs2TItWbJEffv2LXUb7vjef/zxR0lS3bp1L3vi44Vh/6qrrrJ77rvvvtPgwYMvCbynTp3SqVOntHPnTn3yySeqX7++Bg8e7LjiAbgtAjEArzJ06FB169ZN0m9dAsaPH6+HHnrINqZu3bqSJMMwdOedd2rx4sWSpFtvvVUjRoxQixYt5OPjo82bN+uf//ynkpOTdeedd2r9+vW2dUu/dSVYuHChnnjiCUnSsmXL1KhRI7uamjdvXun3MXz4cB0/flzTpk3ToEGDFBwcrHXr1mn69OnKysrSuHHj1K1bNw0ePFh5eXn629/+pj59+sjf319Lly7V3/72NxUUFGjMmDHav3+/zGaz3fqr+96dZfv27ZIuDbkXKwnEYWFhatmypW15QUGBRo4cqaysLIWFhWn8+PHq27evGjRoIIvFosOHD+v777/XggULnPUWALghAjEAr1KnTh3VqVPHblmDBg1K7R7wr3/9S4sXL5a/v7++/PJLDRo0yO75nj176r777tN1112nn3/+WZMmTdK6detsz5d0JdiyZYttWatWrRzSdm379u1as2aNevToYVvWrVs3xcXFafDgwTp37px69OghwzC0efNmu1DYvXt31a9fXxMmTFBycrIWL16s22+/3aHv3VlKjhB37tz5suNKAnHHjh3tpsesX7/eNs1j7ty5lxwB7tmzp0aNGqVXX31Vubm5jiwdgBtjDjEAlMIwDP3jH/+QJD3yyCOXBMISdevW1UsvvSTJGrb2799fI/VNmjTJLgyXuOWWW2xTCdLS0vTcc8/ZheESY8eOVWBgoCTrFIILuet7T05O1tmzZyVVPBBffCQ5JSXF9rh3795lvt7Pz0/h4eFVrBSApyEQA0Apdu3apYMHD0qS7rzzzsuOvTBYbdiwwal1lRg5cmSZz3Xs2FGSZDKZdNddd5U6JigoSHFxcZKkQ4cO2T3nru+95OiwdPkpE8eOHVN6enqp4xo2bGh7PGfOHIfWB8BzEYgBoBQXTnNISEi4pDPEhbeSq9tJ9kcgnelyvZNLpoTUr1/fNh/6cuPOnTtnt9xd33vJ/OHAwEC1adOm3HHSpYH42muvVYsWLSRZj7J3795dM2bM0Pr1621t+AB4HwIxAJTi1KlTVXpdTc07DQ4OLvM5Hx+fcsdcOK6oqMhuubu+95IjxB06dJCfX9mnwJRMl/Dz87tkbri/v78WLVqktm3bSpJ++OEH/fWvf9W1116rOnXqaNCgQZo7d+4l+wRA7cZJdQBQigsD0aJFiyp8IlyDBg2cVFHNcdf3XtkOE61bt7bNk75QfHy8duzYoUWLFmnRokVau3atDhw4oLy8PC1btkzLli3TK6+8oq+//rpWfD8BlI9ADACliIyMtD2uU6dOqV0oait3fO/Z2dm2uc7lBeLNmzeXO87X11dDhw7V0KFDJUknT57U0qVL9dZbbykpKUlJSUl68MEHab8GeAmmTABAKS7sYrB+/fpqrevCtl+ewJHv3VF++uknGYYhSbryyisvO66krVqnTp0qvP6GDRtq7Nix2rBhg7p06SJJ+uqrr5SXl1eNqgF4CgIxAJSiS5cuaty4sSTp3XffVX5+fpXXdeGf7QsKCqpdm7M58r07yoUnyl2unpdfftn2uLwjyaXx9/dXnz59JEnnz59XRkZGpdcBwPMQiAGgFD4+PvrrX/8qydqW7P77779smM3KytLMmTNLfe7CVl8l7czcmSPfu6Nc2HJt3rx5pY6ZPXu2PvzwQ9vX7dq1u2TMd999pwMHDpS5HYvFojVr1kiSQkNDFRUVVdWSAXgQ5hAD8Ajbt29XYmJiueP69eun2NhYh2zzj3/8o7755hstWLBA8+bN09atW/Xggw+qe/fuioiIUFZWlvbs2aPVq1fryy+/VGBgoCZOnHjJejp37qzAwEDl5+frySeflL+/v5o2bWrr8nDFFVcoKCjIITU7iqPeu6OUHCH28fHRRx99pPz8fA0fPlz169fXsWPH9Omnn2rJkiXy9/dXYWGhJGn+/PmKjo6268W8cuVKPffcc7ruuut0yy23qGPHjoqKilJeXp727dun2bNna+vWrZKkcePGXbabBYDag590AB5h4cKFWrhwYbnjFixY4LBAbDKZ9Omnn+rRRx/V7NmzdfDgQf35z38uc3xZHQnCwsL0yCOP6MUXX9TWrVs1YMAAu+dXrVql66+/3iE1O4qj3rsjFBcXa+fOnZKkhx56SHPnztX8+fM1f/58u3G33XabYmNjbUerH330UT344IOXXJykuLhYa9assR0JLs2QIUM0Y8YMB78TAO6KKRMAcBn+/v56++239eOPP+rhhx9Whw4dFBERIV9fX0VEROiqq67SuHHjNH/+fO3evbvM9bzwwgt67733dN1116levXry9fWtwXdRNY5679W1b98+W4/j/v37a926dRoyZIjq1KmjkJAQdenSRTNnztSCBQs0ZcoUdezYUSEhIerTp4/Gjh1rt67HHntM//vf/zR+/Hj17NlTsbGxCgwMVGBgoJo1a6YRI0boq6++0hdffOF2R+0BOI/JKDltFwCAGjZmzBj9+9//VtOmTXXkyJFSx3z66ae2S1UfOnRIzZs3r8EKy1bSPWT69Ol6+umnXVsMgGphygQAwOUKCwtt0yIk60U1/P39Jf02fzg8PLzCFwlxhpycHB0+fNhl2wfgPARiAIDLnThxQh06dLB9ffjwYVv4Lekw0b59e5f2dP7hhx/Ut29fl20fgPMwhxgA4NZKjhB37NjRtYUAqLWYQwwAcFtpaWm2DhZvv/22xo8f7+KKANRGHCEGALitCy/IwRFiAM7CEWIAAAB4NY4QAwAAwKsRiAEAAODVCMQAAADwagRiAAAAeDUCMQAAALwagRgAAABejUAMAAAAr0YgBgAAgFcjEAMAAMCrEYgBAADg1f4f2atg9qS6jboAAAAASUVORK5CYII=",
      "text/plain": [
       "<Figure size 800x600 with 1 Axes>"
      ]
     },
     "metadata": {},
     "output_type": "display_data"
    }
   ],
   "source": [
    "result = mod.fit(Daten.get_y(), pars, x=Daten.get_x())\n",
    "dynamic_resolution_array = np.arange(min(Daten.get_x()),max(Daten.get_x()), 0.001*abs(max(Daten.get_x())-min(Daten.get_x())))\n",
    "\n",
    "plt.figure(figsize=(8, 6))\n",
    "plt.errorbar(y = Daten.get_y(), yerr = Daten.get_yerr(), x = Daten.get_x(), xerr = Daten.get_xerr(), \\\n",
    "    fmt = 'o', markersize = 3.5, alpha = 1, mfc = 'black', c = 'skyblue', zorder = 0, \\\n",
    "    label = r'Werte')\n",
    "\n",
    "#plt.plot(x_fit, y_fit, label=\"Modell\", color='red')\n",
    "plt.legend()\n",
    "plt.ylabel(Daten.get_YName(), fontsize=20)\n",
    "plt.xlabel(Daten.get_XName(), fontsize=20)\n",
    "plt.title('Models')\n",
    "\n",
    "plt.plot(dynamic_resolution_array, result.eval(x = dynamic_resolution_array), 'r-', label = r'Fit: reduced $\\chi^2$ =  '+str(to_precision(result.result.redchi,3)))\n",
    "\n",
    "plt.show()"
   ]
  },
  {
   "cell_type": "code",
<<<<<<< HEAD
   "execution_count": 27,
=======
   "execution_count": 12,
>>>>>>> d420e1074d930a2cefa9d9bf7c85b8bae0902891
   "metadata": {},
   "outputs": [
    {
     "data": {
      "text/html": [
       "<h2>Fit Result</h2> <p>Model: Model(exponential)</p> <table class=\"jp-toc-ignore\"><caption class=\"jp-toc-ignore\">Fit Statistics</caption><tr><td style='text-align:left'>fitting method</td><td style='text-align:right'>leastsq</td></tr><tr><td style='text-align:left'># function evals</td><td style='text-align:right'>26</td></tr><tr><td style='text-align:left'># data points</td><td style='text-align:right'>100</td></tr><tr><td style='text-align:left'># variables</td><td style='text-align:right'>2</td></tr><tr><td style='text-align:left'>chi-square</td><td style='text-align:right'> 997.771244</td></tr><tr><td style='text-align:left'>reduced chi-square</td><td style='text-align:right'> 10.1813392</td></tr><tr><td style='text-align:left'>Akaike info crit.</td><td style='text-align:right'> 234.035385</td></tr><tr><td style='text-align:left'>Bayesian info crit.</td><td style='text-align:right'> 239.245725</td></tr><tr><td style='text-align:left'>R-squared</td><td style='text-align:right'> 0.92752311</td></tr></table><table class=\"jp-toc-ignore\"><caption>Parameters</caption><tr><th style='text-align:left'>name</th><th style='text-align:left'>value</th><th style='text-align:left'>standard error</th><th style='text-align:left'>relative error</th><th style='text-align:left'>initial value</th><th style='text-align:left'>min</th><th style='text-align:left'>max</th><th style='text-align:right'>vary</th></tr><tr><td style='text-align:left'>amplitude</td><td style='text-align:left'> 56.1181270</td><td style='text-align:left'> 1.95475176</td><td style='text-align:left'>(3.48%)</td><td style='text-align:left'>1</td><td style='text-align:left'>       -inf</td><td style='text-align:left'>        inf</td><td style='text-align:right'>True</td></tr><tr><td style='text-align:left'>decay</td><td style='text-align:left'> 2.13051574</td><td style='text-align:left'> 0.10424231</td><td style='text-align:left'>(4.89%)</td><td style='text-align:left'>1</td><td style='text-align:left'>       -inf</td><td style='text-align:left'>        inf</td><td style='text-align:right'>True</td></tr></table><table class=\"jp-toc-ignore\"><caption>Correlations (unreported values are < 0.100)</caption><tr><th style='text-align:left'>Parameter1</th><th style='text-align:left'>Parameter 2</th><th style='text-align:right'>Correlation</th></tr><tr><td style='text-align:left'>amplitude</td><td style='text-align:left'>decay</td><td style='text-align:right'>-0.7128</td></tr></table>"
      ],
      "text/plain": [
<<<<<<< HEAD
       "<lmfit.model.ModelResult at 0x1bb2d49baf0>"
      ]
     },
     "execution_count": 27,
=======
       "<lmfit.model.ModelResult at 0x14d139711d0>"
      ]
     },
     "execution_count": 12,
>>>>>>> d420e1074d930a2cefa9d9bf7c85b8bae0902891
     "metadata": {},
     "output_type": "execute_result"
    }
   ],
   "source": [
    "Daten.get_pars()"
   ]
  },
  {
   "cell_type": "code",
<<<<<<< HEAD
   "execution_count": 28,
=======
   "execution_count": 13,
>>>>>>> d420e1074d930a2cefa9d9bf7c85b8bae0902891
   "metadata": {},
   "outputs": [
    {
     "data": {
      "image/png": "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",
      "text/plain": [
       "<Figure size 720x480 with 1 Axes>"
      ]
     },
     "metadata": {},
     "output_type": "display_data"
    },
    {
     "name": "stdout",
     "output_type": "stream",
     "text": [
      "\\begin{figure}[ht] \n",
      " \t\\centering \n",
      " \t\\includegraphics[width= 0.65 \\textwidth]{Fits/m123n4_min_10_Fit.pdf} \n",
      "\t\\caption{m123n4_min_10, Fit} \n",
      " \t\\label{fig:m123n4_min_10, Fit} \n",
      "\\end{figure}\n"
     ]
    }
   ],
   "source": [
    "weights = 1/np.sqrt(Daten.get_y().shape[0])\n",
    "#weights[weights == np.inf] = 0\n",
    "Daten.set_yerr(weights)\n",
    "\n",
    "result = mod.fit(Daten.get_y(), pars, x=Daten.get_x(), weights = weights)\n",
    "finish(Daten.get_x(),Daten.get_y(),result, Daten.get_FileName(), Daten.get_yerr(), Daten.get_YName(), Daten.get_XName())"
   ]
  },
  {
   "cell_type": "code",
<<<<<<< HEAD
   "execution_count": 29,
=======
   "execution_count": 14,
>>>>>>> d420e1074d930a2cefa9d9bf7c85b8bae0902891
   "metadata": {},
   "outputs": [
    {
     "data": {
      "text/html": [
       "<h2>Fit Result</h2> <p>Model: Model(exponential)</p> <table class=\"jp-toc-ignore\"><caption class=\"jp-toc-ignore\">Fit Statistics</caption><tr><td style='text-align:left'>fitting method</td><td style='text-align:right'>leastsq</td></tr><tr><td style='text-align:left'># function evals</td><td style='text-align:right'>26</td></tr><tr><td style='text-align:left'># data points</td><td style='text-align:right'>100</td></tr><tr><td style='text-align:left'># variables</td><td style='text-align:right'>2</td></tr><tr><td style='text-align:left'>chi-square</td><td style='text-align:right'> 9.97771244</td></tr><tr><td style='text-align:left'>reduced chi-square</td><td style='text-align:right'> 0.10181339</td></tr><tr><td style='text-align:left'>Akaike info crit.</td><td style='text-align:right'>-226.481634</td></tr><tr><td style='text-align:left'>Bayesian info crit.</td><td style='text-align:right'>-221.271293</td></tr><tr><td style='text-align:left'>R-squared</td><td style='text-align:right'> 0.92752311</td></tr></table><table class=\"jp-toc-ignore\"><caption>Parameters</caption><tr><th style='text-align:left'>name</th><th style='text-align:left'>value</th><th style='text-align:left'>standard error</th><th style='text-align:left'>relative error</th><th style='text-align:left'>initial value</th><th style='text-align:left'>min</th><th style='text-align:left'>max</th><th style='text-align:right'>vary</th></tr><tr><td style='text-align:left'>amplitude</td><td style='text-align:left'> 56.1181270</td><td style='text-align:left'> 1.95475176</td><td style='text-align:left'>(3.48%)</td><td style='text-align:left'>1</td><td style='text-align:left'>       -inf</td><td style='text-align:left'>        inf</td><td style='text-align:right'>True</td></tr><tr><td style='text-align:left'>decay</td><td style='text-align:left'> 2.13051574</td><td style='text-align:left'> 0.10424231</td><td style='text-align:left'>(4.89%)</td><td style='text-align:left'>1</td><td style='text-align:left'>       -inf</td><td style='text-align:left'>        inf</td><td style='text-align:right'>True</td></tr></table><table class=\"jp-toc-ignore\"><caption>Correlations (unreported values are < 0.100)</caption><tr><th style='text-align:left'>Parameter1</th><th style='text-align:left'>Parameter 2</th><th style='text-align:right'>Correlation</th></tr><tr><td style='text-align:left'>amplitude</td><td style='text-align:left'>decay</td><td style='text-align:right'>-0.7128</td></tr></table>"
      ],
      "text/plain": [
<<<<<<< HEAD
       "<lmfit.model.ModelResult at 0x1bb2c3d6fa0>"
      ]
     },
     "execution_count": 29,
=======
       "<lmfit.model.ModelResult at 0x14d15a8f850>"
      ]
     },
     "execution_count": 14,
>>>>>>> d420e1074d930a2cefa9d9bf7c85b8bae0902891
     "metadata": {},
     "output_type": "execute_result"
    }
   ],
   "source": [
    "result"
   ]
  },
  {
   "cell_type": "code",
<<<<<<< HEAD
   "execution_count": 31,
   "metadata": {},
   "outputs": [
    {
     "ename": "ValueError",
     "evalue": "For each axis slice, the sum of the observed frequencies must agree with the sum of the expected frequencies to a relative tolerance of 1e-08, but the percent differences are:\n0.06980185404167413",
     "output_type": "error",
     "traceback": [
      "\u001b[1;31m---------------------------------------------------------------------------\u001b[0m",
      "\u001b[1;31mValueError\u001b[0m                                Traceback (most recent call last)",
      "\u001b[1;32m~\\AppData\\Local\\Temp\\ipykernel_17056\\4216915548.py\u001b[0m in \u001b[0;36m?\u001b[1;34m()\u001b[0m\n\u001b[1;32m----> 3\u001b[1;33m \u001b[1;32mfrom\u001b[0m \u001b[0mscipy\u001b[0m\u001b[1;33m.\u001b[0m\u001b[0mstats\u001b[0m \u001b[1;32mimport\u001b[0m \u001b[0mchisquare\u001b[0m\u001b[1;33m\u001b[0m\u001b[1;33m\u001b[0m\u001b[0m\n\u001b[0m\u001b[0;32m      4\u001b[0m \u001b[0mexpected\u001b[0m \u001b[1;33m=\u001b[0m \u001b[0mresult\u001b[0m\u001b[1;33m.\u001b[0m\u001b[0meval\u001b[0m\u001b[1;33m(\u001b[0m\u001b[0mx\u001b[0m \u001b[1;33m=\u001b[0m \u001b[0mDaten\u001b[0m\u001b[1;33m.\u001b[0m\u001b[0mget_x\u001b[0m\u001b[1;33m(\u001b[0m\u001b[1;33m)\u001b[0m\u001b[1;33m)\u001b[0m\u001b[1;33m\u001b[0m\u001b[1;33m\u001b[0m\u001b[0m\n\u001b[0;32m      5\u001b[0m \u001b[0mchisquare\u001b[0m\u001b[1;33m(\u001b[0m\u001b[0mDaten\u001b[0m\u001b[1;33m.\u001b[0m\u001b[0mget_y\u001b[0m\u001b[1;33m(\u001b[0m\u001b[1;33m)\u001b[0m\u001b[1;33m,\u001b[0m \u001b[0mexpected\u001b[0m\u001b[1;33m)\u001b[0m\u001b[1;33m\u001b[0m\u001b[1;33m\u001b[0m\u001b[0m\n",
      "\u001b[1;32mc:\\Users\\marie\\miniconda3\\lib\\site-packages\\scipy\\stats\\_stats_py.py\u001b[0m in \u001b[0;36m?\u001b[1;34m(f_obs, f_exp, ddof, axis)\u001b[0m\n\u001b[0;32m   8171\u001b[0m     ...           axis=1)\n\u001b[0;32m   8172\u001b[0m     \u001b[0mPower_divergenceResult\u001b[0m\u001b[1;33m(\u001b[0m\u001b[0mstatistic\u001b[0m\u001b[1;33m=\u001b[0m\u001b[0marray\u001b[0m\u001b[1;33m(\u001b[0m\u001b[1;33m[\u001b[0m\u001b[1;36m3.5\u001b[0m \u001b[1;33m,\u001b[0m \u001b[1;36m9.25\u001b[0m\u001b[1;33m]\u001b[0m\u001b[1;33m)\u001b[0m\u001b[1;33m,\u001b[0m \u001b[0mpvalue\u001b[0m\u001b[1;33m=\u001b[0m\u001b[0marray\u001b[0m\u001b[1;33m(\u001b[0m\u001b[1;33m[\u001b[0m\u001b[1;36m0.62338763\u001b[0m\u001b[1;33m,\u001b[0m \u001b[1;36m0.09949846\u001b[0m\u001b[1;33m]\u001b[0m\u001b[1;33m)\u001b[0m\u001b[1;33m)\u001b[0m\u001b[1;33m\u001b[0m\u001b[1;33m\u001b[0m\u001b[0m\n\u001b[0;32m   8173\u001b[0m \u001b[1;33m\u001b[0m\u001b[0m\n\u001b[0;32m   8174\u001b[0m     \"\"\"  # noqa: E501\n\u001b[1;32m-> 8175\u001b[1;33m     return power_divergence(f_obs, f_exp=f_exp, ddof=ddof, axis=axis,\n\u001b[0m\u001b[0;32m   8176\u001b[0m                             lambda_=\"pearson\")\n",
      "\u001b[1;32mc:\\Users\\marie\\miniconda3\\lib\\site-packages\\scipy\\stats\\_stats_py.py\u001b[0m in \u001b[0;36m?\u001b[1;34m(f_obs, f_exp, ddof, axis, lambda_)\u001b[0m\n\u001b[0;32m   7968\u001b[0m                    \u001b[1;34mf\"frequencies must agree with the sum of the \"\u001b[0m\u001b[1;33m\u001b[0m\u001b[1;33m\u001b[0m\u001b[0m\n\u001b[0;32m   7969\u001b[0m                    \u001b[1;34mf\"expected frequencies to a relative tolerance \"\u001b[0m\u001b[1;33m\u001b[0m\u001b[1;33m\u001b[0m\u001b[0m\n\u001b[0;32m   7970\u001b[0m                    \u001b[1;34mf\"of {rtol}, but the percent differences are:\\n\"\u001b[0m\u001b[1;33m\u001b[0m\u001b[1;33m\u001b[0m\u001b[0m\n\u001b[0;32m   7971\u001b[0m                    f\"{relative_diff}\")\n\u001b[1;32m-> 7972\u001b[1;33m             \u001b[1;32mraise\u001b[0m \u001b[0mValueError\u001b[0m\u001b[1;33m(\u001b[0m\u001b[0mmsg\u001b[0m\u001b[1;33m)\u001b[0m\u001b[1;33m\u001b[0m\u001b[1;33m\u001b[0m\u001b[0m\n\u001b[0m\u001b[0;32m   7973\u001b[0m \u001b[1;33m\u001b[0m\u001b[0m\n\u001b[0;32m   7974\u001b[0m     \u001b[1;32melse\u001b[0m\u001b[1;33m:\u001b[0m\u001b[1;33m\u001b[0m\u001b[1;33m\u001b[0m\u001b[0m\n\u001b[0;32m   7975\u001b[0m         \u001b[1;31m# Ignore 'invalid' errors so the edge case of a data set with length 0\u001b[0m\u001b[1;33m\u001b[0m\u001b[1;33m\u001b[0m\u001b[0m\n",
      "\u001b[1;31mValueError\u001b[0m: For each axis slice, the sum of the observed frequencies must agree with the sum of the expected frequencies to a relative tolerance of 1e-08, but the percent differences are:\n0.06980185404167413"
=======
   "execution_count": 15,
   "metadata": {},
   "outputs": [
    {
     "name": "stdout",
     "output_type": "stream",
     "text": [
      "p value is 0.9982280178969969\n",
      "Independent (H0 holds true)\n"
>>>>>>> d420e1074d930a2cefa9d9bf7c85b8bae0902891
     ]
    }
   ],
   "source": [
<<<<<<< HEAD
    "from scipy.stats import chisquare\n",
    "expected = result.eval(x = Daten.get_x())\n",
    "chisquare(Daten.get_y(), expected)"
=======
    "from scipy.stats import chi2_contingency\n",
    "\n",
    "# defining the table\n",
    "data = [Daten.get_y(), result.eval(x=Daten.get_x())]\n",
    "stat, p, dof, expected = chi2_contingency(data)\n",
    "\n",
    "# interpret p-value\n",
    "alpha = 0.05\n",
    "print(\"p value is \" + str(p))\n",
    "if p <= alpha:\n",
    "    print('Dependent (reject H0)')\n",
    "else:\n",
    "    print('Independent (H0 holds true)')"
>>>>>>> d420e1074d930a2cefa9d9bf7c85b8bae0902891
   ]
  }
 ],
 "metadata": {
  "kernelspec": {
   "display_name": "base",
   "language": "python",
   "name": "python3"
  },
  "language_info": {
   "codemirror_mode": {
    "name": "ipython",
    "version": 3
   },
   "file_extension": ".py",
   "mimetype": "text/x-python",
   "name": "python",
   "nbconvert_exporter": "python",
   "pygments_lexer": "ipython3",
   "version": "3.9.7"
  }
 },
 "nbformat": 4,
 "nbformat_minor": 2
}
